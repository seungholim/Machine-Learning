{
 "cells": [
  {
   "cell_type": "code",
   "execution_count": 7,
   "metadata": {
    "ExecuteTime": {
     "end_time": "2019-03-23T11:18:33.872535Z",
     "start_time": "2019-03-23T11:18:33.861188Z"
    }
   },
   "outputs": [
    {
     "data": {
      "text/plain": [
       "['.DS_Store',\n",
       " 'activity_labels.txt',\n",
       " 'features.txt',\n",
       " 'features_info.txt',\n",
       " 'README.txt',\n",
       " 'test',\n",
       " 'train']"
      ]
     },
     "execution_count": 7,
     "metadata": {},
     "output_type": "execute_result"
    }
   ],
   "source": [
    "import pandas as pd\n",
    "import matplotlib.pyplot as plt\n",
    "import os\n",
    "os.listdir('../data/HAR')"
   ]
  },
  {
   "cell_type": "markdown",
   "metadata": {},
   "source": [
    "# load dataset"
   ]
  },
  {
   "cell_type": "code",
   "execution_count": 15,
   "metadata": {
    "ExecuteTime": {
     "end_time": "2019-03-23T11:47:18.655361Z",
     "start_time": "2019-03-23T11:47:18.646717Z"
    }
   },
   "outputs": [],
   "source": [
    "def get_human_dataset() :\n",
    "    feature_name_df = pd.read_csv('../data/HAR/features.txt', sep = '\\s+', header = None, names = ['column_index', 'column_name'])\n",
    "    \n",
    "    feature_name = feature_name_df.iloc[:,1].values.tolist()\n",
    "    \n",
    "    X_train = pd.read_csv('../data/HAR/X_train.txt', sep = '\\s+', names = feature_name)\n",
    "    X_test = pd.read_csv('../data/HAR/X_test.txt', sep = '\\s+', names = feature_name)\n",
    "    \n",
    "    y_train = pd.read_csv('../data/HAR/y_train.txt', sep = '\\s+', names = ['action'], header = None)\n",
    "    y_test = pd.read_csv('../data/HAR/y_test.txt', sep = '\\s+', names = ['action'], header = None)\n",
    "    \n",
    "    return X_train, X_test, y_train,y_test"
   ]
  },
  {
   "cell_type": "code",
   "execution_count": 16,
   "metadata": {
    "ExecuteTime": {
     "end_time": "2019-03-23T11:47:33.797053Z",
     "start_time": "2019-03-23T11:47:19.286193Z"
    }
   },
   "outputs": [],
   "source": [
    "X_train, X_test, y_train, y_test = get_human_dataset()"
   ]
  },
  {
   "cell_type": "code",
   "execution_count": 17,
   "metadata": {
    "ExecuteTime": {
     "end_time": "2019-03-23T11:47:33.874880Z",
     "start_time": "2019-03-23T11:47:33.803792Z"
    }
   },
   "outputs": [
    {
     "name": "stdout",
     "output_type": "stream",
     "text": [
      "<class 'pandas.core.frame.DataFrame'>\n",
      "RangeIndex: 7352 entries, 0 to 7351\n",
      "Columns: 561 entries, tBodyAcc-mean()-X to angle(Z,gravityMean)\n",
      "dtypes: float64(561)\n",
      "memory usage: 31.5 MB\n"
     ]
    }
   ],
   "source": [
    "X_train.info()"
   ]
  },
  {
   "cell_type": "code",
   "execution_count": 19,
   "metadata": {
    "ExecuteTime": {
     "end_time": "2019-03-23T11:48:00.906550Z",
     "start_time": "2019-03-23T11:48:00.894501Z"
    }
   },
   "outputs": [
    {
     "data": {
      "text/plain": [
       "6    1407\n",
       "5    1374\n",
       "4    1286\n",
       "1    1226\n",
       "2    1073\n",
       "3     986\n",
       "Name: action, dtype: int64"
      ]
     },
     "execution_count": 19,
     "metadata": {},
     "output_type": "execute_result"
    }
   ],
   "source": [
    "y_train.action.value_counts()"
   ]
  },
  {
   "cell_type": "markdown",
   "metadata": {},
   "source": [
    "# default tree"
   ]
  },
  {
   "cell_type": "code",
   "execution_count": 20,
   "metadata": {
    "ExecuteTime": {
     "end_time": "2019-03-23T11:49:30.338513Z",
     "start_time": "2019-03-23T11:49:19.710684Z"
    }
   },
   "outputs": [
    {
     "name": "stdout",
     "output_type": "stream",
     "text": [
      "decision tree accuracy :  0.8547675602307431\n"
     ]
    }
   ],
   "source": [
    "from sklearn.tree import DecisionTreeClassifier\n",
    "from sklearn.metrics import accuracy_score\n",
    "\n",
    "dt = DecisionTreeClassifier(random_state = 156)\n",
    "dt.fit(X_train, y_train)\n",
    "pred = dt.predict(X_test)\n",
    "accuracy = accuracy_score(y_test, pred)\n",
    "\n",
    "print('decision tree accuracy : ', accuracy)"
   ]
  },
  {
   "cell_type": "code",
   "execution_count": 21,
   "metadata": {
    "ExecuteTime": {
     "end_time": "2019-03-23T11:49:45.952531Z",
     "start_time": "2019-03-23T11:49:45.943685Z"
    }
   },
   "outputs": [
    {
     "name": "stdout",
     "output_type": "stream",
     "text": [
      "Decision tree 기본 하이퍼 파라미터 : \n",
      " {'class_weight': None, 'criterion': 'gini', 'max_depth': None, 'max_features': None, 'max_leaf_nodes': None, 'min_impurity_decrease': 0.0, 'min_impurity_split': None, 'min_samples_leaf': 1, 'min_samples_split': 2, 'min_weight_fraction_leaf': 0.0, 'presort': False, 'random_state': 156, 'splitter': 'best'}\n"
     ]
    }
   ],
   "source": [
    "print('Decision tree 기본 하이퍼 파라미터 : \\n', dt.get_params())"
   ]
  },
  {
   "cell_type": "markdown",
   "metadata": {},
   "source": [
    "# hyperparameter"
   ]
  },
  {
   "cell_type": "code",
   "execution_count": 22,
   "metadata": {
    "ExecuteTime": {
     "end_time": "2019-03-23T11:51:18.152173Z",
     "start_time": "2019-03-23T11:51:18.147743Z"
    }
   },
   "outputs": [],
   "source": [
    "from sklearn.model_selection import GridSearchCV"
   ]
  },
  {
   "cell_type": "markdown",
   "metadata": {},
   "source": [
    "## max_depth"
   ]
  },
  {
   "cell_type": "markdown",
   "metadata": {},
   "source": [
    "### cv"
   ]
  },
  {
   "cell_type": "code",
   "execution_count": 24,
   "metadata": {
    "ExecuteTime": {
     "end_time": "2019-03-23T11:55:40.231597Z",
     "start_time": "2019-03-23T11:52:52.414190Z"
    }
   },
   "outputs": [
    {
     "name": "stdout",
     "output_type": "stream",
     "text": [
      "Fitting 5 folds for each of 7 candidates, totalling 35 fits\n"
     ]
    },
    {
     "name": "stderr",
     "output_type": "stream",
     "text": [
      "[Parallel(n_jobs=1)]: Using backend SequentialBackend with 1 concurrent workers.\n",
      "[Parallel(n_jobs=1)]: Done  35 out of  35 | elapsed:  2.7min finished\n"
     ]
    },
    {
     "name": "stdout",
     "output_type": "stream",
     "text": [
      "GridSearchCV best accuracy :  0.8525571273122959\n",
      "GridSearchCV best hyperparameter :  {'max_depth': 8}\n"
     ]
    }
   ],
   "source": [
    "params = {\n",
    "    'max_depth' : [6,8,10,12,16,20,24]\n",
    "}\n",
    "\n",
    "grid_cv = GridSearchCV(dt, param_grid=params, scoring='accuracy', cv = 5, verbose = 1)\n",
    "grid_cv.fit(X_train, y_train)\n",
    "\n",
    "print('GridSearchCV best accuracy : ', grid_cv.best_score_)\n",
    "print('GridSearchCV best hyperparameter : ', grid_cv.best_params_)"
   ]
  },
  {
   "cell_type": "code",
   "execution_count": 26,
   "metadata": {
    "ExecuteTime": {
     "end_time": "2019-03-23T11:56:05.469932Z",
     "start_time": "2019-03-23T11:56:05.452977Z"
    }
   },
   "outputs": [
    {
     "data": {
      "text/html": [
       "<div>\n",
       "<style scoped>\n",
       "    .dataframe tbody tr th:only-of-type {\n",
       "        vertical-align: middle;\n",
       "    }\n",
       "\n",
       "    .dataframe tbody tr th {\n",
       "        vertical-align: top;\n",
       "    }\n",
       "\n",
       "    .dataframe thead th {\n",
       "        text-align: right;\n",
       "    }\n",
       "</style>\n",
       "<table border=\"1\" class=\"dataframe\">\n",
       "  <thead>\n",
       "    <tr style=\"text-align: right;\">\n",
       "      <th></th>\n",
       "      <th>param_max_depth</th>\n",
       "      <th>mean_test_score</th>\n",
       "      <th>mean_train_score</th>\n",
       "    </tr>\n",
       "  </thead>\n",
       "  <tbody>\n",
       "    <tr>\n",
       "      <th>0</th>\n",
       "      <td>6</td>\n",
       "      <td>0.850925</td>\n",
       "      <td>0.944848</td>\n",
       "    </tr>\n",
       "    <tr>\n",
       "      <th>1</th>\n",
       "      <td>8</td>\n",
       "      <td>0.852557</td>\n",
       "      <td>0.982693</td>\n",
       "    </tr>\n",
       "    <tr>\n",
       "      <th>2</th>\n",
       "      <td>10</td>\n",
       "      <td>0.850925</td>\n",
       "      <td>0.993403</td>\n",
       "    </tr>\n",
       "    <tr>\n",
       "      <th>3</th>\n",
       "      <td>12</td>\n",
       "      <td>0.844124</td>\n",
       "      <td>0.997212</td>\n",
       "    </tr>\n",
       "    <tr>\n",
       "      <th>4</th>\n",
       "      <td>16</td>\n",
       "      <td>0.852149</td>\n",
       "      <td>0.999660</td>\n",
       "    </tr>\n",
       "    <tr>\n",
       "      <th>5</th>\n",
       "      <td>20</td>\n",
       "      <td>0.851605</td>\n",
       "      <td>0.999966</td>\n",
       "    </tr>\n",
       "    <tr>\n",
       "      <th>6</th>\n",
       "      <td>24</td>\n",
       "      <td>0.850245</td>\n",
       "      <td>1.000000</td>\n",
       "    </tr>\n",
       "  </tbody>\n",
       "</table>\n",
       "</div>"
      ],
      "text/plain": [
       "  param_max_depth  mean_test_score  mean_train_score\n",
       "0               6         0.850925          0.944848\n",
       "1               8         0.852557          0.982693\n",
       "2              10         0.850925          0.993403\n",
       "3              12         0.844124          0.997212\n",
       "4              16         0.852149          0.999660\n",
       "5              20         0.851605          0.999966\n",
       "6              24         0.850245          1.000000"
      ]
     },
     "execution_count": 26,
     "metadata": {},
     "output_type": "execute_result"
    }
   ],
   "source": [
    "cv_result_df = pd.DataFrame(grid_cv.cv_results_)\n",
    "\n",
    "cv_result_df[['param_max_depth','mean_test_score','mean_train_score']]"
   ]
  },
  {
   "cell_type": "code",
   "execution_count": 45,
   "metadata": {
    "ExecuteTime": {
     "end_time": "2019-03-23T12:02:27.297046Z",
     "start_time": "2019-03-23T12:02:27.133266Z"
    }
   },
   "outputs": [
    {
     "data": {
      "image/png": "[encoded data removed]",
      "text/plain": [
       "<Figure size 432x288 with 1 Axes>"
      ]
     },
     "metadata": {
      "needs_background": "light"
     },
     "output_type": "display_data"
    }
   ],
   "source": [
    "%matplotlib inline\n",
    "plt.plot(cv_result_df.param_max_depth, cv_result_df.mean_train_score, color = 'blue', label = 'mean_train_score')\n",
    "plt.plot(cv_result_df.param_max_depth, cv_result_df.mean_test_score, color = 'red', label = 'mean_test_score')\n",
    "plt.legend()\n",
    "plt.show()"
   ]
  },
  {
   "cell_type": "markdown",
   "metadata": {},
   "source": [
    "cv max_depth = 8 일때, best"
   ]
  },
  {
   "cell_type": "markdown",
   "metadata": {},
   "source": [
    "### test"
   ]
  },
  {
   "cell_type": "code",
   "execution_count": 47,
   "metadata": {
    "ExecuteTime": {
     "end_time": "2019-03-23T12:08:40.800139Z",
     "start_time": "2019-03-23T12:08:15.518870Z"
    }
   },
   "outputs": [
    {
     "name": "stdout",
     "output_type": "stream",
     "text": [
      "max_depth 6 accuracy : 0.8551\n",
      "max_depth 8 accuracy : 0.8734\n",
      "max_depth 10 accuracy : 0.8717\n",
      "max_depth 12 accuracy : 0.8616\n",
      "max_depth 16 accuracy : 0.8612\n",
      "max_depth 20 accuracy : 0.8605\n",
      "max_depth 24 accuracy : 0.8595\n"
     ]
    }
   ],
   "source": [
    "max_depth = [6,8,10,12,16,20,24]\n",
    "accuracy_list = []\n",
    "\n",
    "for depth in max_depth :\n",
    "    dt = DecisionTreeClassifier(max_depth=depth)\n",
    "    dt.fit(X_train,y_train)\n",
    "    pred = dt.predict(X_test)\n",
    "    accuracy = accuracy_score(y_test, pred)\n",
    "    accuracy_list.append(accuracy)\n",
    "    print('max_depth {0} accuracy : {1:.4f}'.format(depth, accuracy))"
   ]
  },
  {
   "cell_type": "code",
   "execution_count": 48,
   "metadata": {
    "ExecuteTime": {
     "end_time": "2019-03-23T12:08:41.039318Z",
     "start_time": "2019-03-23T12:08:40.865962Z"
    }
   },
   "outputs": [
    {
     "data": {
      "text/plain": [
       "[<matplotlib.lines.Line2D at 0x1db1a27d9b0>]"
      ]
     },
     "execution_count": 48,
     "metadata": {},
     "output_type": "execute_result"
    },
    {
     "data": {
      "image/png": "[encoded data removed]",
      "text/plain": [
       "<Figure size 432x288 with 1 Axes>"
      ]
     },
     "metadata": {
      "needs_background": "light"
     },
     "output_type": "display_data"
    }
   ],
   "source": [
    "plt.plot(max_depth, accuracy_list)"
   ]
  },
  {
   "cell_type": "markdown",
   "metadata": {},
   "source": [
    "test도 max_depth = 8일 때 best"
   ]
  },
  {
   "cell_type": "markdown",
   "metadata": {},
   "source": [
    "## min_samples_split"
   ]
  },
  {
   "cell_type": "markdown",
   "metadata": {},
   "source": [
    "## cv"
   ]
  },
  {
   "cell_type": "code",
   "execution_count": 50,
   "metadata": {
    "ExecuteTime": {
     "end_time": "2019-03-23T12:13:27.361891Z",
     "start_time": "2019-03-23T12:11:27.606042Z"
    }
   },
   "outputs": [
    {
     "name": "stdout",
     "output_type": "stream",
     "text": [
      "Fitting 5 folds for each of 8 candidates, totalling 40 fits\n"
     ]
    },
    {
     "name": "stderr",
     "output_type": "stream",
     "text": [
      "[Parallel(n_jobs=1)]: Using backend SequentialBackend with 1 concurrent workers.\n",
      "[Parallel(n_jobs=1)]: Done  40 out of  40 | elapsed:  1.9min finished\n"
     ]
    },
    {
     "name": "stdout",
     "output_type": "stream",
     "text": [
      "GridSearchCV best accuracy0.8550\n",
      "GridSearchCV best hyperparameter{'max_depth': 8, 'min_samples_split': 16}\n"
     ]
    }
   ],
   "source": [
    "params = {\n",
    "    'max_depth' : [8,12,16,20],\n",
    "    'min_samples_split' : [16,24]\n",
    "}\n",
    "\n",
    "grid_cv = GridSearchCV(dt, param_grid=params, scoring='accuracy', cv = 5, verbose = 1)\n",
    "grid_cv.fit(X_train,y_train)\n",
    "\n",
    "print(\"GridSearchCV best accuracy{0:.4f}\".format(grid_cv.best_score_))\n",
    "print(\"GridSearchCV best hyperparameter{0}\".format(grid_cv.best_params_))"
   ]
  },
  {
   "cell_type": "markdown",
   "metadata": {},
   "source": [
    "## test"
   ]
  },
  {
   "cell_type": "code",
   "execution_count": 51,
   "metadata": {
    "ExecuteTime": {
     "end_time": "2019-03-23T12:15:42.778360Z",
     "start_time": "2019-03-23T12:15:42.765384Z"
    }
   },
   "outputs": [
    {
     "name": "stdout",
     "output_type": "stream",
     "text": [
      "accuracy :  0.8737699355276553\n"
     ]
    }
   ],
   "source": [
    "best_dt = grid_cv.best_estimator_\n",
    "pred1 = best_dt.predict(X_test)\n",
    "accuracy = accuracy_score(y_test, pred1)\n",
    "print('accuracy : ' , accuracy)"
   ]
  },
  {
   "cell_type": "markdown",
   "metadata": {},
   "source": [
    "# feature importance"
   ]
  },
  {
   "cell_type": "code",
   "execution_count": 52,
   "metadata": {
    "ExecuteTime": {
     "end_time": "2019-03-23T12:16:03.882813Z",
     "start_time": "2019-03-23T12:16:03.684712Z"
    }
   },
   "outputs": [],
   "source": [
    "import seaborn as sns"
   ]
  },
  {
   "cell_type": "code",
   "execution_count": 57,
   "metadata": {
    "ExecuteTime": {
     "end_time": "2019-03-23T12:18:48.703840Z",
     "start_time": "2019-03-23T12:18:48.414060Z"
    }
   },
   "outputs": [
    {
     "data": {
      "image/png": "[encoded data removed]",
      "text/plain": [
       "<Figure size 576x432 with 1 Axes>"
      ]
     },
     "metadata": {
      "needs_background": "light"
     },
     "output_type": "display_data"
    }
   ],
   "source": [
    "fea_imp = best_dt.feature_importances_\n",
    "fea_imp = pd.Series(fea_imp, index = X_train.columns)\n",
    "#sorting TOP20\n",
    "fea_imp = fea_imp.sort_values(ascending = False)[:20]\n",
    "\n",
    "plt.figure(figsize = (8,6))\n",
    "plt.title('Feature Importance Top 20')\n",
    "sns.barplot(fea_imp, fea_imp.index)\n",
    "plt.show()"
   ]
  }
 ],
 "metadata": {
  "hide_input": false,
  "kernelspec": {
   "display_name": "Python 3",
   "language": "python",
   "name": "python3"
  },
  "language_info": {
   "codemirror_mode": {
    "name": "ipython",
    "version": 3
   },
   "file_extension": ".py",
   "mimetype": "text/x-python",
   "name": "python",
   "nbconvert_exporter": "python",
   "pygments_lexer": "ipython3",
   "version": "3.7.1"
  },
  "toc": {
   "base_numbering": 1,
   "nav_menu": {},
   "number_sections": true,
   "sideBar": true,
   "skip_h1_title": false,
   "title_cell": "Table of Contents",
   "title_sidebar": "Contents",
   "toc_cell": false,
   "toc_position": {},
   "toc_section_display": true,
   "toc_window_display": true
  }
 },
 "nbformat": 4,
 "nbformat_minor": 2
}
