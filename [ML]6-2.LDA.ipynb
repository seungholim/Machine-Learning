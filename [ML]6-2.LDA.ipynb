{
 "cells": [
  {
   "cell_type": "markdown",
   "metadata": {},
   "source": [
    "# LDA\n",
    "- Linear Discriminant Analysis\n",
    "- 입력 데이터 세트를 저차원 공간에 투영해 차원을 축소하는 기법.\n",
    "- PCA는 비지도 학습, LDA는 지도학습.(분류!)\n",
    "- 개별 클래스를 분별할 수 있는 기준을 최대한 유지하면서 차원을 축소\n",
    "- 입력 데이터의 결정 값 클래스를 최대한으로 분리할 수 있는 축을 찾는다.\n",
    "- 클래스 간 분산은 최대한 크게, 클래스 내부의 분산은 최대한 작게\n",
    "\n",
    "![image](https://www.dtreg.com/uploaded/pageimg/LdaSepGood.jpg)\n",
    "\n",
    "![image](https://sebastianraschka.com/images/blog/2014/linear-discriminant-analysis/lda_1.png)\n"
   ]
  },
  {
   "cell_type": "markdown",
   "metadata": {},
   "source": [
    "# iris example"
   ]
  },
  {
   "cell_type": "code",
   "execution_count": 2,
   "metadata": {
    "ExecuteTime": {
     "end_time": "2019-04-17T12:07:22.659268Z",
     "start_time": "2019-04-17T12:07:22.650328Z"
    }
   },
   "outputs": [],
   "source": [
    "from sklearn.discriminant_analysis import LinearDiscriminantAnalysis\n",
    "from sklearn.preprocessing import StandardScaler\n",
    "from sklearn.datasets import load_iris\n",
    "\n",
    "iris = load_iris()\n",
    "iris_scaled = StandardScaler().fit_transform(iris.data)"
   ]
  },
  {
   "cell_type": "code",
   "execution_count": 4,
   "metadata": {
    "ExecuteTime": {
     "end_time": "2019-04-17T12:08:35.382316Z",
     "start_time": "2019-04-17T12:08:35.361375Z"
    }
   },
   "outputs": [
    {
     "data": {
      "text/plain": [
       "(150, 2)"
      ]
     },
     "execution_count": 4,
     "metadata": {},
     "output_type": "execute_result"
    }
   ],
   "source": [
    "lda = LinearDiscriminantAnalysis(n_components = 2)\n",
    "lda.fit(iris_scaled, iris.target)\n",
    "iris_lda = lda.transform(iris_scaled)\n",
    "iris_lda.shape"
   ]
  },
  {
   "cell_type": "code",
   "execution_count": 7,
   "metadata": {
    "ExecuteTime": {
     "end_time": "2019-04-17T12:09:45.812796Z",
     "start_time": "2019-04-17T12:09:45.626535Z"
    }
   },
   "outputs": [],
   "source": [
    "import pandas as pd\n",
    "import matplotlib.pyplot as plt\n",
    "%matplotlib inline"
   ]
  },
  {
   "cell_type": "code",
   "execution_count": 8,
   "metadata": {
    "ExecuteTime": {
     "end_time": "2019-04-17T12:10:38.079619Z",
     "start_time": "2019-04-17T12:10:38.074600Z"
    }
   },
   "outputs": [],
   "source": [
    "lda_columns = ['lda_component_1','lda_component_2']\n",
    "\n",
    "iris_lda_df = pd.DataFrame(iris_lda, columns = lda_columns)\n",
    "iris_lda_df['target'] = iris.target"
   ]
  },
  {
   "cell_type": "code",
   "execution_count": 9,
   "metadata": {
    "ExecuteTime": {
     "end_time": "2019-04-17T12:12:21.302050Z",
     "start_time": "2019-04-17T12:12:21.129867Z"
    }
   },
   "outputs": [
    {
     "data": {
      "image/png": "[encoded data removed]",
      "text/plain": [
       "<Figure size 432x288 with 1 Axes>"
      ]
     },
     "metadata": {
      "needs_background": "light"
     },
     "output_type": "display_data"
    }
   ],
   "source": [
    "markers = ['^','s','o']\n",
    "\n",
    "for i, marker in enumerate(markers) :\n",
    "    x_axis_data = iris_lda_df[iris_lda_df['target'] == i]['lda_component_1']\n",
    "    y_axis_data = iris_lda_df[iris_lda_df['target'] == i]['lda_component_2']\n",
    "    \n",
    "    plt.scatter(x_axis_data, y_axis_data, marker = marker, label = iris.target_names[i])\n",
    "    \n",
    "plt.legend(loc = 'upper right')\n",
    "plt.xlabel('lda_component_1')\n",
    "plt.ylabel('lda_component_2')\n",
    "\n",
    "plt.show()"
   ]
  }
 ],
 "metadata": {
  "hide_input": false,
  "kernelspec": {
   "display_name": "Python 3",
   "language": "python",
   "name": "python3"
  },
  "language_info": {
   "codemirror_mode": {
    "name": "ipython",
    "version": 3
   },
   "file_extension": ".py",
   "mimetype": "text/x-python",
   "name": "python",
   "nbconvert_exporter": "python",
   "pygments_lexer": "ipython3",
   "version": "3.7.1"
  },
  "toc": {
   "base_numbering": 1,
   "nav_menu": {},
   "number_sections": true,
   "sideBar": true,
   "skip_h1_title": false,
   "title_cell": "Table of Contents",
   "title_sidebar": "Contents",
   "toc_cell": false,
   "toc_position": {},
   "toc_section_display": true,
   "toc_window_display": false
  }
 },
 "nbformat": 4,
 "nbformat_minor": 2
}
