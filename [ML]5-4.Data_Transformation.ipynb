{
 "cells": [
  {
   "cell_type": "markdown",
   "metadata": {},
   "source": [
    "# 선형 회귀 모델을 위한 데이터 변환\n",
    "- 선형 모델은 일반적으로 피처와 타깃값 간에 선형의 관계가 있다고 가정\n",
    "- 정규 분포 형태 선호\n",
    "- 무조건 예측 성능이 향상되는 것은 아니지만, 스케일링/정규화 해주는 것이 일반적\n",
    "\n",
    "# Scaling\n",
    "## StandardScaler, MinMaxScaler\n",
    "## 다항 특성을 적용하여 변환\n",
    "## log transformation\n",
    "- 타겟값은 일반적으로 log변환"
   ]
  },
  {
   "cell_type": "code",
   "execution_count": 13,
   "metadata": {
    "ExecuteTime": {
     "end_time": "2019-04-09T04:40:34.783577Z",
     "start_time": "2019-04-09T04:40:34.775908Z"
    }
   },
   "outputs": [],
   "source": [
    "from sklearn.preprocessing import StandardScaler, MinMaxScaler, PolynomialFeatures\n",
    "from sklearn.model_selection import cross_val_score\n",
    "import numpy as np\n",
    "import pandas as pd"
   ]
  },
  {
   "cell_type": "code",
   "execution_count": 17,
   "metadata": {
    "ExecuteTime": {
     "end_time": "2019-04-09T04:41:36.041880Z",
     "start_time": "2019-04-09T04:41:36.033330Z"
    }
   },
   "outputs": [],
   "source": [
    "def get_scaled_data(method = 'None', p_degree = None, input_data = None) :\n",
    "    \n",
    "    if method == 'Standard' :\n",
    "        scaled_data = StandardScaler().fit_transform(input_data)\n",
    "    elif method == 'MinMax' :\n",
    "        scaled_data = MinMaxScaler().fit_transform(input_data)\n",
    "    elif method == 'Log' :\n",
    "        scaled_data = np.log1p(input_data)\n",
    "    else :\n",
    "        scaled_data = input_data\n",
    "        \n",
    "    if p_degree :\n",
    "        scaled_data = PolynomialFeatures(degree = p_degree, include_bias=False).fit_transform(scaled_data)\n",
    "        \n",
    "    return scaled_data"
   ]
  },
  {
   "cell_type": "code",
   "execution_count": 31,
   "metadata": {
    "ExecuteTime": {
     "end_time": "2019-04-09T04:47:33.475128Z",
     "start_time": "2019-04-09T04:47:33.448090Z"
    }
   },
   "outputs": [],
   "source": [
    "from sklearn.datasets import load_boston\n",
    "\n",
    "boston = load_boston()\n",
    "boston_df = pd.DataFrame(boston.data, columns = boston.feature_names)\n",
    "boston_df['price'] = boston.target\n",
    "\n",
    "X_data = boston_df.drop('price', axis = 1)\n",
    "y_target = boston_df.price\n",
    "\n",
    "def get_linear_reg_eval(model_name, params = None, X_data_n = None, y_target_n = None, verbose = True) :\n",
    "    coeff_df = pd.DataFrame()\n",
    "    \n",
    "    if verbose : print('#####', model_name,'#####')\n",
    "        \n",
    "    for param in params :\n",
    "        if model_name == 'Ridge' : model = Ridge(alpha = param)\n",
    "        elif model_name == 'Lasso' : model = Lasso(alpha = param)\n",
    "        elif model_name == 'ElasticNet' : model = ElasticNet(alpha = param, l1_ratio = 0.7)\n",
    "            \n",
    "        neg_mse_scores = cross_val_score(model, X_data_n, y_target_n, scoring = 'neg_mean_squared_error', cv= 5)\n",
    "        avg_rmse = np.mean(np.sqrt(-1*neg_mse_scores))\n",
    "        \n",
    "        print('alpha {0}일 때, 5fold average RMSE : {1:.3f}'.format(param, avg_rmse))\n",
    "        \n",
    "        model.fit(X_data_n, y_target_n)\n",
    "        coeff = pd.Series(data = model.coef_, index = X_data.columns)\n",
    "        colname = 'alpha:'+str(param)\n",
    "        coeff_df[colname] = coeff\n",
    "        \n",
    "    return coeff_df"
   ]
  },
  {
   "cell_type": "code",
   "execution_count": 27,
   "metadata": {
    "ExecuteTime": {
     "end_time": "2019-04-09T04:45:06.031249Z",
     "start_time": "2019-04-09T04:45:06.023277Z"
    }
   },
   "outputs": [
    {
     "data": {
      "text/plain": [
       "(506, 13)"
      ]
     },
     "execution_count": 27,
     "metadata": {},
     "output_type": "execute_result"
    }
   ],
   "source": [
    "X_data.shape"
   ]
  },
  {
   "cell_type": "code",
   "execution_count": 28,
   "metadata": {
    "ExecuteTime": {
     "end_time": "2019-04-09T04:45:21.807277Z",
     "start_time": "2019-04-09T04:45:21.801226Z"
    }
   },
   "outputs": [
    {
     "data": {
      "text/plain": [
       "(506, 104)"
      ]
     },
     "execution_count": 28,
     "metadata": {},
     "output_type": "execute_result"
    }
   ],
   "source": [
    "X_data_scaled.shape"
   ]
  },
  {
   "cell_type": "code",
   "execution_count": 30,
   "metadata": {
    "ExecuteTime": {
     "end_time": "2019-04-09T04:46:16.011703Z",
     "start_time": "2019-04-09T04:46:16.000286Z"
    }
   },
   "outputs": [
    {
     "data": {
      "text/plain": [
       "(506, 13)"
      ]
     },
     "execution_count": 30,
     "metadata": {},
     "output_type": "execute_result"
    }
   ],
   "source": [
    "StandardScaler().fit_transform(X_data).shape"
   ]
  },
  {
   "cell_type": "code",
   "execution_count": 34,
   "metadata": {
    "ExecuteTime": {
     "end_time": "2019-04-09T04:51:08.667028Z",
     "start_time": "2019-04-09T04:51:08.137752Z"
    }
   },
   "outputs": [
    {
     "name": "stdout",
     "output_type": "stream",
     "text": [
      "\n",
      " ##변환 유형 : None, Polynomial Degree:None\n",
      "alpha 0.1일 때, 5fold average RMSE : 5.788\n",
      "alpha 1일 때, 5fold average RMSE : 5.653\n",
      "alpha 10일 때, 5fold average RMSE : 5.518\n",
      "alpha 100일 때, 5fold average RMSE : 5.330\n",
      "\n",
      " ##변환 유형 : Standard, Polynomial Degree:None\n",
      "alpha 0.1일 때, 5fold average RMSE : 5.826\n",
      "alpha 1일 때, 5fold average RMSE : 5.803\n",
      "alpha 10일 때, 5fold average RMSE : 5.637\n",
      "alpha 100일 때, 5fold average RMSE : 5.421\n",
      "\n",
      " ##변환 유형 : Standard, Polynomial Degree:2\n",
      "alpha 0.1일 때, 5fold average RMSE : 8.827\n",
      "alpha 1일 때, 5fold average RMSE : 6.871\n",
      "alpha 10일 때, 5fold average RMSE : 5.485\n",
      "alpha 100일 때, 5fold average RMSE : 4.634\n",
      "\n",
      " ##변환 유형 : MinMax, Polynomial Degree:None\n",
      "alpha 0.1일 때, 5fold average RMSE : 5.764\n",
      "alpha 1일 때, 5fold average RMSE : 5.465\n",
      "alpha 10일 때, 5fold average RMSE : 5.754\n",
      "alpha 100일 때, 5fold average RMSE : 7.635\n",
      "\n",
      " ##변환 유형 : MinMax, Polynomial Degree:2\n",
      "alpha 0.1일 때, 5fold average RMSE : 5.298\n",
      "alpha 1일 때, 5fold average RMSE : 4.323\n",
      "alpha 10일 때, 5fold average RMSE : 5.185\n",
      "alpha 100일 때, 5fold average RMSE : 6.538\n",
      "\n",
      " ##변환 유형 : Log, Polynomial Degree:None\n",
      "alpha 0.1일 때, 5fold average RMSE : 4.770\n",
      "alpha 1일 때, 5fold average RMSE : 4.676\n",
      "alpha 10일 때, 5fold average RMSE : 4.836\n",
      "alpha 100일 때, 5fold average RMSE : 6.241\n"
     ]
    }
   ],
   "source": [
    "from sklearn.linear_model import Ridge\n",
    "alphas = [0.1,1,10,100]\n",
    "\n",
    "scaled_methods = [(None, None), ('Standard', None), ('Standard',2),\n",
    "                 ('MinMax', None), ('MinMax', 2), ('Log', None)]\n",
    "\n",
    "for scaled_method in scaled_methods :\n",
    "    X_data_scaled = get_scaled_data(method = scaled_method[0], p_degree=scaled_method[1],\n",
    "                                   input_data=X_data)\n",
    "    print('\\n ##변환 유형 : {0}, Polynomial Degree:{1}'.format(scaled_method[0], scaled_method[1]))\n",
    "    \n",
    "    for alpha in alphas :\n",
    "        ridge = Ridge(alpha=alpha)\n",
    "        neg_mse_scores = cross_val_score(ridge, X_data_scaled, y_target, scoring = 'neg_mean_squared_error', cv= 5)\n",
    "        avg_rmse = np.mean(np.sqrt(-1*neg_mse_scores))\n",
    "        \n",
    "        print('alpha {0}일 때, 5fold average RMSE : {1:.3f}'.format(alpha, avg_rmse))"
   ]
  },
  {
   "cell_type": "markdown",
   "metadata": {},
   "source": [
    "# logistic regression\n",
    "\n",
    "##### penalty : l2 or l1 regulariztion\n",
    "##### C : 1/alpha"
   ]
  },
  {
   "cell_type": "code",
   "execution_count": 36,
   "metadata": {
    "ExecuteTime": {
     "end_time": "2019-04-09T04:57:03.903107Z",
     "start_time": "2019-04-09T04:57:03.867274Z"
    }
   },
   "outputs": [],
   "source": [
    "import matplotlib.pyplot as plt\n",
    "%matplotlib inline\n",
    "\n",
    "from sklearn.datasets import load_breast_cancer\n",
    "from sklearn.linear_model import LogisticRegression\n",
    "\n",
    "cancer = load_breast_cancer()"
   ]
  },
  {
   "cell_type": "code",
   "execution_count": 40,
   "metadata": {
    "ExecuteTime": {
     "end_time": "2019-04-09T05:01:34.497184Z",
     "start_time": "2019-04-09T05:01:34.485120Z"
    }
   },
   "outputs": [],
   "source": [
    "from sklearn.model_selection import train_test_split\n",
    "scaler = StandardScaler()\n",
    "data_scaled = scaler.fit_transform(cancer.data)\n",
    "\n",
    "X_train, X_test, y_train, y_test = train_test_split(data_scaled, cancer.target,\n",
    "                                                  test_size = 0.3, random_state = 0)"
   ]
  },
  {
   "cell_type": "code",
   "execution_count": 45,
   "metadata": {
    "ExecuteTime": {
     "end_time": "2019-04-09T05:05:38.707759Z",
     "start_time": "2019-04-09T05:05:38.691984Z"
    }
   },
   "outputs": [
    {
     "name": "stdout",
     "output_type": "stream",
     "text": [
      "accuracy : 0.982\n",
      "roc_auc : 0.979\n"
     ]
    }
   ],
   "source": [
    "import warnings\n",
    "warnings.filterwarnings('ignore')\n",
    "from sklearn.metrics import accuracy_score, roc_auc_score\n",
    "\n",
    "lr = LogisticRegression()\n",
    "lr.fit(X_train, y_train)\n",
    "lr_pred = lr.predict(X_test)\n",
    "\n",
    "print('accuracy : {0:.3f}'.format(accuracy_score(y_test, lr_pred)))\n",
    "print('roc_auc : {0:.3f}'.format(roc_auc_score(y_test, lr_pred)))"
   ]
  },
  {
   "cell_type": "code",
   "execution_count": 46,
   "metadata": {
    "ExecuteTime": {
     "end_time": "2019-04-09T05:05:40.999126Z",
     "start_time": "2019-04-09T05:05:40.739549Z"
    }
   },
   "outputs": [
    {
     "name": "stdout",
     "output_type": "stream",
     "text": [
      "best hyperparameter : {'C': 0.1, 'penalty': 'l2'}, best accuracy : 0.979\n"
     ]
    }
   ],
   "source": [
    "from sklearn.model_selection import GridSearchCV\n",
    "\n",
    "params = {'penalty' : ['l2','l1'],\n",
    "         'C' : [0.01,0.1,1,1,5,10]}\n",
    "\n",
    "grid_cv = GridSearchCV(lr, param_grid=params, scoring='accuracy', cv = 3)\n",
    "grid_cv.fit(data_scaled, cancer.target)\n",
    "\n",
    "print('best hyperparameter : {0}, best accuracy : {1:.3f}'.format(grid_cv.best_params_, grid_cv.best_score_))"
   ]
  },
  {
   "cell_type": "code",
   "execution_count": 49,
   "metadata": {
    "ExecuteTime": {
     "end_time": "2019-04-09T05:08:14.645386Z",
     "start_time": "2019-04-09T05:08:14.629355Z"
    }
   },
   "outputs": [
    {
     "name": "stdout",
     "output_type": "stream",
     "text": [
      "default logistic regression accuracy : 0.982\n",
      "tuning logistic regression accuracy : 0.971\n"
     ]
    }
   ],
   "source": [
    "#default lr\n",
    "lr.fit(X_train ,y_train)\n",
    "#hyperparameter tuning lr\n",
    "lr_best = LogisticRegression(C=0.1, penalty='l2')\n",
    "lr_best.fit(X_train, y_train)\n",
    "\n",
    "print('default logistic regression accuracy : {0:.3f}'.format( accuracy_score(lr.predict(X_test), y_test) ))\n",
    "print('tuning logistic regression accuracy : {0:.3f}'.format( accuracy_score(lr_best.predict(X_test), y_test) )) #???"
   ]
  }
 ],
 "metadata": {
  "hide_input": false,
  "kernelspec": {
   "display_name": "Python 3",
   "language": "python",
   "name": "python3"
  },
  "language_info": {
   "codemirror_mode": {
    "name": "ipython",
    "version": 3
   },
   "file_extension": ".py",
   "mimetype": "text/x-python",
   "name": "python",
   "nbconvert_exporter": "python",
   "pygments_lexer": "ipython3",
   "version": "3.7.1"
  },
  "toc": {
   "base_numbering": 1,
   "nav_menu": {},
   "number_sections": true,
   "sideBar": true,
   "skip_h1_title": false,
   "title_cell": "Table of Contents",
   "title_sidebar": "Contents",
   "toc_cell": false,
   "toc_position": {},
   "toc_section_display": true,
   "toc_window_display": true
  }
 },
 "nbformat": 4,
 "nbformat_minor": 2
}
