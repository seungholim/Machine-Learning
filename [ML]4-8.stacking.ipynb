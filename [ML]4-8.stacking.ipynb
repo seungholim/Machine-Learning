{
 "cells": [
  {
   "cell_type": "markdown",
   "metadata": {},
   "source": [
    "# Stacking\n",
    "- 개별 알고리즘으로 예측한 데이터를 기반으로 다시 예측을 수행한다는 것\n",
    "- 개별 알고리즘의 예측 결과 데이터 세트를 최종적인 메타 데이터 세트로 만들어 별도의 ML알고리즘으로 최종 학습.\n",
    "- 반드시 성능 향상의 보장은 없지만, 일반적으로 성능이 비슷한 모델을 결합해 좀 더 나은 성능 향상을 도출"
   ]
  },
  {
   "cell_type": "markdown",
   "metadata": {},
   "source": [
    "# cacner ex"
   ]
  },
  {
   "cell_type": "code",
   "execution_count": 1,
   "metadata": {
    "ExecuteTime": {
     "end_time": "2019-03-27T10:19:46.813038Z",
     "start_time": "2019-03-27T10:19:46.804542Z"
    }
   },
   "outputs": [],
   "source": [
    "import numpy as np\n",
    "from sklearn.neighbors import KNeighborsClassifier\n",
    "from sklearn.ensemble import RandomForestClassifier\n",
    "from sklearn.ensemble import AdaBoostClassifier\n",
    "from sklearn.tree import DecisionTreeClassifier\n",
    "from sklearn.linear_model import LogisticRegression\n",
    "\n",
    "from sklearn.datasets import load_breast_cancer\n",
    "from sklearn.model_selection import train_test_split\n",
    "from sklearn.metrics import accuracy_score"
   ]
  },
  {
   "cell_type": "code",
   "execution_count": 2,
   "metadata": {},
   "outputs": [],
   "source": [
    "cancer = load_breast_cancer()\n",
    "\n",
    "X_data = cancer.data\n",
    "y_label = cancer.target\n",
    "\n",
    "X_train, X_test, y_train, y_test = train_test_split(X_data, y_label, test_size = 0.2, random_state = 0)"
   ]
  },
  {
   "cell_type": "markdown",
   "metadata": {},
   "source": [
    "## 개별 모델"
   ]
  },
  {
   "cell_type": "code",
   "execution_count": 34,
   "metadata": {},
   "outputs": [],
   "source": [
    "knn = KNeighborsClassifier(n_neighbors=4, n_jobs=-1)\n",
    "rf = RandomForestClassifier(n_estimators=100, random_state=0, n_jobs=-1)\n",
    "dt = DecisionTreeClassifier()\n",
    "ada = AdaBoostClassifier(n_estimators=100)\n",
    "\n",
    "#final model\n",
    "lr_final = LogisticRegression(C = 10, n_jobs=8)"
   ]
  },
  {
   "cell_type": "code",
   "execution_count": 6,
   "metadata": {},
   "outputs": [
    {
     "name": "stdout",
     "output_type": "stream",
     "text": [
      "KNN accuracy : 0.9211\n",
      "rf accuracy : 0.9649\n",
      "dt accuracy : 0.9123\n",
      "ada accuracy : 0.9561\n"
     ]
    }
   ],
   "source": [
    "knn.fit(X_train, y_train)\n",
    "rf.fit(X_train, y_train)\n",
    "dt.fit(X_train, y_train)\n",
    "ada.fit(X_train, y_train)\n",
    "\n",
    "knn_pred = knn.predict(X_test)\n",
    "rf_pred = rf.predict(X_test)\n",
    "dt_pred = dt.predict(X_test)\n",
    "ada_pred = ada.predict(X_test)\n",
    "\n",
    "print('KNN accuracy : {0:.4f}'.format(accuracy_score(y_test, knn_pred)))\n",
    "print('rf accuracy : {0:.4f}'.format(accuracy_score(y_test, rf_pred)))\n",
    "print('dt accuracy : {0:.4f}'.format(accuracy_score(y_test, dt_pred)))\n",
    "print('ada accuracy : {0:.4f}'.format(accuracy_score(y_test, ada_pred)))"
   ]
  },
  {
   "cell_type": "markdown",
   "metadata": {},
   "source": [
    "## final pred"
   ]
  },
  {
   "cell_type": "code",
   "execution_count": 35,
   "metadata": {},
   "outputs": [
    {
     "name": "stdout",
     "output_type": "stream",
     "text": [
      "(4, 114)\n",
      "(114, 4)\n"
     ]
    }
   ],
   "source": [
    "pred = np.array([knn_pred, rf_pred, dt_pred, ada_pred])\n",
    "print(pred.shape)\n",
    "\n",
    "pred = np.transpose(pred)\n",
    "print(pred.shape)"
   ]
  },
  {
   "cell_type": "code",
   "execution_count": 36,
   "metadata": {},
   "outputs": [
    {
     "name": "stdout",
     "output_type": "stream",
     "text": [
      "final model accuracy : 0.9737\n"
     ]
    },
    {
     "name": "stderr",
     "output_type": "stream",
     "text": [
      "/usr/local/lib/python3.5/dist-packages/sklearn/linear_model/logistic.py:433: FutureWarning: Default solver will be changed to 'lbfgs' in 0.22. Specify a solver to silence this warning.\n",
      "  FutureWarning)\n",
      "/usr/local/lib/python3.5/dist-packages/sklearn/linear_model/logistic.py:1300: UserWarning: 'n_jobs' > 1 does not have any effect when 'solver' is set to 'liblinear'. Got 'n_jobs' = 8.\n",
      "  \" = {}.\".format(effective_n_jobs(self.n_jobs)))\n"
     ]
    }
   ],
   "source": [
    "#????\n",
    "lr_final.fit(pred, y_test)\n",
    "final = lr_final.predict(pred)\n",
    "\n",
    "print('final model accuracy : {0:.4f}'.format(accuracy_score(y_test, final)))"
   ]
  },
  {
   "cell_type": "markdown",
   "metadata": {},
   "source": [
    "# CV stacking"
   ]
  },
  {
   "cell_type": "markdown",
   "metadata": {},
   "source": [
    "## step1\n",
    "각 모델별로 원본 학습/테스트 데이터를 예측한 결고값을 기반으로 메타 모델을 위한 train, test 데이터 생성"
   ]
  },
  {
   "cell_type": "code",
   "execution_count": 10,
   "metadata": {},
   "outputs": [],
   "source": [
    "from sklearn.model_selection import KFold\n",
    "from sklearn.metrics import mean_absolute_error"
   ]
  },
  {
   "cell_type": "code",
   "execution_count": 37,
   "metadata": {},
   "outputs": [],
   "source": [
    "def get_stacking_base_dataset(model, X_train_n, y_train_n, X_test_n, n_folds) :\n",
    "    \n",
    "    kf = KFold(n_splits=n_folds, shuffle = False, random_state = 0)\n",
    "    \n",
    "    train_fold_pred = np.zeros((X_train_n.shape[0], 1))\n",
    "    test_pred = np.zeros((X_test_n.shape[0], n_folds))\n",
    "    print(model.__class__.__name__, 'model start')\n",
    "    \n",
    "    for folder_counter, (train_index, valid_index) in enumerate(kf.split(X_train_n)) :\n",
    "        print('\\t fold set : ', folder_counter, 'start')\n",
    "        \n",
    "        X_tr = X_train_n[train_index]\n",
    "        y_tr = y_train_n[train_index]\n",
    "        X_te = X_train_n[valid_index]\n",
    "        \n",
    "        model.fit(X_tr, y_tr)\n",
    "        train_fold_pred[valid_index, :] = model.predict(X_te).reshape(-1,1)\n",
    "        test_pred[:, folder_counter] = model.predict(X_test_n)\n",
    "        \n",
    "    test_pred_mean = np.mean(test_pred, axis = 1).reshape(-1,1)\n",
    "    \n",
    "    return train_fold_pred, test_pred_mean"
   ]
  },
  {
   "cell_type": "code",
   "execution_count": 38,
   "metadata": {},
   "outputs": [
    {
     "name": "stdout",
     "output_type": "stream",
     "text": [
      "X_train shape :  (455, 30)\n",
      "X_test shape :  (114, 30)\n"
     ]
    }
   ],
   "source": [
    "print('X_train shape : ', X_train.shape)\n",
    "print('X_test shape : ', X_test.shape)"
   ]
  },
  {
   "cell_type": "code",
   "execution_count": 39,
   "metadata": {},
   "outputs": [
    {
     "name": "stdout",
     "output_type": "stream",
     "text": [
      "KNeighborsClassifier model start\n",
      "\t fold set :  0 start\n",
      "\t fold set :  1 start\n",
      "\t fold set :  2 start\n",
      "\t fold set :  3 start\n",
      "\t fold set :  4 start\n",
      "\t fold set :  5 start\n",
      "\t fold set :  6 start\n",
      "RandomForestClassifier model start\n",
      "\t fold set :  0 start\n",
      "\t fold set :  1 start\n",
      "\t fold set :  2 start\n",
      "\t fold set :  3 start\n",
      "\t fold set :  4 start\n",
      "\t fold set :  5 start\n",
      "\t fold set :  6 start\n",
      "DecisionTreeClassifier model start\n",
      "\t fold set :  0 start\n",
      "\t fold set :  1 start\n",
      "\t fold set :  2 start\n",
      "\t fold set :  3 start\n",
      "\t fold set :  4 start\n",
      "\t fold set :  5 start\n",
      "\t fold set :  6 start\n",
      "AdaBoostClassifier model start\n",
      "\t fold set :  0 start\n",
      "\t fold set :  1 start\n",
      "\t fold set :  2 start\n",
      "\t fold set :  3 start\n",
      "\t fold set :  4 start\n",
      "\t fold set :  5 start\n",
      "\t fold set :  6 start\n"
     ]
    }
   ],
   "source": [
    "knn_train, knn_test = get_stacking_base_dataset(knn, X_train, y_train, X_test, 7)\n",
    "rf_train, rf_test = get_stacking_base_dataset(rf, X_train, y_train, X_test, 7)\n",
    "dt_train, dt_test = get_stacking_base_dataset(dt, X_train, y_train, X_test, 7)\n",
    "ada_train, ada_test = get_stacking_base_dataset(ada, X_train, y_train, X_test, 7)"
   ]
  },
  {
   "cell_type": "code",
   "execution_count": 40,
   "metadata": {},
   "outputs": [
    {
     "name": "stdout",
     "output_type": "stream",
     "text": [
      "(455, 1)\n",
      "(114, 1)\n"
     ]
    }
   ],
   "source": [
    "print(knn_train.shape)\n",
    "print(knn_test.shape)"
   ]
  },
  {
   "cell_type": "markdown",
   "metadata": {},
   "source": [
    "## step2\n",
    "step1에서 개별 모델들이 생성한 학습용 데이터와 테스트용 데이터를 모두 스태킹 형태로 합친다.  메타 모델은 최종적으로 생성된 학습 데이터 세트와 원본 학습 데이터의 레이블 데이터를 기반으로 학습한 뒤, 최종적으로 생성된 테스트 데이터 세트를 예측하고, 원본 테스트 데이터의 레이블 데이터를 기반으로 평가"
   ]
  },
  {
   "cell_type": "code",
   "execution_count": 41,
   "metadata": {},
   "outputs": [
    {
     "name": "stdout",
     "output_type": "stream",
     "text": [
      "original train features shape :  (455, 30) original test features shape (114, 30)\n",
      "stacking train features shape :  (455, 4) stacking test features shape (114, 4)\n"
     ]
    }
   ],
   "source": [
    "Stack_final_X_train = np.concatenate([knn_train, rf_train, dt_train, ada_train], axis = 1)\n",
    "Stack_final_X_test = np.concatenate([knn_test, rf_test, dt_test, ada_test], axis = 1)\n",
    "\n",
    "print('original train features shape : ', X_train.shape, 'original test features shape', X_test.shape)\n",
    "print('stacking train features shape : ', Stack_final_X_train.shape, 'stacking test features shape', Stack_final_X_test.shape)"
   ]
  },
  {
   "cell_type": "code",
   "execution_count": 42,
   "metadata": {},
   "outputs": [
    {
     "name": "stdout",
     "output_type": "stream",
     "text": [
      "final accuracy : 0.9737\n"
     ]
    },
    {
     "name": "stderr",
     "output_type": "stream",
     "text": [
      "/usr/local/lib/python3.5/dist-packages/sklearn/linear_model/logistic.py:433: FutureWarning: Default solver will be changed to 'lbfgs' in 0.22. Specify a solver to silence this warning.\n",
      "  FutureWarning)\n",
      "/usr/local/lib/python3.5/dist-packages/sklearn/linear_model/logistic.py:1300: UserWarning: 'n_jobs' > 1 does not have any effect when 'solver' is set to 'liblinear'. Got 'n_jobs' = 8.\n",
      "  \" = {}.\".format(effective_n_jobs(self.n_jobs)))\n"
     ]
    }
   ],
   "source": [
    "lr_final.fit(Stack_final_X_train, y_train)\n",
    "stack_final = lr_final.predict(Stack_final_X_test)\n",
    "\n",
    "print('final accuracy : {0:.4f}'.format(accuracy_score(y_test, stack_final)))"
   ]
  }
 ],
 "metadata": {
  "hide_input": false,
  "kernelspec": {
   "display_name": "Python 3",
   "language": "python",
   "name": "python3"
  },
  "language_info": {
   "codemirror_mode": {
    "name": "ipython",
    "version": 3
   },
   "file_extension": ".py",
   "mimetype": "text/x-python",
   "name": "python",
   "nbconvert_exporter": "python",
   "pygments_lexer": "ipython3",
   "version": "3.5.2"
  },
  "toc": {
   "base_numbering": 1,
   "nav_menu": {},
   "number_sections": true,
   "sideBar": true,
   "skip_h1_title": false,
   "title_cell": "Table of Contents",
   "title_sidebar": "Contents",
   "toc_cell": false,
   "toc_position": {},
   "toc_section_display": true,
   "toc_window_display": true
  }
 },
 "nbformat": 4,
 "nbformat_minor": 2
}
