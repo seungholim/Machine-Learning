{
 "cells": [
  {
   "cell_type": "markdown",
   "metadata": {},
   "source": [
    "# Accuracy\n",
    "\n",
    "정확도 = 예측 결과가 동일한 데이터 건수 / 전체 예측 데이터 건수\n",
    "\n",
    "- imbalanced 레이블 값 분포에서 적합한 평가 지표가 아니다"
   ]
  },
  {
   "cell_type": "markdown",
   "metadata": {},
   "source": [
    "## MNIST 예제"
   ]
  },
  {
   "cell_type": "code",
   "execution_count": 1,
   "metadata": {
    "ExecuteTime": {
     "end_time": "2019-03-22T07:50:55.179105Z",
     "start_time": "2019-03-22T07:50:48.429396Z"
    }
   },
   "outputs": [],
   "source": [
    "from sklearn.datasets import load_digits\n",
    "from sklearn.model_selection import train_test_split\n",
    "from sklearn.base import BaseEstimator\n",
    "from sklearn.metrics import accuracy_score\n",
    "import numpy as np\n",
    "import pandas as pd"
   ]
  },
  {
   "cell_type": "code",
   "execution_count": 2,
   "metadata": {
    "ExecuteTime": {
     "end_time": "2019-03-22T07:50:55.200732Z",
     "start_time": "2019-03-22T07:50:55.186308Z"
    }
   },
   "outputs": [],
   "source": [
    "class MyFakeClassifier(BaseEstimator) :\n",
    "    #do nothing\n",
    "    def fit(self, X,y) :\n",
    "        pass\n",
    "    #모두 0으로 예측\n",
    "    def predict(self, X) :\n",
    "        return np.zeros((len(X), 1), dtype = bool)"
   ]
  },
  {
   "cell_type": "code",
   "execution_count": 3,
   "metadata": {
    "ExecuteTime": {
     "end_time": "2019-03-22T07:50:55.417052Z",
     "start_time": "2019-03-22T07:50:55.205535Z"
    }
   },
   "outputs": [],
   "source": [
    "digits = load_digits()\n",
    "\n",
    "#7이면 True\n",
    "y = (digits.target == 7).astype(int)\n",
    "X_train, X_test, y_train, y_test = train_test_split(digits.data, y, random_state = 11)"
   ]
  },
  {
   "cell_type": "code",
   "execution_count": 4,
   "metadata": {
    "ExecuteTime": {
     "end_time": "2019-03-22T07:50:55.446331Z",
     "start_time": "2019-03-22T07:50:55.426219Z"
    }
   },
   "outputs": [
    {
     "name": "stdout",
     "output_type": "stream",
     "text": [
      "label test set shape :  (450,)\n",
      "test set 0, 1 분포\n",
      "0    405\n",
      "1     45\n",
      "dtype: int64\n"
     ]
    }
   ],
   "source": [
    "print('label test set shape : ', y_test.shape)\n",
    "print('test set 0, 1 분포')\n",
    "print(pd.Series(y_test).value_counts())"
   ]
  },
  {
   "cell_type": "markdown",
   "metadata": {},
   "source": [
    "- 0이 90% 1이 10% 인 분류문제에서 0으로 다 예측해도, 정확도는 90%\n",
    "- 모델의 성능을 평가하는 적절한 지표라고 할 수 없다."
   ]
  },
  {
   "cell_type": "code",
   "execution_count": 5,
   "metadata": {
    "ExecuteTime": {
     "end_time": "2019-03-22T07:50:55.462350Z",
     "start_time": "2019-03-22T07:50:55.451040Z"
    }
   },
   "outputs": [
    {
     "name": "stdout",
     "output_type": "stream",
     "text": [
      "fakeclf의 accuracy :  0.9\n"
     ]
    }
   ],
   "source": [
    "fakeclf = MyFakeClassifier()\n",
    "fakeclf.fit(X_train, y_train)\n",
    "fakepred = fakeclf.predict(X_test)\n",
    "\n",
    "print('fakeclf의 accuracy : ', accuracy_score(y_test, fakepred))"
   ]
  },
  {
   "cell_type": "markdown",
   "metadata": {},
   "source": [
    "# Confusion Matrix\n",
    "- TN : 예측값 negative(0) 실제 값 negative(0) [0.0]\n",
    "- FP : 예측값 positive(1) 실제 값 negative(0) [0.1]\n",
    "- FN : 예측값 negative(0) 실제 값 positive(1) [1.0]\n",
    "- TP : 예측값 positive(1) 실제 값 positive(1) [1,1]"
   ]
  },
  {
   "cell_type": "code",
   "execution_count": 6,
   "metadata": {
    "ExecuteTime": {
     "end_time": "2019-03-22T07:51:53.212574Z",
     "start_time": "2019-03-22T07:51:53.187398Z"
    }
   },
   "outputs": [
    {
     "data": {
      "text/plain": [
       "array([[405,   0],\n",
       "       [ 45,   0]], dtype=int64)"
      ]
     },
     "execution_count": 6,
     "metadata": {},
     "output_type": "execute_result"
    }
   ],
   "source": [
    "from sklearn.metrics import confusion_matrix\n",
    "confusion_matrix(y_test, fakepred)"
   ]
  },
  {
   "cell_type": "markdown",
   "metadata": {},
   "source": [
    "# accuracy\n",
    "$$ accuracy = \\frac{TN+TP}{TN+FP+FN+TP} $$\n",
    "\n",
    "- 불균형한 데이터에서는 부적절한 평가 지표"
   ]
  },
  {
   "cell_type": "markdown",
   "metadata": {},
   "source": [
    "# precision, recall(sensitivity)\n",
    "\n",
    "$$ precision = \\frac{TP}{FP+TP} $$\n",
    "- positive로 예측한 값들 중 실제 값이 positive인 비율\n",
    "- 예측 성능을 더욱 정밀하게 측정하기 위한 평가 지표\n",
    "- FP를 낮추는 방향으로\n",
    "\n",
    "$$ recall = \\frac{TP}{FN+TP} $$ \n",
    "- 실제 값이 positive인 대상 중에 positive로 예측한 비율\n",
    "- FN을 낮추는 방향으로"
   ]
  },
  {
   "cell_type": "code",
   "execution_count": 12,
   "metadata": {
    "ExecuteTime": {
     "end_time": "2019-03-22T09:44:27.412529Z",
     "start_time": "2019-03-22T09:44:27.403077Z"
    }
   },
   "outputs": [],
   "source": [
    "from sklearn.metrics import accuracy_score, precision_score, recall_score, confusion_matrix"
   ]
  },
  {
   "cell_type": "code",
   "execution_count": 23,
   "metadata": {
    "ExecuteTime": {
     "end_time": "2019-03-22T09:50:59.784987Z",
     "start_time": "2019-03-22T09:50:59.777176Z"
    }
   },
   "outputs": [],
   "source": [
    "def get_clf_eval(y_test, pred) :\n",
    "    confusion = confusion_matrix(y_test, pred)\n",
    "    accuracy = accuracy_score(y_test, pred)\n",
    "    precision = precision_score(y_test, pred)\n",
    "    recall = recall_score(y_test, pred)\n",
    "    \n",
    "    print('confusion matrix')\n",
    "    print(confusion)\n",
    "    \n",
    "    print('accurcacy : {0:4f}, precision : {1:4f}, sensitivity : {2:4f}'.format(accuracy, precision, recall))"
   ]
  },
  {
   "cell_type": "code",
   "execution_count": 18,
   "metadata": {
    "ExecuteTime": {
     "end_time": "2019-03-22T09:48:33.087957Z",
     "start_time": "2019-03-22T09:48:33.076135Z"
    }
   },
   "outputs": [
    {
     "data": {
      "text/plain": [
       "['gender_submission.csv', 'test.csv', 'train.csv']"
      ]
     },
     "execution_count": 18,
     "metadata": {},
     "output_type": "execute_result"
    }
   ],
   "source": [
    "import pandas as pd\n",
    "import numpy as np\n",
    "import os\n",
    "from sklearn.model_selection import train_test_split\n",
    "from sklearn.linear_model import LogisticRegression\n",
    "from sklearn.preprocessing import LabelEncoder\n",
    "\n",
    "os.listdir('../data/titanic')"
   ]
  },
  {
   "cell_type": "markdown",
   "metadata": {},
   "source": [
    "## titanic example"
   ]
  },
  {
   "cell_type": "code",
   "execution_count": 17,
   "metadata": {
    "ExecuteTime": {
     "end_time": "2019-03-22T09:48:22.488990Z",
     "start_time": "2019-03-22T09:48:22.451405Z"
    }
   },
   "outputs": [
    {
     "data": {
      "text/html": [
       "<div>\n",
       "<style scoped>\n",
       "    .dataframe tbody tr th:only-of-type {\n",
       "        vertical-align: middle;\n",
       "    }\n",
       "\n",
       "    .dataframe tbody tr th {\n",
       "        vertical-align: top;\n",
       "    }\n",
       "\n",
       "    .dataframe thead th {\n",
       "        text-align: right;\n",
       "    }\n",
       "</style>\n",
       "<table border=\"1\" class=\"dataframe\">\n",
       "  <thead>\n",
       "    <tr style=\"text-align: right;\">\n",
       "      <th></th>\n",
       "      <th>PassengerId</th>\n",
       "      <th>Survived</th>\n",
       "      <th>Pclass</th>\n",
       "      <th>Name</th>\n",
       "      <th>Sex</th>\n",
       "      <th>Age</th>\n",
       "      <th>SibSp</th>\n",
       "      <th>Parch</th>\n",
       "      <th>Ticket</th>\n",
       "      <th>Fare</th>\n",
       "      <th>Cabin</th>\n",
       "      <th>Embarked</th>\n",
       "    </tr>\n",
       "  </thead>\n",
       "  <tbody>\n",
       "    <tr>\n",
       "      <th>0</th>\n",
       "      <td>1</td>\n",
       "      <td>0</td>\n",
       "      <td>3</td>\n",
       "      <td>Braund, Mr. Owen Harris</td>\n",
       "      <td>male</td>\n",
       "      <td>22.0</td>\n",
       "      <td>1</td>\n",
       "      <td>0</td>\n",
       "      <td>A/5 21171</td>\n",
       "      <td>7.2500</td>\n",
       "      <td>NaN</td>\n",
       "      <td>S</td>\n",
       "    </tr>\n",
       "    <tr>\n",
       "      <th>1</th>\n",
       "      <td>2</td>\n",
       "      <td>1</td>\n",
       "      <td>1</td>\n",
       "      <td>Cumings, Mrs. John Bradley (Florence Briggs Th...</td>\n",
       "      <td>female</td>\n",
       "      <td>38.0</td>\n",
       "      <td>1</td>\n",
       "      <td>0</td>\n",
       "      <td>PC 17599</td>\n",
       "      <td>71.2833</td>\n",
       "      <td>C85</td>\n",
       "      <td>C</td>\n",
       "    </tr>\n",
       "    <tr>\n",
       "      <th>2</th>\n",
       "      <td>3</td>\n",
       "      <td>1</td>\n",
       "      <td>3</td>\n",
       "      <td>Heikkinen, Miss. Laina</td>\n",
       "      <td>female</td>\n",
       "      <td>26.0</td>\n",
       "      <td>0</td>\n",
       "      <td>0</td>\n",
       "      <td>STON/O2. 3101282</td>\n",
       "      <td>7.9250</td>\n",
       "      <td>NaN</td>\n",
       "      <td>S</td>\n",
       "    </tr>\n",
       "    <tr>\n",
       "      <th>3</th>\n",
       "      <td>4</td>\n",
       "      <td>1</td>\n",
       "      <td>1</td>\n",
       "      <td>Futrelle, Mrs. Jacques Heath (Lily May Peel)</td>\n",
       "      <td>female</td>\n",
       "      <td>35.0</td>\n",
       "      <td>1</td>\n",
       "      <td>0</td>\n",
       "      <td>113803</td>\n",
       "      <td>53.1000</td>\n",
       "      <td>C123</td>\n",
       "      <td>S</td>\n",
       "    </tr>\n",
       "    <tr>\n",
       "      <th>4</th>\n",
       "      <td>5</td>\n",
       "      <td>0</td>\n",
       "      <td>3</td>\n",
       "      <td>Allen, Mr. William Henry</td>\n",
       "      <td>male</td>\n",
       "      <td>35.0</td>\n",
       "      <td>0</td>\n",
       "      <td>0</td>\n",
       "      <td>373450</td>\n",
       "      <td>8.0500</td>\n",
       "      <td>NaN</td>\n",
       "      <td>S</td>\n",
       "    </tr>\n",
       "  </tbody>\n",
       "</table>\n",
       "</div>"
      ],
      "text/plain": [
       "   PassengerId  Survived  Pclass  \\\n",
       "0            1         0       3   \n",
       "1            2         1       1   \n",
       "2            3         1       3   \n",
       "3            4         1       1   \n",
       "4            5         0       3   \n",
       "\n",
       "                                                Name     Sex   Age  SibSp  \\\n",
       "0                            Braund, Mr. Owen Harris    male  22.0      1   \n",
       "1  Cumings, Mrs. John Bradley (Florence Briggs Th...  female  38.0      1   \n",
       "2                             Heikkinen, Miss. Laina  female  26.0      0   \n",
       "3       Futrelle, Mrs. Jacques Heath (Lily May Peel)  female  35.0      1   \n",
       "4                           Allen, Mr. William Henry    male  35.0      0   \n",
       "\n",
       "   Parch            Ticket     Fare Cabin Embarked  \n",
       "0      0         A/5 21171   7.2500   NaN        S  \n",
       "1      0          PC 17599  71.2833   C85        C  \n",
       "2      0  STON/O2. 3101282   7.9250   NaN        S  \n",
       "3      0            113803  53.1000  C123        S  \n",
       "4      0            373450   8.0500   NaN        S  "
      ]
     },
     "execution_count": 17,
     "metadata": {},
     "output_type": "execute_result"
    }
   ],
   "source": [
    "titanic = pd.read_csv('../data/titanic/train.csv')\n",
    "titanic.head()"
   ]
  },
  {
   "cell_type": "code",
   "execution_count": 19,
   "metadata": {
    "ExecuteTime": {
     "end_time": "2019-03-22T09:49:24.574989Z",
     "start_time": "2019-03-22T09:49:24.563566Z"
    }
   },
   "outputs": [],
   "source": [
    "def transform_features(df) :\n",
    "\n",
    "    #Null 처리 함수\n",
    "    def fillna(df) :\n",
    "        df['Age'].fillna(df.Age.mean(), inplace = True)\n",
    "        df['Cabin'].fillna('N', inplace = True)\n",
    "        df['Embarked'].fillna('N', inplace = True)\n",
    "        df['Fare'].fillna(0, inplace = True)\n",
    "\n",
    "        return df\n",
    "\n",
    "    # 불필요한 속성 제거\n",
    "    def drop_features(df) :\n",
    "        df.drop(['PassengerId','Name','Ticket'], axis = 1, inplace = True)\n",
    "\n",
    "        return df\n",
    "\n",
    "    # label encoding\n",
    "    def format_features(df) :\n",
    "        df['Cabin'] = df['Cabin'].str[:1]\n",
    "        features = ['Cabin','Sex','Embarked']\n",
    "\n",
    "        for feature in features :\n",
    "            le = LabelEncoder()\n",
    "            le = le.fit(df[feature])\n",
    "            df[feature] = le.transform(df[feature])\n",
    "\n",
    "        return df\n",
    "\n",
    "    df = fillna(df)\n",
    "    df = drop_features(df)\n",
    "    df = format_features(df)\n",
    "    return df"
   ]
  },
  {
   "cell_type": "code",
   "execution_count": 21,
   "metadata": {
    "ExecuteTime": {
     "end_time": "2019-03-22T09:49:51.262668Z",
     "start_time": "2019-03-22T09:49:51.243862Z"
    }
   },
   "outputs": [],
   "source": [
    "Y_titanic = titanic['Survived']\n",
    "\n",
    "X_titanic = titanic.drop('Survived', axis = 1)\n",
    "X_titanic = transform_features(X_titanic)\n",
    "\n",
    "X_train, X_test, y_train, y_test = train_test_split(X_titanic, Y_titanic, test_size = 0.2, random_state = 11)"
   ]
  },
  {
   "cell_type": "code",
   "execution_count": 26,
   "metadata": {
    "ExecuteTime": {
     "end_time": "2019-03-22T09:52:33.032415Z",
     "start_time": "2019-03-22T09:52:33.026978Z"
    }
   },
   "outputs": [],
   "source": [
    "import warnings\n",
    "warnings.filterwarnings(\"ignore\")"
   ]
  },
  {
   "cell_type": "code",
   "execution_count": 27,
   "metadata": {
    "ExecuteTime": {
     "end_time": "2019-03-22T09:52:34.913572Z",
     "start_time": "2019-03-22T09:52:34.892841Z"
    }
   },
   "outputs": [
    {
     "name": "stdout",
     "output_type": "stream",
     "text": [
      "confusion matrix\n",
      "[[108  10]\n",
      " [ 14  47]]\n",
      "accurcacy : 0.865922, precision : 0.824561, sensitivity : 0.770492\n"
     ]
    }
   ],
   "source": [
    "from sklearn.linear_model import LogisticRegression\n",
    "lr = LogisticRegression()\n",
    "\n",
    "lr.fit(X_train, y_train)\n",
    "pred = lr.predict(X_test)\n",
    "get_clf_eval(y_test, pred)"
   ]
  },
  {
   "cell_type": "markdown",
   "metadata": {},
   "source": [
    "precision에 비해 recall이 낮게 나옴."
   ]
  },
  {
   "cell_type": "markdown",
   "metadata": {},
   "source": [
    "## precision / recall tradeoff\n",
    "- 정밀도 또는 재현율이 특별히 강조돼야 할 경우 threshold를 조정해 수치를 높일 수 있다.\n",
    "- 상호 보완적인 평가 지표. 하나를 높이면, 다른 하나의 수치는 떨어지기 쉬움"
   ]
  },
  {
   "cell_type": "markdown",
   "metadata": {},
   "source": [
    "### predict_proba() : 학습이 완료된 classifier객체에서 호출이 간으. 개별 클래스 예측확률 출력"
   ]
  },
  {
   "cell_type": "code",
   "execution_count": 33,
   "metadata": {
    "ExecuteTime": {
     "end_time": "2019-03-22T09:58:05.191850Z",
     "start_time": "2019-03-22T09:58:05.179675Z"
    }
   },
   "outputs": [
    {
     "name": "stdout",
     "output_type": "stream",
     "text": [
      "pred proba 결과 shape:  (179, 2)\n",
      "[[0.44935228 0.55064772]\n",
      " [0.86335513 0.13664487]\n",
      " [0.86429645 0.13570355]]\n"
     ]
    }
   ],
   "source": [
    "pred_proba = lr.predict_proba(X_test)\n",
    "\n",
    "print('pred proba 결과 shape: ', pred_proba.shape)\n",
    "print(pred_proba[:3])"
   ]
  },
  {
   "cell_type": "code",
   "execution_count": 35,
   "metadata": {
    "ExecuteTime": {
     "end_time": "2019-03-22T09:58:47.146581Z",
     "start_time": "2019-03-22T09:58:47.138893Z"
    }
   },
   "outputs": [
    {
     "data": {
      "text/plain": [
       "array([[0.44935228, 0.55064772, 1.        ],\n",
       "       [0.86335513, 0.13664487, 0.        ],\n",
       "       [0.86429645, 0.13570355, 0.        ]])"
      ]
     },
     "execution_count": 35,
     "metadata": {},
     "output_type": "execute_result"
    }
   ],
   "source": [
    "# 예측된 확률 중 확률이 더큰 값으로 예측\n",
    "pred_proba_result = np.concatenate([pred_proba, pred.reshape(-1,1)], axis = 1)\n",
    "pred_proba_result[:3]"
   ]
  },
  {
   "cell_type": "markdown",
   "metadata": {},
   "source": [
    "### Binarizer : 이용하면 threshold보다 크면 1, 작거나 같으면 0"
   ]
  },
  {
   "cell_type": "code",
   "execution_count": 39,
   "metadata": {
    "ExecuteTime": {
     "end_time": "2019-03-22T10:01:31.040893Z",
     "start_time": "2019-03-22T10:01:31.033727Z"
    }
   },
   "outputs": [
    {
     "name": "stdout",
     "output_type": "stream",
     "text": [
      "[[0. 0. 1.]\n",
      " [1. 0. 0.]\n",
      " [0. 0. 1.]]\n"
     ]
    }
   ],
   "source": [
    "from sklearn.preprocessing import Binarizer\n",
    "\n",
    "X = [[1,-1,2],\n",
    "    [2,0,0],\n",
    "    [0,1.1,1.2]]\n",
    "\n",
    "binarizer = Binarizer(threshold = 1.1)\n",
    "print(binarizer.fit_transform(X))"
   ]
  },
  {
   "cell_type": "markdown",
   "metadata": {},
   "source": [
    "- classifier의 경우, pred_proba를 통해 class별 속할 확률을 구한 후, threshold기준으로 Binarizer class를 적용해 최종 예측값을 구하는 방식. threshold를 조정하면, 지표들이 달라질 수 있음"
   ]
  },
  {
   "cell_type": "markdown",
   "metadata": {},
   "source": [
    "### threshold"
   ]
  },
  {
   "cell_type": "code",
   "execution_count": 42,
   "metadata": {
    "ExecuteTime": {
     "end_time": "2019-03-22T10:07:13.631220Z",
     "start_time": "2019-03-22T10:07:13.619644Z"
    }
   },
   "outputs": [
    {
     "name": "stdout",
     "output_type": "stream",
     "text": [
      "confusion matrix\n",
      "[[108  10]\n",
      " [ 14  47]]\n",
      "accurcacy : 0.865922, precision : 0.824561, sensitivity : 0.770492\n"
     ]
    }
   ],
   "source": [
    "custom_threshold = 0.5\n",
    "pred_proba_1 = pred_proba[:, 1].reshape(-1,1) #1에 속할 확률만\n",
    "\n",
    "binarizer = Binarizer(threshold=custom_threshold).fit(pred_proba_1)\n",
    "custom_predict = binarizer.transform(pred_proba_1)\n",
    "\n",
    "get_clf_eval(y_test, custom_predict)"
   ]
  },
  {
   "cell_type": "code",
   "execution_count": 43,
   "metadata": {
    "ExecuteTime": {
     "end_time": "2019-03-22T10:07:59.373047Z",
     "start_time": "2019-03-22T10:07:59.358063Z"
    }
   },
   "outputs": [
    {
     "name": "stdout",
     "output_type": "stream",
     "text": [
      "confusion matrix\n",
      "[[97 21]\n",
      " [11 50]]\n",
      "accurcacy : 0.821229, precision : 0.704225, sensitivity : 0.819672\n"
     ]
    }
   ],
   "source": [
    "custom_threshold = 0.4\n",
    "\n",
    "pred_proba_1 = pred_proba[:, 1].reshape(-1,1) #1에 속할 확률만\n",
    "\n",
    "binarizer = Binarizer(threshold=custom_threshold).fit(pred_proba_1)\n",
    "custom_predict = binarizer.transform(pred_proba_1)\n",
    "\n",
    "get_clf_eval(y_test, custom_predict)"
   ]
  },
  {
   "cell_type": "markdown",
   "metadata": {},
   "source": [
    "- threshold를 낮추면, positive예측을 너그럽게\n",
    "- True값이 많아짐.\n",
    "- recall값이 높아짐. precision이 낮아짐"
   ]
  },
  {
   "cell_type": "code",
   "execution_count": 45,
   "metadata": {
    "ExecuteTime": {
     "end_time": "2019-03-22T10:13:41.747235Z",
     "start_time": "2019-03-22T10:13:41.698585Z"
    }
   },
   "outputs": [
    {
     "name": "stdout",
     "output_type": "stream",
     "text": [
      "threshold ;  0.4\n",
      "confusion matrix\n",
      "[[97 21]\n",
      " [11 50]]\n",
      "accurcacy : 0.821229, precision : 0.704225, sensitivity : 0.819672\n",
      "\n",
      "\n",
      "threshold ;  0.45\n",
      "confusion matrix\n",
      "[[105  13]\n",
      " [ 13  48]]\n",
      "accurcacy : 0.854749, precision : 0.786885, sensitivity : 0.786885\n",
      "\n",
      "\n",
      "threshold ;  0.5\n",
      "confusion matrix\n",
      "[[108  10]\n",
      " [ 14  47]]\n",
      "accurcacy : 0.865922, precision : 0.824561, sensitivity : 0.770492\n",
      "\n",
      "\n",
      "threshold ;  0.55\n",
      "confusion matrix\n",
      "[[111   7]\n",
      " [ 16  45]]\n",
      "accurcacy : 0.871508, precision : 0.865385, sensitivity : 0.737705\n",
      "\n",
      "\n",
      "threshold ;  0.6\n",
      "confusion matrix\n",
      "[[113   5]\n",
      " [ 17  44]]\n",
      "accurcacy : 0.877095, precision : 0.897959, sensitivity : 0.721311\n",
      "\n",
      "\n"
     ]
    }
   ],
   "source": [
    "thresholds = [0.4,0.45,0.5,0.55,0.60]\n",
    "\n",
    "def get_eval_by_threshold(y_test, pred_prba_c1, thresholds) :\n",
    "    \n",
    "    for custom_threshold in thresholds :\n",
    "        binarizer = Binarizer(threshold=custom_threshold).fit(pred_prba_c1)\n",
    "        custom_predict = binarizer.transform(pred_proba_1)\n",
    "        \n",
    "        print('threshold ; ', custom_threshold)\n",
    "        get_clf_eval(y_test, custom_predict)\n",
    "        print('\\n')\n",
    "        \n",
    "get_eval_by_threshold(y_test, pred_proba[:,1].reshape(-1,1), thresholds)\n",
    "#0.5일 때와 비교했을 때, accuracy는 별로 안 떨어지지만, sensitivity가 상승한 0.45가 적절."
   ]
  },
  {
   "cell_type": "markdown",
   "metadata": {},
   "source": [
    "### precision_recall_curve()\n",
    "- input : y_true, proba_pred(positive 칼럼의 예측 확률 배열)\n",
    "- output : precision, recall"
   ]
  },
  {
   "cell_type": "code",
   "execution_count": 46,
   "metadata": {
    "ExecuteTime": {
     "end_time": "2019-03-22T10:15:53.576292Z",
     "start_time": "2019-03-22T10:15:53.570960Z"
    }
   },
   "outputs": [],
   "source": [
    "from sklearn.metrics import precision_recall_curve"
   ]
  },
  {
   "cell_type": "code",
   "execution_count": 47,
   "metadata": {
    "ExecuteTime": {
     "end_time": "2019-03-22T10:34:28.919513Z",
     "start_time": "2019-03-22T10:34:28.908965Z"
    }
   },
   "outputs": [],
   "source": [
    "#label1인 경우만\n",
    "pred_proba_class1 = lr.predict_proba(X_test)[:,1]\n",
    "\n",
    "precision, recall, threshold = precision_recall_curve(y_test, pred_proba_class1)"
   ]
  },
  {
   "cell_type": "code",
   "execution_count": 49,
   "metadata": {
    "ExecuteTime": {
     "end_time": "2019-03-22T10:42:00.945028Z",
     "start_time": "2019-03-22T10:42:00.938551Z"
    }
   },
   "outputs": [
    {
     "name": "stdout",
     "output_type": "stream",
     "text": [
      "threshold shape :  (147,)\n"
     ]
    }
   ],
   "source": [
    "#147개의 threshold를 바꿔가면서 진행\n",
    "print('threshold shape : ', threshold.shape)"
   ]
  },
  {
   "cell_type": "code",
   "execution_count": 60,
   "metadata": {
    "ExecuteTime": {
     "end_time": "2019-03-22T10:47:46.836462Z",
     "start_time": "2019-03-22T10:47:46.824032Z"
    }
   },
   "outputs": [
    {
     "name": "stdout",
     "output_type": "stream",
     "text": [
      "샘플용 10개의 임계값 :  [0.12 0.13 0.15 0.17 0.26 0.38 0.49 0.63 0.76 0.9 ]\n",
      "샘플용 임계값별 정밀도 :  [0.38 0.42 0.45 0.52 0.62 0.68 0.8  0.93 0.96 1.  ]\n",
      "샘플용 임계값별 재현율 :  [1.   0.97 0.9  0.9  0.9  0.82 0.77 0.66 0.44 0.21]\n"
     ]
    }
   ],
   "source": [
    "#14개 너무 많아서 10건만 추출하되, 임계값을 15step으로 추출\n",
    "\n",
    "thr_index = np.arange(0, threshold.shape[0], 15)\n",
    "print('샘플용 10개의 임계값 : ', np.round(threshold[thr_index],2))\n",
    "print('샘플용 임계값별 정밀도 : ', np.round(precision[thr_index],2))\n",
    "print('샘플용 임계값별 재현율 : ', np.round(recall[thr_index],2))"
   ]
  },
  {
   "cell_type": "code",
   "execution_count": 63,
   "metadata": {
    "ExecuteTime": {
     "end_time": "2019-03-22T10:48:38.650830Z",
     "start_time": "2019-03-22T10:48:38.643778Z"
    }
   },
   "outputs": [],
   "source": [
    "import matplotlib.pyplot as plt\n",
    "import matplotlib.ticker as ticker\n",
    "%matplotlib inline"
   ]
  },
  {
   "cell_type": "code",
   "execution_count": 71,
   "metadata": {
    "ExecuteTime": {
     "end_time": "2019-03-22T10:55:16.620023Z",
     "start_time": "2019-03-22T10:55:16.337437Z"
    }
   },
   "outputs": [
    {
     "data": {
      "image/png": "[encoded data removed]",
      "text/plain": [
       "<Figure size 576x432 with 1 Axes>"
      ]
     },
     "metadata": {
      "needs_background": "light"
     },
     "output_type": "display_data"
    }
   ],
   "source": [
    "def precision_recall_curve_plot(y_test, pred_proba_c1) :\n",
    "    \n",
    "    precision, recall, threshold = precision_recall_curve(y_test, pred_proba_c1)\n",
    "    \n",
    "    plt.figure(figsize=(8,6))\n",
    "    threshold_boundary = threshold.shape[0]\n",
    "    plt.plot(threshold, precision[:threshold_boundary], linestyle = '--', label = 'precision')\n",
    "    plt.plot(threshold, recall[:threshold_boundary], label = 'recall')\n",
    "    \n",
    "    #x축의 scale을 0.1단위로\n",
    "    start, end = plt.xlim()\n",
    "    plt.xticks(np.round(np.arange(start, end, 0.1),2))\n",
    "    \n",
    "    plt.xlabel('Threshold value')\n",
    "    plt.ylabel('Precision and Recall value')\n",
    "    \n",
    "    plt.legend()\n",
    "    plt.grid()\n",
    "    plt.show()\n",
    "    \n",
    "precision_recall_curve_plot(y_test, lr.predict_proba(X_test)[:,1])"
   ]
  },
  {
   "cell_type": "markdown",
   "metadata": {},
   "source": [
    "- precision 100% : 병에 걸릴 확률이 가장 높은 사람 1명만 positive로 예측한다\n",
    "- recall 100% : 모든 환자를 positive로 예측."
   ]
  },
  {
   "cell_type": "markdown",
   "metadata": {},
   "source": [
    "# f1 score\n",
    "\n",
    "$$ F1 = \\frac{2}{\\frac{1}{recall}+\\frac{1}{precision}} = 2*\\frac{precision*recall}{precision + recall}$$\n",
    "\n",
    "- 정밀도와 재현율이 차이가 별로 나지 않으면, 값이 커짐"
   ]
  },
  {
   "cell_type": "code",
   "execution_count": 72,
   "metadata": {
    "ExecuteTime": {
     "end_time": "2019-03-22T11:00:31.707577Z",
     "start_time": "2019-03-22T11:00:31.695367Z"
    }
   },
   "outputs": [
    {
     "name": "stdout",
     "output_type": "stream",
     "text": [
      "F1 score :  0.7966101694915254\n"
     ]
    }
   ],
   "source": [
    "from sklearn.metrics import f1_score\n",
    "\n",
    "f1 = f1_score(y_test, pred)\n",
    "print('F1 score : ', f1)"
   ]
  },
  {
   "cell_type": "code",
   "execution_count": 73,
   "metadata": {
    "ExecuteTime": {
     "end_time": "2019-03-22T11:02:19.818064Z",
     "start_time": "2019-03-22T11:02:19.808551Z"
    }
   },
   "outputs": [],
   "source": [
    "thresholds = [0.4,0.45,0.5,0.55,0.60]\n",
    "\n",
    "def get_clf_eval(y_test, pred) :\n",
    "    confusion = confusion_matrix(y_test, pred)\n",
    "    accuracy = accuracy_score(y_test, pred)\n",
    "    precision = precision_score(y_test, pred)\n",
    "    recall = recall_score(y_test, pred)\n",
    "    \n",
    "    #f1 score\n",
    "    f1 = f1_score(y_test, pred)\n",
    "    print('confusion matrix')\n",
    "    print(confusion)\n",
    "    \n",
    "    print('accurcacy : {0:4f}, precision : {1:4f}, sensitivity : {2:4f}, F1:{3:4f}'.format(accuracy, precision, recall, f1))"
   ]
  },
  {
   "cell_type": "code",
   "execution_count": 74,
   "metadata": {
    "ExecuteTime": {
     "end_time": "2019-03-22T11:02:47.530731Z",
     "start_time": "2019-03-22T11:02:47.488838Z"
    }
   },
   "outputs": [
    {
     "name": "stdout",
     "output_type": "stream",
     "text": [
      "threshold ;  0.4\n",
      "confusion matrix\n",
      "[[97 21]\n",
      " [11 50]]\n",
      "accurcacy : 0.821229, precision : 0.704225, sensitivity : 0.819672, F1:0.757576\n",
      "\n",
      "\n",
      "threshold ;  0.45\n",
      "confusion matrix\n",
      "[[105  13]\n",
      " [ 13  48]]\n",
      "accurcacy : 0.854749, precision : 0.786885, sensitivity : 0.786885, F1:0.786885\n",
      "\n",
      "\n",
      "threshold ;  0.5\n",
      "confusion matrix\n",
      "[[108  10]\n",
      " [ 14  47]]\n",
      "accurcacy : 0.865922, precision : 0.824561, sensitivity : 0.770492, F1:0.796610\n",
      "\n",
      "\n",
      "threshold ;  0.55\n",
      "confusion matrix\n",
      "[[111   7]\n",
      " [ 16  45]]\n",
      "accurcacy : 0.871508, precision : 0.865385, sensitivity : 0.737705, F1:0.796460\n",
      "\n",
      "\n",
      "threshold ;  0.6\n",
      "confusion matrix\n",
      "[[113   5]\n",
      " [ 17  44]]\n",
      "accurcacy : 0.877095, precision : 0.897959, sensitivity : 0.721311, F1:0.800000\n",
      "\n",
      "\n"
     ]
    }
   ],
   "source": [
    "get_eval_by_threshold(y_test, pred_proba[:,1].reshape(-1,1), thresholds)"
   ]
  },
  {
   "cell_type": "markdown",
   "metadata": {},
   "source": [
    "# ROC curve, AUC\n",
    "- X축 : 1-specifity / Y축 : Sensitivity"
   ]
  },
  {
   "cell_type": "markdown",
   "metadata": {},
   "source": [
    "## roc_curve()\n",
    "- input : y_true / y_score(predict_prob()의 positive 예측값\n",
    "- output : fpr, tpr, thresholds"
   ]
  },
  {
   "cell_type": "code",
   "execution_count": 75,
   "metadata": {
    "ExecuteTime": {
     "end_time": "2019-03-22T11:21:00.640698Z",
     "start_time": "2019-03-22T11:21:00.632862Z"
    }
   },
   "outputs": [],
   "source": [
    "from sklearn.metrics import roc_curve"
   ]
  },
  {
   "cell_type": "code",
   "execution_count": 77,
   "metadata": {
    "ExecuteTime": {
     "end_time": "2019-03-22T11:22:43.815841Z",
     "start_time": "2019-03-22T11:22:43.798585Z"
    }
   },
   "outputs": [
    {
     "name": "stdout",
     "output_type": "stream",
     "text": [
      "sample 10 thresholds :  [1.94 0.87 0.63 0.55 0.44 0.32 0.15 0.14 0.13 0.12]\n",
      "sample FPR :  [0.    0.008 0.025 0.059 0.127 0.203 0.559 0.602 0.695 0.847]\n",
      "sample TPR :  [0.    0.246 0.672 0.738 0.787 0.885 0.902 0.951 0.967 0.984]\n"
     ]
    }
   ],
   "source": [
    "pred_proba_class1 = lr.predict_proba(X_test)[:,1]\n",
    "\n",
    "fpr, tpr, threshold = roc_curve(y_test, pred_proba_class1)\n",
    "\n",
    "#5step으로 추출\n",
    "thr_index = np.arange(0, threshold.shape[0], 5)\n",
    "print('sample 10 thresholds : ', np.round(threshold[thr_index],2))\n",
    "print('sample FPR : ', np.round(fpr[thr_index],3))\n",
    "print('sample TPR : ', np.round(tpr[thr_index],3))"
   ]
  },
  {
   "cell_type": "markdown",
   "metadata": {},
   "source": [
    "##  AUC"
   ]
  },
  {
   "cell_type": "code",
   "execution_count": 78,
   "metadata": {
    "ExecuteTime": {
     "end_time": "2019-03-22T11:29:11.885309Z",
     "start_time": "2019-03-22T11:29:11.631767Z"
    }
   },
   "outputs": [
    {
     "data": {
      "image/png": "[encoded data removed]",
      "text/plain": [
       "<Figure size 432x288 with 1 Axes>"
      ]
     },
     "metadata": {
      "needs_background": "light"
     },
     "output_type": "display_data"
    }
   ],
   "source": [
    "def roc_curve_plot(y_test, pred_proba_c1) :\n",
    "    \n",
    "    fpr, tpr, threshold = roc_curve(y_test, pred_proba_c1)\n",
    "    \n",
    "    #ROC curve\n",
    "    plt.plot(fpr, tpr, label = 'ROC')\n",
    "    #대각선 직선\n",
    "    plt.plot([0,1],[0,1], 'k--', label = 'Random')\n",
    "    \n",
    "    start, end = plt.xlim()\n",
    "    plt.xticks(np.round(np.arange(start, end,0.1),2))\n",
    "    plt.xlim(0,1)\n",
    "    plt.ylim(0,1)\n",
    "    \n",
    "    plt.xlabel('1-Sensitivity')\n",
    "    plt.ylabel('Recall')\n",
    "    \n",
    "    plt.legend()\n",
    "    \n",
    "roc_curve_plot(y_test, pred_proba[:,1])"
   ]
  },
  {
   "cell_type": "code",
   "execution_count": 79,
   "metadata": {
    "ExecuteTime": {
     "end_time": "2019-03-22T11:30:21.639278Z",
     "start_time": "2019-03-22T11:30:21.622861Z"
    }
   },
   "outputs": [
    {
     "name": "stdout",
     "output_type": "stream",
     "text": [
      "AUC vlaue 0.842873020283412\n"
     ]
    }
   ],
   "source": [
    "from sklearn.metrics import roc_auc_score\n",
    "\n",
    "pred = lr.predict(X_test)\n",
    "roc_score = roc_auc_score(y_test, pred)\n",
    "\n",
    "print('AUC vlaue', roc_score)"
   ]
  }
 ],
 "metadata": {
  "hide_input": false,
  "kernelspec": {
   "display_name": "Python 3",
   "language": "python",
   "name": "python3"
  },
  "language_info": {
   "codemirror_mode": {
    "name": "ipython",
    "version": 3
   },
   "file_extension": ".py",
   "mimetype": "text/x-python",
   "name": "python",
   "nbconvert_exporter": "python",
   "pygments_lexer": "ipython3",
   "version": "3.7.1"
  },
  "toc": {
   "base_numbering": 1,
   "nav_menu": {},
   "number_sections": true,
   "sideBar": true,
   "skip_h1_title": false,
   "title_cell": "Table of Contents",
   "title_sidebar": "Contents",
   "toc_cell": false,
   "toc_position": {},
   "toc_section_display": true,
   "toc_window_display": true
  }
 },
 "nbformat": 4,
 "nbformat_minor": 2
}
