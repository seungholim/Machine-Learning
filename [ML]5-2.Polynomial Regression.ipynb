{
 "cells": [
  {
   "cell_type": "markdown",
   "metadata": {},
   "source": [
    "# 다항 회귀의 이해\n",
    "- 2차, 3차 방정식과 같은 다항식으로 표현되는 회귀\n",
    "- 비선형 회귀로 착각하기 쉽지만, 선형 회귀!\n",
    "- 선형/비선형 회귀를 나누는 기준은 회귀 계수가 선형/비선형인지에 따른 것이지 독립변수의 선형/비선형 여부와는 무관\n",
    "- w*X 꼴로 표현되면, 선형\n",
    "- Polynomial regression 클라스는 지원x"
   ]
  },
  {
   "cell_type": "markdown",
   "metadata": {},
   "source": [
    "## 2차"
   ]
  },
  {
   "cell_type": "code",
   "execution_count": 1,
   "metadata": {
    "ExecuteTime": {
     "end_time": "2019-04-08T07:12:32.293500Z",
     "start_time": "2019-04-08T07:12:32.288512Z"
    }
   },
   "outputs": [],
   "source": [
    "from sklearn.preprocessing import PolynomialFeatures\n",
    "import numpy as np"
   ]
  },
  {
   "cell_type": "code",
   "execution_count": 3,
   "metadata": {
    "ExecuteTime": {
     "end_time": "2019-04-08T07:12:47.629853Z",
     "start_time": "2019-04-08T07:12:47.614929Z"
    }
   },
   "outputs": [
    {
     "data": {
      "text/plain": [
       "array([[0, 1],\n",
       "       [2, 3]])"
      ]
     },
     "execution_count": 3,
     "metadata": {},
     "output_type": "execute_result"
    }
   ],
   "source": [
    "X = np.arange(4).reshape(2,2)\n",
    "X"
   ]
  },
  {
   "cell_type": "code",
   "execution_count": 5,
   "metadata": {
    "ExecuteTime": {
     "end_time": "2019-04-08T07:19:36.189412Z",
     "start_time": "2019-04-08T07:19:36.182430Z"
    }
   },
   "outputs": [
    {
     "data": {
      "text/plain": [
       "array([[1., 0., 1., 0., 0., 1.],\n",
       "       [1., 2., 3., 4., 6., 9.]])"
      ]
     },
     "execution_count": 5,
     "metadata": {},
     "output_type": "execute_result"
    }
   ],
   "source": [
    "poly = PolynomialFeatures(degree = 2)\n",
    "#[1,x1,x2,x1*x1,x1*x2,x2*x2]\n",
    "poly_ftr = poly.fit_transform(X)\n",
    "poly_ftr"
   ]
  },
  {
   "cell_type": "markdown",
   "metadata": {},
   "source": [
    "## 3차"
   ]
  },
  {
   "cell_type": "code",
   "execution_count": 11,
   "metadata": {
    "ExecuteTime": {
     "end_time": "2019-04-08T07:25:50.075210Z",
     "start_time": "2019-04-08T07:25:50.068264Z"
    }
   },
   "outputs": [
    {
     "name": "stdout",
     "output_type": "stream",
     "text": [
      "X \n",
      " [[0 1]\n",
      " [2 3]] \n",
      " y \n",
      " [[ 1  5]\n",
      " [17 43]]\n"
     ]
    }
   ],
   "source": [
    "def polynomial_func(X) :\n",
    "    y = 1+2*X+X**2+X**3\n",
    "    return y\n",
    "\n",
    "X = np.arange(4).reshape(2,2)\n",
    "y = polynomial_func(X) #true y\n",
    "\n",
    "print('X \\n', X,'\\n', 'y \\n', y)"
   ]
  },
  {
   "cell_type": "code",
   "execution_count": 12,
   "metadata": {
    "ExecuteTime": {
     "end_time": "2019-04-08T07:26:28.580504Z",
     "start_time": "2019-04-08T07:26:28.572560Z"
    }
   },
   "outputs": [
    {
     "data": {
      "text/plain": [
       "array([[ 1.,  0.,  1.,  0.,  0.,  1.,  0.,  0.,  0.,  1.],\n",
       "       [ 1.,  2.,  3.,  4.,  6.,  9.,  8., 12., 18., 27.]])"
      ]
     },
     "execution_count": 12,
     "metadata": {},
     "output_type": "execute_result"
    }
   ],
   "source": [
    "#3차 다항함수 feature -> 10개\n",
    "poly_ftr = PolynomialFeatures(degree=3).fit_transform(X)\n",
    "poly_ftr"
   ]
  },
  {
   "cell_type": "code",
   "execution_count": 14,
   "metadata": {
    "ExecuteTime": {
     "end_time": "2019-04-08T07:27:38.122036Z",
     "start_time": "2019-04-08T07:27:38.117048Z"
    }
   },
   "outputs": [],
   "source": [
    "from sklearn.linear_model import LinearRegression\n",
    "lr = LinearRegression()"
   ]
  },
  {
   "cell_type": "code",
   "execution_count": 16,
   "metadata": {
    "ExecuteTime": {
     "end_time": "2019-04-08T07:27:53.091356Z",
     "start_time": "2019-04-08T07:27:53.084378Z"
    }
   },
   "outputs": [
    {
     "name": "stdout",
     "output_type": "stream",
     "text": [
      "3차 polynomial regression coefficient \n",
      " [[0.   0.02 0.02 0.05 0.07 0.1  0.1  0.14 0.22 0.31]\n",
      " [0.   0.06 0.06 0.11 0.17 0.23 0.23 0.34 0.51 0.74]]\n"
     ]
    }
   ],
   "source": [
    "lr.fit(poly_ftr, y)\n",
    "\n",
    "print('3차 polynomial regression coefficient \\n', np.round(lr.coef_,2))"
   ]
  },
  {
   "cell_type": "markdown",
   "metadata": {},
   "source": [
    "### pipeline 이용"
   ]
  },
  {
   "cell_type": "code",
   "execution_count": 17,
   "metadata": {
    "ExecuteTime": {
     "end_time": "2019-04-08T07:33:17.250679Z",
     "start_time": "2019-04-08T07:33:17.243659Z"
    }
   },
   "outputs": [],
   "source": [
    "from sklearn.pipeline import Pipeline"
   ]
  },
  {
   "cell_type": "code",
   "execution_count": 20,
   "metadata": {
    "ExecuteTime": {
     "end_time": "2019-04-08T07:46:40.633256Z",
     "start_time": "2019-04-08T07:46:40.627306Z"
    }
   },
   "outputs": [
    {
     "data": {
      "text/plain": [
       "array([ 6, 60])"
      ]
     },
     "execution_count": 20,
     "metadata": {},
     "output_type": "execute_result"
    }
   ],
   "source": []
  },
  {
   "cell_type": "code",
   "execution_count": 22,
   "metadata": {
    "ExecuteTime": {
     "end_time": "2019-04-08T07:47:00.153861Z",
     "start_time": "2019-04-08T07:47:00.146883Z"
    }
   },
   "outputs": [
    {
     "name": "stdout",
     "output_type": "stream",
     "text": [
      "Polynomial coefficient \n",
      " [[0.   0.02 0.02 0.05 0.07 0.1  0.1  0.14 0.22 0.31]\n",
      " [0.   0.06 0.06 0.11 0.17 0.23 0.23 0.34 0.51 0.74]]\n"
     ]
    }
   ],
   "source": [
    "model = Pipeline([('poly', PolynomialFeatures(degree = 3)), ('linear', LinearRegression())])\n",
    "model.fit(X,y)\n",
    "\n",
    "print('Polynomial coefficient \\n', np.round(model.named_steps['linear'].coef_,2))"
   ]
  },
  {
   "cell_type": "markdown",
   "metadata": {},
   "source": [
    "# overfitting & underfitting\n",
    "- 차수가 높아질수록 과적합(overfitting)"
   ]
  },
  {
   "cell_type": "code",
   "execution_count": 24,
   "metadata": {
    "ExecuteTime": {
     "end_time": "2019-04-08T07:49:57.143389Z",
     "start_time": "2019-04-08T07:49:56.835852Z"
    }
   },
   "outputs": [],
   "source": [
    "from sklearn.model_selection import cross_val_score\n",
    "import matplotlib.pyplot as plt\n",
    "%matplotlib inline"
   ]
  },
  {
   "cell_type": "code",
   "execution_count": 25,
   "metadata": {
    "ExecuteTime": {
     "end_time": "2019-04-08T07:50:18.064585Z",
     "start_time": "2019-04-08T07:50:18.059599Z"
    }
   },
   "outputs": [],
   "source": [
    "def true_fun(X) :\n",
    "    return np.cos(1.5*np.pi*X)"
   ]
  },
  {
   "cell_type": "code",
   "execution_count": 28,
   "metadata": {
    "ExecuteTime": {
     "end_time": "2019-04-08T07:51:46.297367Z",
     "start_time": "2019-04-08T07:51:46.292381Z"
    }
   },
   "outputs": [],
   "source": [
    "np.random.seed(0)\n",
    "n_samples = 30\n",
    "\n",
    "#X : 0부터 1까지 임의의 수를 크기 순서대로\n",
    "X = np.sort(np.random.rand(n_samples))\n",
    "\n",
    "#y : true function에 약간의 노이즈를 더한 값\n",
    "y = true_fun(X) + np.random.randn(n_samples) * 0.1"
   ]
  },
  {
   "cell_type": "code",
   "execution_count": 36,
   "metadata": {
    "ExecuteTime": {
     "end_time": "2019-04-08T08:07:50.032284Z",
     "start_time": "2019-04-08T08:07:49.730346Z"
    }
   },
   "outputs": [
    {
     "name": "stdout",
     "output_type": "stream",
     "text": [
      "\n",
      " Degree 1 회귀 계수 : [-1.609] \n",
      " RMSE : 0.6385365788346572\n",
      "\n",
      " Degree 4 회귀 계수 : [  0.468 -17.79   23.593  -7.263] \n",
      " RMSE : 0.20786714476395127\n",
      "\n",
      " Degree 15 회귀 계수 : [-2.98294700e+03  1.03899932e+05 -1.87417069e+06  2.03717225e+07\n",
      " -1.44873987e+08  7.09318780e+08 -2.47066977e+09  6.24564048e+09\n",
      " -1.15677067e+10  1.56895696e+10 -1.54006776e+10  1.06457788e+10\n",
      " -4.91379977e+09  1.35920330e+09 -1.70381654e+08] \n",
      " RMSE : 13520.925762553677\n"
     ]
    },
    {
     "data": {
      "image/png": "[encoded data removed]",
      "text/plain": [
       "<Figure size 1008x360 with 3 Axes>"
      ]
     },
     "metadata": {},
     "output_type": "display_data"
    }
   ],
   "source": [
    "plt.figure(figsize = (14,5))\n",
    "degrees = [1,4,15]\n",
    "\n",
    "for i in range(len(degrees)) :\n",
    "    ax = plt.subplot(1, len(degrees), i+1)\n",
    "    plt.setp(ax, xticks = (), yticks = ()) #xtick, ytick을 없앰\n",
    "    \n",
    "    polynomial_features = PolynomialFeatures(degree = degrees[i], include_bias=False)\n",
    "    lr = LinearRegression()\n",
    "    pipeline = Pipeline([(\"polynomial_features\", polynomial_features), ('linear_regression', lr)])\n",
    "    pipeline.fit(X.reshape(-1,1),y)\n",
    "    \n",
    "    scores = cross_val_score(pipeline, X.reshape(-1,1), y, scoring = 'neg_mean_squared_error', cv = 10)\n",
    "    coef = pipeline.named_steps['linear_regression'].coef_\n",
    "    \n",
    "    print('\\n Degree {0} 회귀 계수 : {1} \\n RMSE : {2}'.format(degrees[i], np.round(coef,3), np.sqrt(-np.mean(scores))))\n",
    "    \n",
    "    #test X는 0부터 1까지 100개로 나누어 예측\n",
    "    X_test = np.linspace(0,1,100)\n",
    "    \n",
    "    #predict plot\n",
    "    plt.plot(X_test, pipeline.predict(X_test[:, np.newaxis]), label = 'Model') #np.newaxis를 사용하면 1D -> 2D (-1,1)과 같음\n",
    "    #true plot\n",
    "    plt.plot(X_test, true_fun(X_test),'--', label = 'True')\n",
    "    plt.scatter(X,y, edgecolor = 'b', s = 20, label = 'Samples_noise')\n",
    "    \n",
    "    plt.xlabel('x'); plt.ylabel('y')\n",
    "    plt.xlim((0,1)); plt.ylim((-2,2))\n",
    "    plt.legend(loc = 'best')\n",
    "    \n",
    "    plt.title('Degree {}\\n MSE = {:.2e}(+/- {:.2e})'.format(degrees[i], -scores.mean(), scores.std()))"
   ]
  },
  {
   "cell_type": "markdown",
   "metadata": {},
   "source": [
    "- Degree 1 : underfitting\n",
    "- Dgree 4 : best\n",
    "- Degree 15 : 데이터의 변동까지 지나치게 반영한 결과, 예측 곡선이 학습 데이터 세트에서만 정확히 예측하고, 테스트 값의 실제 곡선과는 완전히 다른 형태의 예측 곡선이 만들어짐. overfitting"
   ]
  },
  {
   "cell_type": "markdown",
   "metadata": {},
   "source": [
    "![title](/notebooks/biasvariance2.png \"bv1\")\n",
    "\n",
    "![title](/notebooks/biasvariance.png \"bv2\")\n",
    "\n",
    "- variance-bias 는 한쪽이 작이지면, 한쪽이 커지는 구조(trade-off)\n",
    "- bias가 높으면, 분산이 낮아짐(underfitting)\n",
    "- bias가 낮으면, 분산이 커짐(overfitting)"
   ]
  },
  {
   "cell_type": "markdown",
   "metadata": {},
   "source": [
    "$$Y = f(X) + \\epsilon, \\epsilon ~ N(0, \\sigma_\\epsilon) $$\n",
    "$$Err(x) = E[(Y - \\hat{f}(x))^2] = (E[\\hat{f}(x)] - f(x))^2 + E[(\\hat{f}(x)-E[\\hat{f}(x)])^2] + \\sigma_\\epsilon^2$$\n",
    "$$Err(x) = Bias^2 + Variance +Irreducible Error$$"
   ]
  }
 ],
 "metadata": {
  "hide_input": false,
  "kernelspec": {
   "display_name": "Python 3",
   "language": "python",
   "name": "python3"
  },
  "language_info": {
   "codemirror_mode": {
    "name": "ipython",
    "version": 3
   },
   "file_extension": ".py",
   "mimetype": "text/x-python",
   "name": "python",
   "nbconvert_exporter": "python",
   "pygments_lexer": "ipython3",
   "version": "3.7.1"
  },
  "toc": {
   "base_numbering": 1,
   "nav_menu": {},
   "number_sections": true,
   "sideBar": true,
   "skip_h1_title": false,
   "title_cell": "Table of Contents",
   "title_sidebar": "Contents",
   "toc_cell": false,
   "toc_position": {},
   "toc_section_display": true,
   "toc_window_display": true
  }
 },
 "nbformat": 4,
 "nbformat_minor": 2
}
