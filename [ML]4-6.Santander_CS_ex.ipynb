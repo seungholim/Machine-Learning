{
 "cells": [
  {
   "cell_type": "markdown",
   "metadata": {},
   "source": [
    "https://www.kaggle.com/c/santander-customer-satisfaction\n",
    "\n",
    "0 : satisfaction / 1 : unsatifaction"
   ]
  },
  {
   "cell_type": "code",
   "execution_count": 1,
   "metadata": {},
   "outputs": [
    {
     "name": "stdout",
     "output_type": "stream",
     "text": [
      "train shape :  (76020, 371)\n",
      "test shape :  (75818, 370)\n"
     ]
    }
   ],
   "source": [
    "import os\n",
    "os.listdir('../MLguide/data/santander_cs')\n",
    "\n",
    "import numpy as np\n",
    "import pandas as pd\n",
    "import matplotlib.pyplot as plt\n",
    "\n",
    "train = pd.read_csv('../MLguide/data/santander_cs/train.csv')\n",
    "test = pd.read_csv('../MLguide/data/santander_cs/test.csv')\n",
    "print('train shape : ', train.shape)\n",
    "print('test shape : ', test.shape)"
   ]
  },
  {
   "cell_type": "code",
   "execution_count": 2,
   "metadata": {
    "scrolled": true
   },
   "outputs": [
    {
     "data": {
      "text/html": [
       "<div>\n",
       "<style scoped>\n",
       "    .dataframe tbody tr th:only-of-type {\n",
       "        vertical-align: middle;\n",
       "    }\n",
       "\n",
       "    .dataframe tbody tr th {\n",
       "        vertical-align: top;\n",
       "    }\n",
       "\n",
       "    .dataframe thead th {\n",
       "        text-align: right;\n",
       "    }\n",
       "</style>\n",
       "<table border=\"1\" class=\"dataframe\">\n",
       "  <thead>\n",
       "    <tr style=\"text-align: right;\">\n",
       "      <th></th>\n",
       "      <th>ID</th>\n",
       "      <th>var3</th>\n",
       "      <th>var15</th>\n",
       "      <th>imp_ent_var16_ult1</th>\n",
       "      <th>imp_op_var39_comer_ult1</th>\n",
       "      <th>imp_op_var39_comer_ult3</th>\n",
       "      <th>imp_op_var40_comer_ult1</th>\n",
       "      <th>imp_op_var40_comer_ult3</th>\n",
       "      <th>imp_op_var40_efect_ult1</th>\n",
       "      <th>imp_op_var40_efect_ult3</th>\n",
       "      <th>...</th>\n",
       "      <th>saldo_medio_var33_hace2</th>\n",
       "      <th>saldo_medio_var33_hace3</th>\n",
       "      <th>saldo_medio_var33_ult1</th>\n",
       "      <th>saldo_medio_var33_ult3</th>\n",
       "      <th>saldo_medio_var44_hace2</th>\n",
       "      <th>saldo_medio_var44_hace3</th>\n",
       "      <th>saldo_medio_var44_ult1</th>\n",
       "      <th>saldo_medio_var44_ult3</th>\n",
       "      <th>var38</th>\n",
       "      <th>TARGET</th>\n",
       "    </tr>\n",
       "  </thead>\n",
       "  <tbody>\n",
       "    <tr>\n",
       "      <th>0</th>\n",
       "      <td>1</td>\n",
       "      <td>2</td>\n",
       "      <td>23</td>\n",
       "      <td>0.0</td>\n",
       "      <td>0.0</td>\n",
       "      <td>0.0</td>\n",
       "      <td>0.0</td>\n",
       "      <td>0.0</td>\n",
       "      <td>0.0</td>\n",
       "      <td>0.0</td>\n",
       "      <td>...</td>\n",
       "      <td>0.0</td>\n",
       "      <td>0.0</td>\n",
       "      <td>0.0</td>\n",
       "      <td>0.0</td>\n",
       "      <td>0.0</td>\n",
       "      <td>0.0</td>\n",
       "      <td>0.0</td>\n",
       "      <td>0.0</td>\n",
       "      <td>39205.170000</td>\n",
       "      <td>0</td>\n",
       "    </tr>\n",
       "    <tr>\n",
       "      <th>1</th>\n",
       "      <td>3</td>\n",
       "      <td>2</td>\n",
       "      <td>34</td>\n",
       "      <td>0.0</td>\n",
       "      <td>0.0</td>\n",
       "      <td>0.0</td>\n",
       "      <td>0.0</td>\n",
       "      <td>0.0</td>\n",
       "      <td>0.0</td>\n",
       "      <td>0.0</td>\n",
       "      <td>...</td>\n",
       "      <td>0.0</td>\n",
       "      <td>0.0</td>\n",
       "      <td>0.0</td>\n",
       "      <td>0.0</td>\n",
       "      <td>0.0</td>\n",
       "      <td>0.0</td>\n",
       "      <td>0.0</td>\n",
       "      <td>0.0</td>\n",
       "      <td>49278.030000</td>\n",
       "      <td>0</td>\n",
       "    </tr>\n",
       "    <tr>\n",
       "      <th>2</th>\n",
       "      <td>4</td>\n",
       "      <td>2</td>\n",
       "      <td>23</td>\n",
       "      <td>0.0</td>\n",
       "      <td>0.0</td>\n",
       "      <td>0.0</td>\n",
       "      <td>0.0</td>\n",
       "      <td>0.0</td>\n",
       "      <td>0.0</td>\n",
       "      <td>0.0</td>\n",
       "      <td>...</td>\n",
       "      <td>0.0</td>\n",
       "      <td>0.0</td>\n",
       "      <td>0.0</td>\n",
       "      <td>0.0</td>\n",
       "      <td>0.0</td>\n",
       "      <td>0.0</td>\n",
       "      <td>0.0</td>\n",
       "      <td>0.0</td>\n",
       "      <td>67333.770000</td>\n",
       "      <td>0</td>\n",
       "    </tr>\n",
       "    <tr>\n",
       "      <th>3</th>\n",
       "      <td>8</td>\n",
       "      <td>2</td>\n",
       "      <td>37</td>\n",
       "      <td>0.0</td>\n",
       "      <td>195.0</td>\n",
       "      <td>195.0</td>\n",
       "      <td>0.0</td>\n",
       "      <td>0.0</td>\n",
       "      <td>0.0</td>\n",
       "      <td>0.0</td>\n",
       "      <td>...</td>\n",
       "      <td>0.0</td>\n",
       "      <td>0.0</td>\n",
       "      <td>0.0</td>\n",
       "      <td>0.0</td>\n",
       "      <td>0.0</td>\n",
       "      <td>0.0</td>\n",
       "      <td>0.0</td>\n",
       "      <td>0.0</td>\n",
       "      <td>64007.970000</td>\n",
       "      <td>0</td>\n",
       "    </tr>\n",
       "    <tr>\n",
       "      <th>4</th>\n",
       "      <td>10</td>\n",
       "      <td>2</td>\n",
       "      <td>39</td>\n",
       "      <td>0.0</td>\n",
       "      <td>0.0</td>\n",
       "      <td>0.0</td>\n",
       "      <td>0.0</td>\n",
       "      <td>0.0</td>\n",
       "      <td>0.0</td>\n",
       "      <td>0.0</td>\n",
       "      <td>...</td>\n",
       "      <td>0.0</td>\n",
       "      <td>0.0</td>\n",
       "      <td>0.0</td>\n",
       "      <td>0.0</td>\n",
       "      <td>0.0</td>\n",
       "      <td>0.0</td>\n",
       "      <td>0.0</td>\n",
       "      <td>0.0</td>\n",
       "      <td>117310.979016</td>\n",
       "      <td>0</td>\n",
       "    </tr>\n",
       "  </tbody>\n",
       "</table>\n",
       "<p>5 rows × 371 columns</p>\n",
       "</div>"
      ],
      "text/plain": [
       "   ID  var3  var15  imp_ent_var16_ult1  imp_op_var39_comer_ult1  \\\n",
       "0   1     2     23                 0.0                      0.0   \n",
       "1   3     2     34                 0.0                      0.0   \n",
       "2   4     2     23                 0.0                      0.0   \n",
       "3   8     2     37                 0.0                    195.0   \n",
       "4  10     2     39                 0.0                      0.0   \n",
       "\n",
       "   imp_op_var39_comer_ult3  imp_op_var40_comer_ult1  imp_op_var40_comer_ult3  \\\n",
       "0                      0.0                      0.0                      0.0   \n",
       "1                      0.0                      0.0                      0.0   \n",
       "2                      0.0                      0.0                      0.0   \n",
       "3                    195.0                      0.0                      0.0   \n",
       "4                      0.0                      0.0                      0.0   \n",
       "\n",
       "   imp_op_var40_efect_ult1  imp_op_var40_efect_ult3  ...  \\\n",
       "0                      0.0                      0.0  ...   \n",
       "1                      0.0                      0.0  ...   \n",
       "2                      0.0                      0.0  ...   \n",
       "3                      0.0                      0.0  ...   \n",
       "4                      0.0                      0.0  ...   \n",
       "\n",
       "   saldo_medio_var33_hace2  saldo_medio_var33_hace3  saldo_medio_var33_ult1  \\\n",
       "0                      0.0                      0.0                     0.0   \n",
       "1                      0.0                      0.0                     0.0   \n",
       "2                      0.0                      0.0                     0.0   \n",
       "3                      0.0                      0.0                     0.0   \n",
       "4                      0.0                      0.0                     0.0   \n",
       "\n",
       "   saldo_medio_var33_ult3  saldo_medio_var44_hace2  saldo_medio_var44_hace3  \\\n",
       "0                     0.0                      0.0                      0.0   \n",
       "1                     0.0                      0.0                      0.0   \n",
       "2                     0.0                      0.0                      0.0   \n",
       "3                     0.0                      0.0                      0.0   \n",
       "4                     0.0                      0.0                      0.0   \n",
       "\n",
       "   saldo_medio_var44_ult1  saldo_medio_var44_ult3          var38  TARGET  \n",
       "0                     0.0                     0.0   39205.170000       0  \n",
       "1                     0.0                     0.0   49278.030000       0  \n",
       "2                     0.0                     0.0   67333.770000       0  \n",
       "3                     0.0                     0.0   64007.970000       0  \n",
       "4                     0.0                     0.0  117310.979016       0  \n",
       "\n",
       "[5 rows x 371 columns]"
      ]
     },
     "execution_count": 2,
     "metadata": {},
     "output_type": "execute_result"
    }
   ],
   "source": [
    "train.head()"
   ]
  },
  {
   "cell_type": "code",
   "execution_count": 3,
   "metadata": {},
   "outputs": [
    {
     "data": {
      "text/plain": [
       "0"
      ]
     },
     "execution_count": 3,
     "metadata": {},
     "output_type": "execute_result"
    }
   ],
   "source": [
    "#0 NA\n",
    "train.isnull().sum().sum()"
   ]
  },
  {
   "cell_type": "code",
   "execution_count": 4,
   "metadata": {},
   "outputs": [
    {
     "data": {
      "text/plain": [
       "0    73012\n",
       "1     3008\n",
       "Name: TARGET, dtype: int64"
      ]
     },
     "execution_count": 4,
     "metadata": {},
     "output_type": "execute_result"
    }
   ],
   "source": [
    "train.TARGET.value_counts()"
   ]
  },
  {
   "cell_type": "code",
   "execution_count": 5,
   "metadata": {},
   "outputs": [
    {
     "data": {
      "text/plain": [
       "3008"
      ]
     },
     "execution_count": 5,
     "metadata": {},
     "output_type": "execute_result"
    }
   ],
   "source": [
    "sum(train.TARGET == 1)"
   ]
  },
  {
   "cell_type": "code",
   "execution_count": 6,
   "metadata": {},
   "outputs": [
    {
     "name": "stdout",
     "output_type": "stream",
     "text": [
      "unsatisfied rate 0.0396%\n"
     ]
    }
   ],
   "source": [
    "print('unsatisfied rate {0:.4f}%'.format(sum(train.TARGET == 1) / len(train)))"
   ]
  },
  {
   "cell_type": "code",
   "execution_count": 7,
   "metadata": {},
   "outputs": [
    {
     "data": {
      "text/html": [
       "<div>\n",
       "<style scoped>\n",
       "    .dataframe tbody tr th:only-of-type {\n",
       "        vertical-align: middle;\n",
       "    }\n",
       "\n",
       "    .dataframe tbody tr th {\n",
       "        vertical-align: top;\n",
       "    }\n",
       "\n",
       "    .dataframe thead th {\n",
       "        text-align: right;\n",
       "    }\n",
       "</style>\n",
       "<table border=\"1\" class=\"dataframe\">\n",
       "  <thead>\n",
       "    <tr style=\"text-align: right;\">\n",
       "      <th></th>\n",
       "      <th>ID</th>\n",
       "      <th>var3</th>\n",
       "      <th>var15</th>\n",
       "      <th>imp_ent_var16_ult1</th>\n",
       "      <th>imp_op_var39_comer_ult1</th>\n",
       "      <th>imp_op_var39_comer_ult3</th>\n",
       "      <th>imp_op_var40_comer_ult1</th>\n",
       "      <th>imp_op_var40_comer_ult3</th>\n",
       "      <th>imp_op_var40_efect_ult1</th>\n",
       "      <th>imp_op_var40_efect_ult3</th>\n",
       "      <th>...</th>\n",
       "      <th>saldo_medio_var33_hace2</th>\n",
       "      <th>saldo_medio_var33_hace3</th>\n",
       "      <th>saldo_medio_var33_ult1</th>\n",
       "      <th>saldo_medio_var33_ult3</th>\n",
       "      <th>saldo_medio_var44_hace2</th>\n",
       "      <th>saldo_medio_var44_hace3</th>\n",
       "      <th>saldo_medio_var44_ult1</th>\n",
       "      <th>saldo_medio_var44_ult3</th>\n",
       "      <th>var38</th>\n",
       "      <th>TARGET</th>\n",
       "    </tr>\n",
       "  </thead>\n",
       "  <tbody>\n",
       "    <tr>\n",
       "      <th>count</th>\n",
       "      <td>76020.000000</td>\n",
       "      <td>76020.000000</td>\n",
       "      <td>76020.000000</td>\n",
       "      <td>76020.000000</td>\n",
       "      <td>76020.000000</td>\n",
       "      <td>76020.000000</td>\n",
       "      <td>76020.000000</td>\n",
       "      <td>76020.000000</td>\n",
       "      <td>76020.000000</td>\n",
       "      <td>76020.000000</td>\n",
       "      <td>...</td>\n",
       "      <td>76020.000000</td>\n",
       "      <td>76020.000000</td>\n",
       "      <td>76020.000000</td>\n",
       "      <td>76020.000000</td>\n",
       "      <td>76020.000000</td>\n",
       "      <td>76020.000000</td>\n",
       "      <td>76020.000000</td>\n",
       "      <td>76020.000000</td>\n",
       "      <td>7.602000e+04</td>\n",
       "      <td>76020.000000</td>\n",
       "    </tr>\n",
       "    <tr>\n",
       "      <th>mean</th>\n",
       "      <td>75964.050723</td>\n",
       "      <td>-1523.199277</td>\n",
       "      <td>33.212865</td>\n",
       "      <td>86.208265</td>\n",
       "      <td>72.363067</td>\n",
       "      <td>119.529632</td>\n",
       "      <td>3.559130</td>\n",
       "      <td>6.472698</td>\n",
       "      <td>0.412946</td>\n",
       "      <td>0.567352</td>\n",
       "      <td>...</td>\n",
       "      <td>7.935824</td>\n",
       "      <td>1.365146</td>\n",
       "      <td>12.215580</td>\n",
       "      <td>8.784074</td>\n",
       "      <td>31.505324</td>\n",
       "      <td>1.858575</td>\n",
       "      <td>76.026165</td>\n",
       "      <td>56.614351</td>\n",
       "      <td>1.172358e+05</td>\n",
       "      <td>0.039569</td>\n",
       "    </tr>\n",
       "    <tr>\n",
       "      <th>std</th>\n",
       "      <td>43781.947379</td>\n",
       "      <td>39033.462364</td>\n",
       "      <td>12.956486</td>\n",
       "      <td>1614.757313</td>\n",
       "      <td>339.315831</td>\n",
       "      <td>546.266294</td>\n",
       "      <td>93.155749</td>\n",
       "      <td>153.737066</td>\n",
       "      <td>30.604864</td>\n",
       "      <td>36.513513</td>\n",
       "      <td>...</td>\n",
       "      <td>455.887218</td>\n",
       "      <td>113.959637</td>\n",
       "      <td>783.207399</td>\n",
       "      <td>538.439211</td>\n",
       "      <td>2013.125393</td>\n",
       "      <td>147.786584</td>\n",
       "      <td>4040.337842</td>\n",
       "      <td>2852.579397</td>\n",
       "      <td>1.826646e+05</td>\n",
       "      <td>0.194945</td>\n",
       "    </tr>\n",
       "    <tr>\n",
       "      <th>min</th>\n",
       "      <td>1.000000</td>\n",
       "      <td>-999999.000000</td>\n",
       "      <td>5.000000</td>\n",
       "      <td>0.000000</td>\n",
       "      <td>0.000000</td>\n",
       "      <td>0.000000</td>\n",
       "      <td>0.000000</td>\n",
       "      <td>0.000000</td>\n",
       "      <td>0.000000</td>\n",
       "      <td>0.000000</td>\n",
       "      <td>...</td>\n",
       "      <td>0.000000</td>\n",
       "      <td>0.000000</td>\n",
       "      <td>0.000000</td>\n",
       "      <td>0.000000</td>\n",
       "      <td>0.000000</td>\n",
       "      <td>0.000000</td>\n",
       "      <td>0.000000</td>\n",
       "      <td>0.000000</td>\n",
       "      <td>5.163750e+03</td>\n",
       "      <td>0.000000</td>\n",
       "    </tr>\n",
       "    <tr>\n",
       "      <th>25%</th>\n",
       "      <td>38104.750000</td>\n",
       "      <td>2.000000</td>\n",
       "      <td>23.000000</td>\n",
       "      <td>0.000000</td>\n",
       "      <td>0.000000</td>\n",
       "      <td>0.000000</td>\n",
       "      <td>0.000000</td>\n",
       "      <td>0.000000</td>\n",
       "      <td>0.000000</td>\n",
       "      <td>0.000000</td>\n",
       "      <td>...</td>\n",
       "      <td>0.000000</td>\n",
       "      <td>0.000000</td>\n",
       "      <td>0.000000</td>\n",
       "      <td>0.000000</td>\n",
       "      <td>0.000000</td>\n",
       "      <td>0.000000</td>\n",
       "      <td>0.000000</td>\n",
       "      <td>0.000000</td>\n",
       "      <td>6.787061e+04</td>\n",
       "      <td>0.000000</td>\n",
       "    </tr>\n",
       "    <tr>\n",
       "      <th>50%</th>\n",
       "      <td>76043.000000</td>\n",
       "      <td>2.000000</td>\n",
       "      <td>28.000000</td>\n",
       "      <td>0.000000</td>\n",
       "      <td>0.000000</td>\n",
       "      <td>0.000000</td>\n",
       "      <td>0.000000</td>\n",
       "      <td>0.000000</td>\n",
       "      <td>0.000000</td>\n",
       "      <td>0.000000</td>\n",
       "      <td>...</td>\n",
       "      <td>0.000000</td>\n",
       "      <td>0.000000</td>\n",
       "      <td>0.000000</td>\n",
       "      <td>0.000000</td>\n",
       "      <td>0.000000</td>\n",
       "      <td>0.000000</td>\n",
       "      <td>0.000000</td>\n",
       "      <td>0.000000</td>\n",
       "      <td>1.064092e+05</td>\n",
       "      <td>0.000000</td>\n",
       "    </tr>\n",
       "    <tr>\n",
       "      <th>75%</th>\n",
       "      <td>113748.750000</td>\n",
       "      <td>2.000000</td>\n",
       "      <td>40.000000</td>\n",
       "      <td>0.000000</td>\n",
       "      <td>0.000000</td>\n",
       "      <td>0.000000</td>\n",
       "      <td>0.000000</td>\n",
       "      <td>0.000000</td>\n",
       "      <td>0.000000</td>\n",
       "      <td>0.000000</td>\n",
       "      <td>...</td>\n",
       "      <td>0.000000</td>\n",
       "      <td>0.000000</td>\n",
       "      <td>0.000000</td>\n",
       "      <td>0.000000</td>\n",
       "      <td>0.000000</td>\n",
       "      <td>0.000000</td>\n",
       "      <td>0.000000</td>\n",
       "      <td>0.000000</td>\n",
       "      <td>1.187563e+05</td>\n",
       "      <td>0.000000</td>\n",
       "    </tr>\n",
       "    <tr>\n",
       "      <th>max</th>\n",
       "      <td>151838.000000</td>\n",
       "      <td>238.000000</td>\n",
       "      <td>105.000000</td>\n",
       "      <td>210000.000000</td>\n",
       "      <td>12888.030000</td>\n",
       "      <td>21024.810000</td>\n",
       "      <td>8237.820000</td>\n",
       "      <td>11073.570000</td>\n",
       "      <td>6600.000000</td>\n",
       "      <td>6600.000000</td>\n",
       "      <td>...</td>\n",
       "      <td>50003.880000</td>\n",
       "      <td>20385.720000</td>\n",
       "      <td>138831.630000</td>\n",
       "      <td>91778.730000</td>\n",
       "      <td>438329.220000</td>\n",
       "      <td>24650.010000</td>\n",
       "      <td>681462.900000</td>\n",
       "      <td>397884.300000</td>\n",
       "      <td>2.203474e+07</td>\n",
       "      <td>1.000000</td>\n",
       "    </tr>\n",
       "  </tbody>\n",
       "</table>\n",
       "<p>8 rows × 371 columns</p>\n",
       "</div>"
      ],
      "text/plain": [
       "                  ID           var3         var15  imp_ent_var16_ult1  \\\n",
       "count   76020.000000   76020.000000  76020.000000        76020.000000   \n",
       "mean    75964.050723   -1523.199277     33.212865           86.208265   \n",
       "std     43781.947379   39033.462364     12.956486         1614.757313   \n",
       "min         1.000000 -999999.000000      5.000000            0.000000   \n",
       "25%     38104.750000       2.000000     23.000000            0.000000   \n",
       "50%     76043.000000       2.000000     28.000000            0.000000   \n",
       "75%    113748.750000       2.000000     40.000000            0.000000   \n",
       "max    151838.000000     238.000000    105.000000       210000.000000   \n",
       "\n",
       "       imp_op_var39_comer_ult1  imp_op_var39_comer_ult3  \\\n",
       "count             76020.000000             76020.000000   \n",
       "mean                 72.363067               119.529632   \n",
       "std                 339.315831               546.266294   \n",
       "min                   0.000000                 0.000000   \n",
       "25%                   0.000000                 0.000000   \n",
       "50%                   0.000000                 0.000000   \n",
       "75%                   0.000000                 0.000000   \n",
       "max               12888.030000             21024.810000   \n",
       "\n",
       "       imp_op_var40_comer_ult1  imp_op_var40_comer_ult3  \\\n",
       "count             76020.000000             76020.000000   \n",
       "mean                  3.559130                 6.472698   \n",
       "std                  93.155749               153.737066   \n",
       "min                   0.000000                 0.000000   \n",
       "25%                   0.000000                 0.000000   \n",
       "50%                   0.000000                 0.000000   \n",
       "75%                   0.000000                 0.000000   \n",
       "max                8237.820000             11073.570000   \n",
       "\n",
       "       imp_op_var40_efect_ult1  imp_op_var40_efect_ult3  ...  \\\n",
       "count             76020.000000             76020.000000  ...   \n",
       "mean                  0.412946                 0.567352  ...   \n",
       "std                  30.604864                36.513513  ...   \n",
       "min                   0.000000                 0.000000  ...   \n",
       "25%                   0.000000                 0.000000  ...   \n",
       "50%                   0.000000                 0.000000  ...   \n",
       "75%                   0.000000                 0.000000  ...   \n",
       "max                6600.000000              6600.000000  ...   \n",
       "\n",
       "       saldo_medio_var33_hace2  saldo_medio_var33_hace3  \\\n",
       "count             76020.000000             76020.000000   \n",
       "mean                  7.935824                 1.365146   \n",
       "std                 455.887218               113.959637   \n",
       "min                   0.000000                 0.000000   \n",
       "25%                   0.000000                 0.000000   \n",
       "50%                   0.000000                 0.000000   \n",
       "75%                   0.000000                 0.000000   \n",
       "max               50003.880000             20385.720000   \n",
       "\n",
       "       saldo_medio_var33_ult1  saldo_medio_var33_ult3  \\\n",
       "count            76020.000000            76020.000000   \n",
       "mean                12.215580                8.784074   \n",
       "std                783.207399              538.439211   \n",
       "min                  0.000000                0.000000   \n",
       "25%                  0.000000                0.000000   \n",
       "50%                  0.000000                0.000000   \n",
       "75%                  0.000000                0.000000   \n",
       "max             138831.630000            91778.730000   \n",
       "\n",
       "       saldo_medio_var44_hace2  saldo_medio_var44_hace3  \\\n",
       "count             76020.000000             76020.000000   \n",
       "mean                 31.505324                 1.858575   \n",
       "std                2013.125393               147.786584   \n",
       "min                   0.000000                 0.000000   \n",
       "25%                   0.000000                 0.000000   \n",
       "50%                   0.000000                 0.000000   \n",
       "75%                   0.000000                 0.000000   \n",
       "max              438329.220000             24650.010000   \n",
       "\n",
       "       saldo_medio_var44_ult1  saldo_medio_var44_ult3         var38  \\\n",
       "count            76020.000000            76020.000000  7.602000e+04   \n",
       "mean                76.026165               56.614351  1.172358e+05   \n",
       "std               4040.337842             2852.579397  1.826646e+05   \n",
       "min                  0.000000                0.000000  5.163750e+03   \n",
       "25%                  0.000000                0.000000  6.787061e+04   \n",
       "50%                  0.000000                0.000000  1.064092e+05   \n",
       "75%                  0.000000                0.000000  1.187563e+05   \n",
       "max             681462.900000           397884.300000  2.203474e+07   \n",
       "\n",
       "             TARGET  \n",
       "count  76020.000000  \n",
       "mean       0.039569  \n",
       "std        0.194945  \n",
       "min        0.000000  \n",
       "25%        0.000000  \n",
       "50%        0.000000  \n",
       "75%        0.000000  \n",
       "max        1.000000  \n",
       "\n",
       "[8 rows x 371 columns]"
      ]
     },
     "execution_count": 7,
     "metadata": {},
     "output_type": "execute_result"
    }
   ],
   "source": [
    "train.describe()"
   ]
  },
  {
   "cell_type": "markdown",
   "metadata": {},
   "source": [
    "# preprocessing"
   ]
  },
  {
   "cell_type": "code",
   "execution_count": 8,
   "metadata": {},
   "outputs": [
    {
     "data": {
      "text/plain": [
       "<matplotlib.axes._subplots.AxesSubplot at 0x7fac03cdeb00>"
      ]
     },
     "execution_count": 8,
     "metadata": {},
     "output_type": "execute_result"
    },
    {
     "data": {
      "image/png": "[encoded data removed]",
      "text/plain": [
       "<Figure size 432x288 with 1 Axes>"
      ]
     },
     "metadata": {
      "needs_background": "light"
     },
     "output_type": "display_data"
    }
   ],
   "source": [
    "import seaborn as sns\n",
    "sns.kdeplot(train.var3)"
   ]
  },
  {
   "cell_type": "code",
   "execution_count": 9,
   "metadata": {},
   "outputs": [
    {
     "data": {
      "text/plain": [
       " 2         74165\n",
       " 8           138\n",
       "-999999      116\n",
       "Name: var3, dtype: int64"
      ]
     },
     "execution_count": 9,
     "metadata": {},
     "output_type": "execute_result"
    }
   ],
   "source": [
    "train.var3.value_counts().sort_values(ascending = False).head(3)"
   ]
  },
  {
   "cell_type": "code",
   "execution_count": 10,
   "metadata": {},
   "outputs": [],
   "source": [
    "#제일 많은 2로 채울 것\n",
    "train.var3.replace(-999999, 2, inplace = True)\n",
    "# drop id column\n",
    "train.drop('ID', axis = 1, inplace = True)"
   ]
  },
  {
   "cell_type": "markdown",
   "metadata": {},
   "source": [
    "# train_test_split"
   ]
  },
  {
   "cell_type": "code",
   "execution_count": 11,
   "metadata": {},
   "outputs": [],
   "source": [
    "X_features = train.iloc[:, :-1]\n",
    "y_labels = train.TARGET"
   ]
  },
  {
   "cell_type": "code",
   "execution_count": 12,
   "metadata": {},
   "outputs": [
    {
     "name": "stdout",
     "output_type": "stream",
     "text": [
      "train dataset shape :  (60816, 369) test dataset shape :  (15204, 369)\n",
      "train set label rate\n",
      "0    0.960964\n",
      "1    0.039036\n",
      "Name: TARGET, dtype: float64\n",
      "test set label rate\n",
      "0    0.9583\n",
      "1    0.0417\n",
      "Name: TARGET, dtype: float64\n"
     ]
    }
   ],
   "source": [
    "from sklearn.model_selection import train_test_split\n",
    "\n",
    "X_train, X_test, y_train ,y_test = train_test_split(X_features, y_labels,\n",
    "                                                   test_size = 0.2, random_state = 0)\n",
    "\n",
    "print('train dataset shape : ', X_train.shape, 'test dataset shape : ', X_test.shape)\n",
    "\n",
    "print('train set label rate')\n",
    "print(y_train.value_counts() / len(X_train))\n",
    "print('test set label rate')\n",
    "print(y_test.value_counts() / len(X_test))"
   ]
  },
  {
   "cell_type": "markdown",
   "metadata": {},
   "source": [
    "# XGBoost"
   ]
  },
  {
   "cell_type": "code",
   "execution_count": 13,
   "metadata": {},
   "outputs": [],
   "source": [
    "from xgboost import XGBClassifier\n",
    "from sklearn.metrics import roc_auc_score"
   ]
  },
  {
   "cell_type": "code",
   "execution_count": 14,
   "metadata": {},
   "outputs": [
    {
     "name": "stdout",
     "output_type": "stream",
     "text": [
      "[0]\tvalidation_0-auc:0.799928\tvalidation_1-auc:0.803548\n",
      "Multiple eval metrics have been passed: 'validation_1-auc' will be used for early stopping.\n",
      "\n",
      "Will train until validation_1-auc hasn't improved in 100 rounds.\n",
      "[50]\tvalidation_0-auc:0.843695\tvalidation_1-auc:0.836634\n",
      "[100]\tvalidation_0-auc:0.856386\tvalidation_1-auc:0.841469\n",
      "[150]\tvalidation_0-auc:0.862236\tvalidation_1-auc:0.841409\n",
      "[200]\tvalidation_0-auc:0.868041\tvalidation_1-auc:0.841281\n",
      "[250]\tvalidation_0-auc:0.872945\tvalidation_1-auc:0.841375\n",
      "Stopping. Best iteration:\n",
      "[178]\tvalidation_0-auc:0.866004\tvalidation_1-auc:0.841863\n",
      "\n"
     ]
    },
    {
     "data": {
      "text/plain": [
       "XGBClassifier(base_score=0.5, booster='gbtree', colsample_bylevel=1,\n",
       "       colsample_bytree=1, gamma=0, learning_rate=0.1, max_delta_step=0,\n",
       "       max_depth=3, min_child_weight=1, missing=None, n_estimators=500,\n",
       "       n_jobs=-1, nthread=None, objective='binary:logistic',\n",
       "       random_state=156, reg_alpha=0, reg_lambda=1, scale_pos_weight=1,\n",
       "       seed=None, silent=True, subsample=1, verbose_eval=50)"
      ]
     },
     "execution_count": 14,
     "metadata": {},
     "output_type": "execute_result"
    }
   ],
   "source": [
    "xgb = XGBClassifier(n_estimators = 500, random_state=156, verbose_eval = 50, n_jobs=-1)\n",
    "\n",
    "xgb.fit(X_train ,y_train, early_stopping_rounds = 100,verbose=50,\n",
    "       eval_metric = 'auc', eval_set = [(X_train, y_train), (X_test, y_test)])\n",
    "\n"
   ]
  },
  {
   "cell_type": "code",
   "execution_count": 15,
   "metadata": {},
   "outputs": [
    {
     "name": "stdout",
     "output_type": "stream",
     "text": [
      "ROC AUC : 0.8419\n"
     ]
    }
   ],
   "source": [
    "xgb_roc = roc_auc_score(y_test, xgb.predict_proba(X_test)[:, 1], average = 'macro')\n",
    "print('ROC AUC : {0:.4f}'.format(xgb_roc))"
   ]
  },
  {
   "cell_type": "markdown",
   "metadata": {},
   "source": [
    "## tuning"
   ]
  },
  {
   "cell_type": "code",
   "execution_count": 19,
   "metadata": {},
   "outputs": [
    {
     "name": "stderr",
     "output_type": "stream",
     "text": [
      "/usr/local/lib/python3.5/dist-packages/sklearn/model_selection/_split.py:2053: FutureWarning: You should specify a value for 'cv' instead of relying on the default value. The default value will change from 3 to 5 in version 0.22.\n",
      "  warnings.warn(CV_WARNING, FutureWarning)\n"
     ]
    },
    {
     "name": "stdout",
     "output_type": "stream",
     "text": [
      "[0]\tvalidation_0-auc:0.803125\tvalidation_1-auc:0.802563\n",
      "Multiple eval metrics have been passed: 'validation_1-auc' will be used for early stopping.\n",
      "\n",
      "Will train until validation_1-auc hasn't improved in 30 rounds.\n",
      "[10]\tvalidation_0-auc:0.828564\tvalidation_1-auc:0.826696\n",
      "[20]\tvalidation_0-auc:0.832219\tvalidation_1-auc:0.828685\n",
      "[30]\tvalidation_0-auc:0.845439\tvalidation_1-auc:0.836425\n",
      "[40]\tvalidation_0-auc:0.855712\tvalidation_1-auc:0.840052\n",
      "[50]\tvalidation_0-auc:0.861729\tvalidation_1-auc:0.841523\n",
      "[60]\tvalidation_0-auc:0.864934\tvalidation_1-auc:0.840377\n",
      "[70]\tvalidation_0-auc:0.867429\tvalidation_1-auc:0.839308\n",
      "Stopping. Best iteration:\n",
      "[48]\tvalidation_0-auc:0.861296\tvalidation_1-auc:0.841947\n",
      "\n",
      "[0]\tvalidation_0-auc:0.805518\tvalidation_1-auc:0.800757\n",
      "Multiple eval metrics have been passed: 'validation_1-auc' will be used for early stopping.\n",
      "\n",
      "Will train until validation_1-auc hasn't improved in 30 rounds.\n",
      "[10]\tvalidation_0-auc:0.831981\tvalidation_1-auc:0.829478\n",
      "[20]\tvalidation_0-auc:0.838181\tvalidation_1-auc:0.830192\n",
      "[30]\tvalidation_0-auc:0.847994\tvalidation_1-auc:0.837365\n",
      "[40]\tvalidation_0-auc:0.857825\tvalidation_1-auc:0.841409\n",
      "[50]\tvalidation_0-auc:0.863391\tvalidation_1-auc:0.843564\n",
      "[60]\tvalidation_0-auc:0.866891\tvalidation_1-auc:0.844308\n",
      "[70]\tvalidation_0-auc:0.869626\tvalidation_1-auc:0.844274\n",
      "[80]\tvalidation_0-auc:0.872036\tvalidation_1-auc:0.843995\n",
      "[90]\tvalidation_0-auc:0.874094\tvalidation_1-auc:0.843518\n",
      "[99]\tvalidation_0-auc:0.875284\tvalidation_1-auc:0.843298\n",
      "[0]\tvalidation_0-auc:0.813699\tvalidation_1-auc:0.811743\n",
      "Multiple eval metrics have been passed: 'validation_1-auc' will be used for early stopping.\n",
      "\n",
      "Will train until validation_1-auc hasn't improved in 30 rounds.\n",
      "[10]\tvalidation_0-auc:0.835924\tvalidation_1-auc:0.83093\n",
      "[20]\tvalidation_0-auc:0.838304\tvalidation_1-auc:0.829682\n",
      "[30]\tvalidation_0-auc:0.848109\tvalidation_1-auc:0.835437\n",
      "[40]\tvalidation_0-auc:0.856969\tvalidation_1-auc:0.839123\n",
      "[50]\tvalidation_0-auc:0.862619\tvalidation_1-auc:0.841506\n",
      "[60]\tvalidation_0-auc:0.866336\tvalidation_1-auc:0.841978\n",
      "[70]\tvalidation_0-auc:0.869976\tvalidation_1-auc:0.841587\n",
      "[80]\tvalidation_0-auc:0.872442\tvalidation_1-auc:0.841737\n",
      "Stopping. Best iteration:\n",
      "[57]\tvalidation_0-auc:0.865576\tvalidation_1-auc:0.842257\n",
      "\n",
      "[0]\tvalidation_0-auc:0.802666\tvalidation_1-auc:0.80308\n",
      "Multiple eval metrics have been passed: 'validation_1-auc' will be used for early stopping.\n",
      "\n",
      "Will train until validation_1-auc hasn't improved in 30 rounds.\n",
      "[10]\tvalidation_0-auc:0.829222\tvalidation_1-auc:0.827035\n",
      "[20]\tvalidation_0-auc:0.833163\tvalidation_1-auc:0.82842\n",
      "[30]\tvalidation_0-auc:0.844478\tvalidation_1-auc:0.836502\n",
      "[40]\tvalidation_0-auc:0.853917\tvalidation_1-auc:0.840912\n",
      "[50]\tvalidation_0-auc:0.858845\tvalidation_1-auc:0.841424\n",
      "[60]\tvalidation_0-auc:0.861944\tvalidation_1-auc:0.840855\n",
      "[70]\tvalidation_0-auc:0.863855\tvalidation_1-auc:0.840364\n",
      "Stopping. Best iteration:\n",
      "[48]\tvalidation_0-auc:0.85843\tvalidation_1-auc:0.841841\n",
      "\n",
      "[0]\tvalidation_0-auc:0.80788\tvalidation_1-auc:0.804066\n",
      "Multiple eval metrics have been passed: 'validation_1-auc' will be used for early stopping.\n",
      "\n",
      "Will train until validation_1-auc hasn't improved in 30 rounds.\n",
      "[10]\tvalidation_0-auc:0.833865\tvalidation_1-auc:0.830484\n",
      "[20]\tvalidation_0-auc:0.836381\tvalidation_1-auc:0.830041\n",
      "[30]\tvalidation_0-auc:0.845993\tvalidation_1-auc:0.83688\n",
      "[40]\tvalidation_0-auc:0.855701\tvalidation_1-auc:0.841709\n",
      "[50]\tvalidation_0-auc:0.861031\tvalidation_1-auc:0.843052\n",
      "[60]\tvalidation_0-auc:0.863818\tvalidation_1-auc:0.843006\n",
      "[70]\tvalidation_0-auc:0.866185\tvalidation_1-auc:0.84386\n",
      "[80]\tvalidation_0-auc:0.868058\tvalidation_1-auc:0.844205\n",
      "[90]\tvalidation_0-auc:0.870185\tvalidation_1-auc:0.84458\n",
      "[99]\tvalidation_0-auc:0.87119\tvalidation_1-auc:0.844457\n",
      "[0]\tvalidation_0-auc:0.812472\tvalidation_1-auc:0.809018\n",
      "Multiple eval metrics have been passed: 'validation_1-auc' will be used for early stopping.\n",
      "\n",
      "Will train until validation_1-auc hasn't improved in 30 rounds.\n",
      "[10]\tvalidation_0-auc:0.835106\tvalidation_1-auc:0.828653\n",
      "[20]\tvalidation_0-auc:0.837919\tvalidation_1-auc:0.828905\n",
      "[30]\tvalidation_0-auc:0.847028\tvalidation_1-auc:0.835773\n",
      "[40]\tvalidation_0-auc:0.85515\tvalidation_1-auc:0.838845\n",
      "[50]\tvalidation_0-auc:0.859834\tvalidation_1-auc:0.840867\n",
      "[60]\tvalidation_0-auc:0.863463\tvalidation_1-auc:0.841772\n",
      "[70]\tvalidation_0-auc:0.866174\tvalidation_1-auc:0.841904\n",
      "[80]\tvalidation_0-auc:0.868822\tvalidation_1-auc:0.842532\n",
      "[90]\tvalidation_0-auc:0.870159\tvalidation_1-auc:0.842695\n",
      "[99]\tvalidation_0-auc:0.871579\tvalidation_1-auc:0.842103\n",
      "[0]\tvalidation_0-auc:0.809941\tvalidation_1-auc:0.806671\n",
      "Multiple eval metrics have been passed: 'validation_1-auc' will be used for early stopping.\n",
      "\n",
      "Will train until validation_1-auc hasn't improved in 30 rounds.\n",
      "[10]\tvalidation_0-auc:0.839363\tvalidation_1-auc:0.830276\n",
      "[20]\tvalidation_0-auc:0.848231\tvalidation_1-auc:0.829971\n",
      "[30]\tvalidation_0-auc:0.861455\tvalidation_1-auc:0.836207\n",
      "[40]\tvalidation_0-auc:0.873337\tvalidation_1-auc:0.839565\n",
      "[50]\tvalidation_0-auc:0.87951\tvalidation_1-auc:0.840738\n",
      "[60]\tvalidation_0-auc:0.883357\tvalidation_1-auc:0.839329\n",
      "[70]\tvalidation_0-auc:0.885748\tvalidation_1-auc:0.83787\n",
      "[80]\tvalidation_0-auc:0.888249\tvalidation_1-auc:0.837288\n",
      "Stopping. Best iteration:\n",
      "[52]\tvalidation_0-auc:0.880292\tvalidation_1-auc:0.841076\n",
      "\n",
      "[0]\tvalidation_0-auc:0.809828\tvalidation_1-auc:0.803768\n",
      "Multiple eval metrics have been passed: 'validation_1-auc' will be used for early stopping.\n",
      "\n",
      "Will train until validation_1-auc hasn't improved in 30 rounds.\n",
      "[10]\tvalidation_0-auc:0.844675\tvalidation_1-auc:0.832457\n",
      "[20]\tvalidation_0-auc:0.853194\tvalidation_1-auc:0.830541\n",
      "[30]\tvalidation_0-auc:0.864389\tvalidation_1-auc:0.838544\n",
      "[40]\tvalidation_0-auc:0.876456\tvalidation_1-auc:0.842456\n",
      "[50]\tvalidation_0-auc:0.884254\tvalidation_1-auc:0.845466\n",
      "[60]\tvalidation_0-auc:0.888074\tvalidation_1-auc:0.84553\n",
      "[70]\tvalidation_0-auc:0.890453\tvalidation_1-auc:0.845272\n",
      "[80]\tvalidation_0-auc:0.892582\tvalidation_1-auc:0.844979\n",
      "Stopping. Best iteration:\n",
      "[51]\tvalidation_0-auc:0.884591\tvalidation_1-auc:0.845986\n",
      "\n",
      "[0]\tvalidation_0-auc:0.817353\tvalidation_1-auc:0.81178\n",
      "Multiple eval metrics have been passed: 'validation_1-auc' will be used for early stopping.\n",
      "\n",
      "Will train until validation_1-auc hasn't improved in 30 rounds.\n",
      "[10]\tvalidation_0-auc:0.844079\tvalidation_1-auc:0.830873\n",
      "[20]\tvalidation_0-auc:0.851449\tvalidation_1-auc:0.83031\n",
      "[30]\tvalidation_0-auc:0.864643\tvalidation_1-auc:0.834521\n",
      "[40]\tvalidation_0-auc:0.876834\tvalidation_1-auc:0.84025\n",
      "[50]\tvalidation_0-auc:0.883398\tvalidation_1-auc:0.841897\n",
      "[60]\tvalidation_0-auc:0.886738\tvalidation_1-auc:0.841013\n",
      "[70]\tvalidation_0-auc:0.889809\tvalidation_1-auc:0.841259\n",
      "[80]\tvalidation_0-auc:0.892605\tvalidation_1-auc:0.840422\n",
      "Stopping. Best iteration:\n",
      "[53]\tvalidation_0-auc:0.884717\tvalidation_1-auc:0.842413\n",
      "\n",
      "[0]\tvalidation_0-auc:0.809522\tvalidation_1-auc:0.80762\n",
      "Multiple eval metrics have been passed: 'validation_1-auc' will be used for early stopping.\n",
      "\n",
      "Will train until validation_1-auc hasn't improved in 30 rounds.\n",
      "[10]\tvalidation_0-auc:0.838293\tvalidation_1-auc:0.834009\n",
      "[20]\tvalidation_0-auc:0.847131\tvalidation_1-auc:0.831021\n",
      "[30]\tvalidation_0-auc:0.858418\tvalidation_1-auc:0.83552\n",
      "[40]\tvalidation_0-auc:0.86921\tvalidation_1-auc:0.838321\n",
      "[50]\tvalidation_0-auc:0.87545\tvalidation_1-auc:0.84027\n",
      "[60]\tvalidation_0-auc:0.878567\tvalidation_1-auc:0.840244\n",
      "[70]\tvalidation_0-auc:0.880587\tvalidation_1-auc:0.839141\n",
      "Stopping. Best iteration:\n",
      "[48]\tvalidation_0-auc:0.874708\tvalidation_1-auc:0.841114\n",
      "\n",
      "[0]\tvalidation_0-auc:0.810121\tvalidation_1-auc:0.804327\n",
      "Multiple eval metrics have been passed: 'validation_1-auc' will be used for early stopping.\n",
      "\n",
      "Will train until validation_1-auc hasn't improved in 30 rounds.\n",
      "[10]\tvalidation_0-auc:0.844302\tvalidation_1-auc:0.835079\n",
      "[20]\tvalidation_0-auc:0.850769\tvalidation_1-auc:0.833806\n",
      "[30]\tvalidation_0-auc:0.860965\tvalidation_1-auc:0.838778\n",
      "[40]\tvalidation_0-auc:0.870804\tvalidation_1-auc:0.842036\n",
      "[50]\tvalidation_0-auc:0.877705\tvalidation_1-auc:0.84359\n",
      "[60]\tvalidation_0-auc:0.880885\tvalidation_1-auc:0.844754\n",
      "[70]\tvalidation_0-auc:0.883109\tvalidation_1-auc:0.844226\n",
      "[80]\tvalidation_0-auc:0.885063\tvalidation_1-auc:0.843967\n",
      "[90]\tvalidation_0-auc:0.886615\tvalidation_1-auc:0.843956\n",
      "Stopping. Best iteration:\n",
      "[62]\tvalidation_0-auc:0.881354\tvalidation_1-auc:0.844802\n",
      "\n"
     ]
    },
    {
     "name": "stdout",
     "output_type": "stream",
     "text": [
      "[0]\tvalidation_0-auc:0.815595\tvalidation_1-auc:0.809669\n",
      "Multiple eval metrics have been passed: 'validation_1-auc' will be used for early stopping.\n",
      "\n",
      "Will train until validation_1-auc hasn't improved in 30 rounds.\n",
      "[10]\tvalidation_0-auc:0.844112\tvalidation_1-auc:0.829166\n",
      "[20]\tvalidation_0-auc:0.850348\tvalidation_1-auc:0.830571\n",
      "[30]\tvalidation_0-auc:0.861193\tvalidation_1-auc:0.835582\n",
      "[40]\tvalidation_0-auc:0.872038\tvalidation_1-auc:0.840891\n",
      "[50]\tvalidation_0-auc:0.877319\tvalidation_1-auc:0.841736\n",
      "[60]\tvalidation_0-auc:0.880808\tvalidation_1-auc:0.841344\n",
      "[70]\tvalidation_0-auc:0.883415\tvalidation_1-auc:0.841402\n",
      "[80]\tvalidation_0-auc:0.886227\tvalidation_1-auc:0.840797\n",
      "Stopping. Best iteration:\n",
      "[52]\tvalidation_0-auc:0.877956\tvalidation_1-auc:0.842526\n",
      "\n",
      "[0]\tvalidation_0-auc:0.801516\tvalidation_1-auc:0.805217\n",
      "Multiple eval metrics have been passed: 'validation_1-auc' will be used for early stopping.\n",
      "\n",
      "Will train until validation_1-auc hasn't improved in 30 rounds.\n",
      "[10]\tvalidation_0-auc:0.833978\tvalidation_1-auc:0.828255\n",
      "[20]\tvalidation_0-auc:0.842648\tvalidation_1-auc:0.832087\n",
      "[30]\tvalidation_0-auc:0.851254\tvalidation_1-auc:0.838815\n",
      "[40]\tvalidation_0-auc:0.85766\tvalidation_1-auc:0.83974\n",
      "[50]\tvalidation_0-auc:0.862304\tvalidation_1-auc:0.837961\n",
      "[60]\tvalidation_0-auc:0.866155\tvalidation_1-auc:0.836697\n",
      "Stopping. Best iteration:\n",
      "[39]\tvalidation_0-auc:0.857173\tvalidation_1-auc:0.840037\n",
      "\n",
      "[0]\tvalidation_0-auc:0.805402\tvalidation_1-auc:0.800555\n",
      "Multiple eval metrics have been passed: 'validation_1-auc' will be used for early stopping.\n",
      "\n",
      "Will train until validation_1-auc hasn't improved in 30 rounds.\n",
      "[10]\tvalidation_0-auc:0.836142\tvalidation_1-auc:0.827911\n",
      "[20]\tvalidation_0-auc:0.846046\tvalidation_1-auc:0.834801\n",
      "[30]\tvalidation_0-auc:0.853275\tvalidation_1-auc:0.840272\n",
      "[40]\tvalidation_0-auc:0.860828\tvalidation_1-auc:0.841991\n",
      "[50]\tvalidation_0-auc:0.865013\tvalidation_1-auc:0.842381\n",
      "[60]\tvalidation_0-auc:0.868438\tvalidation_1-auc:0.842146\n",
      "[70]\tvalidation_0-auc:0.871426\tvalidation_1-auc:0.842206\n",
      "Stopping. Best iteration:\n",
      "[46]\tvalidation_0-auc:0.863392\tvalidation_1-auc:0.842827\n",
      "\n",
      "[0]\tvalidation_0-auc:0.813645\tvalidation_1-auc:0.811787\n",
      "Multiple eval metrics have been passed: 'validation_1-auc' will be used for early stopping.\n",
      "\n",
      "Will train until validation_1-auc hasn't improved in 30 rounds.\n",
      "[10]\tvalidation_0-auc:0.836246\tvalidation_1-auc:0.829923\n",
      "[20]\tvalidation_0-auc:0.846499\tvalidation_1-auc:0.836778\n",
      "[30]\tvalidation_0-auc:0.85408\tvalidation_1-auc:0.838457\n",
      "[40]\tvalidation_0-auc:0.859799\tvalidation_1-auc:0.841436\n",
      "[50]\tvalidation_0-auc:0.864088\tvalidation_1-auc:0.84233\n",
      "[60]\tvalidation_0-auc:0.867398\tvalidation_1-auc:0.842447\n",
      "[70]\tvalidation_0-auc:0.871187\tvalidation_1-auc:0.842548\n",
      "[80]\tvalidation_0-auc:0.873025\tvalidation_1-auc:0.843109\n",
      "[90]\tvalidation_0-auc:0.874878\tvalidation_1-auc:0.84279\n",
      "[99]\tvalidation_0-auc:0.876463\tvalidation_1-auc:0.842601\n",
      "[0]\tvalidation_0-auc:0.803003\tvalidation_1-auc:0.804891\n",
      "Multiple eval metrics have been passed: 'validation_1-auc' will be used for early stopping.\n",
      "\n",
      "Will train until validation_1-auc hasn't improved in 30 rounds.\n",
      "[10]\tvalidation_0-auc:0.835722\tvalidation_1-auc:0.830429\n",
      "[20]\tvalidation_0-auc:0.843215\tvalidation_1-auc:0.833287\n",
      "[30]\tvalidation_0-auc:0.850671\tvalidation_1-auc:0.839876\n",
      "[40]\tvalidation_0-auc:0.85635\tvalidation_1-auc:0.84074\n",
      "[50]\tvalidation_0-auc:0.860559\tvalidation_1-auc:0.840384\n",
      "[60]\tvalidation_0-auc:0.863434\tvalidation_1-auc:0.840024\n",
      "Stopping. Best iteration:\n",
      "[38]\tvalidation_0-auc:0.855743\tvalidation_1-auc:0.841259\n",
      "\n",
      "[0]\tvalidation_0-auc:0.806159\tvalidation_1-auc:0.809346\n",
      "Multiple eval metrics have been passed: 'validation_1-auc' will be used for early stopping.\n",
      "\n",
      "Will train until validation_1-auc hasn't improved in 30 rounds.\n",
      "[10]\tvalidation_0-auc:0.836601\tvalidation_1-auc:0.828752\n",
      "[20]\tvalidation_0-auc:0.845106\tvalidation_1-auc:0.833626\n",
      "[30]\tvalidation_0-auc:0.852623\tvalidation_1-auc:0.840752\n",
      "[40]\tvalidation_0-auc:0.858192\tvalidation_1-auc:0.841266\n",
      "[50]\tvalidation_0-auc:0.861667\tvalidation_1-auc:0.841698\n",
      "[60]\tvalidation_0-auc:0.865185\tvalidation_1-auc:0.842921\n",
      "[70]\tvalidation_0-auc:0.866968\tvalidation_1-auc:0.842941\n",
      "[80]\tvalidation_0-auc:0.868954\tvalidation_1-auc:0.842914\n",
      "[90]\tvalidation_0-auc:0.870593\tvalidation_1-auc:0.843202\n",
      "[99]\tvalidation_0-auc:0.871644\tvalidation_1-auc:0.842537\n",
      "[0]\tvalidation_0-auc:0.812453\tvalidation_1-auc:0.80884\n",
      "Multiple eval metrics have been passed: 'validation_1-auc' will be used for early stopping.\n",
      "\n",
      "Will train until validation_1-auc hasn't improved in 30 rounds.\n",
      "[10]\tvalidation_0-auc:0.839634\tvalidation_1-auc:0.831256\n",
      "[20]\tvalidation_0-auc:0.84653\tvalidation_1-auc:0.835723\n",
      "[30]\tvalidation_0-auc:0.85264\tvalidation_1-auc:0.83766\n",
      "[40]\tvalidation_0-auc:0.857906\tvalidation_1-auc:0.840515\n",
      "[50]\tvalidation_0-auc:0.862228\tvalidation_1-auc:0.842856\n",
      "[60]\tvalidation_0-auc:0.865093\tvalidation_1-auc:0.84301\n",
      "[70]\tvalidation_0-auc:0.867352\tvalidation_1-auc:0.84322\n",
      "[80]\tvalidation_0-auc:0.869115\tvalidation_1-auc:0.843333\n",
      "[90]\tvalidation_0-auc:0.870483\tvalidation_1-auc:0.843495\n",
      "[99]\tvalidation_0-auc:0.871812\tvalidation_1-auc:0.84336\n",
      "[0]\tvalidation_0-auc:0.809826\tvalidation_1-auc:0.805978\n",
      "Multiple eval metrics have been passed: 'validation_1-auc' will be used for early stopping.\n",
      "\n",
      "Will train until validation_1-auc hasn't improved in 30 rounds.\n",
      "[10]\tvalidation_0-auc:0.841968\tvalidation_1-auc:0.83075\n",
      "[20]\tvalidation_0-auc:0.857699\tvalidation_1-auc:0.83636\n",
      "[30]\tvalidation_0-auc:0.86977\tvalidation_1-auc:0.839529\n",
      "[40]\tvalidation_0-auc:0.878772\tvalidation_1-auc:0.838792\n",
      "[50]\tvalidation_0-auc:0.883839\tvalidation_1-auc:0.836894\n",
      "[60]\tvalidation_0-auc:0.887136\tvalidation_1-auc:0.835473\n",
      "Stopping. Best iteration:\n",
      "[31]\tvalidation_0-auc:0.870822\tvalidation_1-auc:0.839648\n",
      "\n",
      "[0]\tvalidation_0-auc:0.811797\tvalidation_1-auc:0.806179\n",
      "Multiple eval metrics have been passed: 'validation_1-auc' will be used for early stopping.\n",
      "\n",
      "Will train until validation_1-auc hasn't improved in 30 rounds.\n",
      "[10]\tvalidation_0-auc:0.848003\tvalidation_1-auc:0.832617\n",
      "[20]\tvalidation_0-auc:0.861344\tvalidation_1-auc:0.836908\n",
      "[30]\tvalidation_0-auc:0.87157\tvalidation_1-auc:0.841562\n",
      "[40]\tvalidation_0-auc:0.88106\tvalidation_1-auc:0.843674\n",
      "[50]\tvalidation_0-auc:0.885878\tvalidation_1-auc:0.843905\n",
      "[60]\tvalidation_0-auc:0.888799\tvalidation_1-auc:0.842736\n",
      "[70]\tvalidation_0-auc:0.89126\tvalidation_1-auc:0.842113\n",
      "[80]\tvalidation_0-auc:0.894006\tvalidation_1-auc:0.842236\n",
      "Stopping. Best iteration:\n",
      "[51]\tvalidation_0-auc:0.886018\tvalidation_1-auc:0.844547\n",
      "\n",
      "[0]\tvalidation_0-auc:0.817368\tvalidation_1-auc:0.811863\n",
      "Multiple eval metrics have been passed: 'validation_1-auc' will be used for early stopping.\n",
      "\n",
      "Will train until validation_1-auc hasn't improved in 30 rounds.\n",
      "[10]\tvalidation_0-auc:0.845101\tvalidation_1-auc:0.832574\n",
      "[20]\tvalidation_0-auc:0.861555\tvalidation_1-auc:0.83728\n",
      "[30]\tvalidation_0-auc:0.873656\tvalidation_1-auc:0.839664\n",
      "[40]\tvalidation_0-auc:0.882067\tvalidation_1-auc:0.840995\n",
      "[50]\tvalidation_0-auc:0.887266\tvalidation_1-auc:0.840325\n",
      "[60]\tvalidation_0-auc:0.890642\tvalidation_1-auc:0.838779\n",
      "[70]\tvalidation_0-auc:0.893552\tvalidation_1-auc:0.839279\n",
      "Stopping. Best iteration:\n",
      "[46]\tvalidation_0-auc:0.885117\tvalidation_1-auc:0.841106\n",
      "\n",
      "[0]\tvalidation_0-auc:0.808568\tvalidation_1-auc:0.807272\n",
      "Multiple eval metrics have been passed: 'validation_1-auc' will be used for early stopping.\n",
      "\n",
      "Will train until validation_1-auc hasn't improved in 30 rounds.\n",
      "[10]\tvalidation_0-auc:0.842483\tvalidation_1-auc:0.833572\n",
      "[20]\tvalidation_0-auc:0.856149\tvalidation_1-auc:0.834832\n",
      "[30]\tvalidation_0-auc:0.865845\tvalidation_1-auc:0.839653\n",
      "[40]\tvalidation_0-auc:0.873095\tvalidation_1-auc:0.839988\n",
      "[50]\tvalidation_0-auc:0.877398\tvalidation_1-auc:0.838395\n",
      "[60]\tvalidation_0-auc:0.880123\tvalidation_1-auc:0.836996\n",
      "Stopping. Best iteration:\n",
      "[37]\tvalidation_0-auc:0.871323\tvalidation_1-auc:0.84036\n",
      "\n",
      "[0]\tvalidation_0-auc:0.809473\tvalidation_1-auc:0.810735\n",
      "Multiple eval metrics have been passed: 'validation_1-auc' will be used for early stopping.\n",
      "\n",
      "Will train until validation_1-auc hasn't improved in 30 rounds.\n",
      "[10]\tvalidation_0-auc:0.848816\tvalidation_1-auc:0.837151\n",
      "[20]\tvalidation_0-auc:0.858389\tvalidation_1-auc:0.837443\n",
      "[30]\tvalidation_0-auc:0.868003\tvalidation_1-auc:0.841291\n",
      "[40]\tvalidation_0-auc:0.875523\tvalidation_1-auc:0.843206\n"
     ]
    },
    {
     "name": "stdout",
     "output_type": "stream",
     "text": [
      "[50]\tvalidation_0-auc:0.879717\tvalidation_1-auc:0.843911\n",
      "[60]\tvalidation_0-auc:0.881882\tvalidation_1-auc:0.842583\n",
      "[70]\tvalidation_0-auc:0.883715\tvalidation_1-auc:0.842291\n",
      "[80]\tvalidation_0-auc:0.885802\tvalidation_1-auc:0.842277\n",
      "Stopping. Best iteration:\n",
      "[51]\tvalidation_0-auc:0.879879\tvalidation_1-auc:0.843926\n",
      "\n",
      "[0]\tvalidation_0-auc:0.815566\tvalidation_1-auc:0.809454\n",
      "Multiple eval metrics have been passed: 'validation_1-auc' will be used for early stopping.\n",
      "\n",
      "Will train until validation_1-auc hasn't improved in 30 rounds.\n",
      "[10]\tvalidation_0-auc:0.847828\tvalidation_1-auc:0.832875\n",
      "[20]\tvalidation_0-auc:0.860748\tvalidation_1-auc:0.836907\n",
      "[30]\tvalidation_0-auc:0.869167\tvalidation_1-auc:0.839324\n",
      "[40]\tvalidation_0-auc:0.874889\tvalidation_1-auc:0.840621\n",
      "[50]\tvalidation_0-auc:0.879987\tvalidation_1-auc:0.84283\n",
      "[60]\tvalidation_0-auc:0.882967\tvalidation_1-auc:0.843002\n",
      "[70]\tvalidation_0-auc:0.885758\tvalidation_1-auc:0.842685\n",
      "[80]\tvalidation_0-auc:0.887776\tvalidation_1-auc:0.842893\n",
      "Stopping. Best iteration:\n",
      "[57]\tvalidation_0-auc:0.882502\tvalidation_1-auc:0.843281\n",
      "\n",
      "[0]\tvalidation_0-auc:0.814755\tvalidation_1-auc:0.810984\n",
      "Multiple eval metrics have been passed: 'validation_1-auc' will be used for early stopping.\n",
      "\n",
      "Will train until validation_1-auc hasn't improved in 30 rounds.\n",
      "[10]\tvalidation_0-auc:0.841556\tvalidation_1-auc:0.831743\n",
      "[20]\tvalidation_0-auc:0.849766\tvalidation_1-auc:0.836163\n",
      "[30]\tvalidation_0-auc:0.857674\tvalidation_1-auc:0.840757\n",
      "[40]\tvalidation_0-auc:0.865197\tvalidation_1-auc:0.842582\n",
      "[50]\tvalidation_0-auc:0.869817\tvalidation_1-auc:0.842729\n",
      "[60]\tvalidation_0-auc:0.874829\tvalidation_1-auc:0.84365\n",
      "[70]\tvalidation_0-auc:0.878322\tvalidation_1-auc:0.842774\n",
      "[80]\tvalidation_0-auc:0.881564\tvalidation_1-auc:0.842754\n",
      "Stopping. Best iteration:\n",
      "[59]\tvalidation_0-auc:0.874233\tvalidation_1-auc:0.843797\n",
      "\n"
     ]
    },
    {
     "data": {
      "text/plain": [
       "GridSearchCV(cv='warn', error_score='raise-deprecating',\n",
       "       estimator=XGBClassifier(base_score=0.5, booster='gbtree', colsample_bylevel=1,\n",
       "       colsample_bytree=1, gamma=0, learning_rate=0.1, max_delta_step=0,\n",
       "       max_depth=3, min_child_weight=1, missing=None, n_estimators=100,\n",
       "       n_jobs=-1, nthread=None, objective='binary:logistic',\n",
       "       random_state=0, reg_alpha=0, reg_lambda=1, scale_pos_weight=1,\n",
       "       seed=None, silent=True, subsample=1, verbose_eval=10),\n",
       "       fit_params=None, iid='warn', n_jobs=None,\n",
       "       param_grid={'max_depth': [5, 7], 'min_child_weight': [1, 3], 'colsample_bytree': [0.5, 0.75]},\n",
       "       pre_dispatch='2*n_jobs', refit=True, return_train_score='warn',\n",
       "       scoring=None, verbose=0)"
      ]
     },
     "execution_count": 19,
     "metadata": {},
     "output_type": "execute_result"
    }
   ],
   "source": [
    "from sklearn.model_selection import GridSearchCV\n",
    "\n",
    "#속도를 향상시키기 위해 n_estimators = 100으로 감소\n",
    "xgb = XGBClassifier(n_estimators=100, n_jobs = -1, verbose_eval = 10)\n",
    "\n",
    "params = {\n",
    "    'max_depth' : [5,7],\n",
    "    'min_child_weight' : [1,3],\n",
    "    'colsample_bytree' : [0.5,0.75]\n",
    "}\n",
    "\n",
    "gridcv = GridSearchCV(xgb, param_grid=params)\n",
    "gridcv.fit(X_train, y_train, early_stopping_rounds = 30, eval_metric = 'auc',\n",
    "                     eval_set = [(X_train, y_train), (X_test, y_test)], verbose=10)"
   ]
  },
  {
   "cell_type": "code",
   "execution_count": 20,
   "metadata": {},
   "outputs": [
    {
     "name": "stdout",
     "output_type": "stream",
     "text": [
      "GridSearchCV best parameter :  {'max_depth': 5, 'min_child_weight': 1, 'colsample_bytree': 0.75}\n"
     ]
    }
   ],
   "source": [
    "print('GridSearchCV best parameter : ', gridcv.best_params_)"
   ]
  },
  {
   "cell_type": "code",
   "execution_count": 21,
   "metadata": {},
   "outputs": [
    {
     "name": "stdout",
     "output_type": "stream",
     "text": [
      "ROC AUC : 0.8438\n"
     ]
    }
   ],
   "source": [
    "xgb_roc = roc_auc_score(y_test, gridcv.predict_proba(X_test)[:,1], average = 'macro')\n",
    "print('ROC AUC : {0:.4f}'.format(xgb_roc))"
   ]
  },
  {
   "cell_type": "code",
   "execution_count": 23,
   "metadata": {},
   "outputs": [
    {
     "name": "stdout",
     "output_type": "stream",
     "text": [
      "[0]\tvalidation_0-auc:0.743236\tvalidation_1-auc:0.744766\n",
      "Multiple eval metrics have been passed: 'validation_1-auc' will be used for early stopping.\n",
      "\n",
      "Will train until validation_1-auc hasn't improved in 200 rounds.\n",
      "[50]\tvalidation_0-auc:0.841878\tvalidation_1-auc:0.834842\n",
      "[100]\tvalidation_0-auc:0.850387\tvalidation_1-auc:0.839039\n",
      "[150]\tvalidation_0-auc:0.856689\tvalidation_1-auc:0.842127\n",
      "[200]\tvalidation_0-auc:0.863778\tvalidation_1-auc:0.84425\n",
      "[250]\tvalidation_0-auc:0.869211\tvalidation_1-auc:0.844308\n",
      "[300]\tvalidation_0-auc:0.873922\tvalidation_1-auc:0.844066\n",
      "[350]\tvalidation_0-auc:0.877941\tvalidation_1-auc:0.84414\n",
      "[400]\tvalidation_0-auc:0.881213\tvalidation_1-auc:0.844033\n",
      "Stopping. Best iteration:\n",
      "[226]\tvalidation_0-auc:0.866647\tvalidation_1-auc:0.844694\n",
      "\n"
     ]
    },
    {
     "data": {
      "text/plain": [
       "XGBClassifier(base_score=0.5, booster='gbtree', colsample_bylevel=1,\n",
       "       colsample_bytree=0.75, gamma=0, learning_rate=0.02,\n",
       "       max_delta_step=0, max_depth=5, min_child_weight=1, missing=None,\n",
       "       n_estimators=1000, n_jobs=-1, nthread=None,\n",
       "       objective='binary:logistic', random_state=156, reg_alpha=0.03,\n",
       "       reg_lambda=1, scale_pos_weight=1, seed=None, silent=True,\n",
       "       subsample=1)"
      ]
     },
     "execution_count": 23,
     "metadata": {},
     "output_type": "execute_result"
    }
   ],
   "source": [
    "xgb = XGBClassifier(n_estimators=1000, random_state=156, learning_rate=0.02, max_depth = 5,\n",
    "                   min_child_weight=1, colsample_bytree=0.75, reg_alpha = 0.03, n_jobs = -1)\n",
    "\n",
    "xgb.fit(X_train ,y_train ,early_stopping_rounds = 200,\n",
    "       eval_metric = 'auc', eval_set = [(X_train ,y_train), (X_test, y_test)], verbose = 50)"
   ]
  },
  {
   "cell_type": "code",
   "execution_count": 24,
   "metadata": {},
   "outputs": [
    {
     "data": {
      "text/plain": [
       "<matplotlib.axes._subplots.AxesSubplot at 0x7fab8e23bb00>"
      ]
     },
     "execution_count": 24,
     "metadata": {},
     "output_type": "execute_result"
    },
    {
     "data": {
      "image/png": "[encoded data removed]",
      "text/plain": [
       "<Figure size 720x576 with 1 Axes>"
      ]
     },
     "metadata": {
      "needs_background": "light"
     },
     "output_type": "display_data"
    }
   ],
   "source": [
    "from xgboost import plot_importance\n",
    "import matplotlib.pyplot as plt\n",
    "\n",
    "fig,ax = plt.subplots(1,1, figsize = (10,8))\n",
    "plot_importance(xgb, ax = ax, max_num_features=20, height = 0.4)"
   ]
  },
  {
   "cell_type": "markdown",
   "metadata": {},
   "source": [
    "## submission"
   ]
  },
  {
   "cell_type": "code",
   "execution_count": 41,
   "metadata": {},
   "outputs": [
    {
     "name": "stderr",
     "output_type": "stream",
     "text": [
      "/usr/local/lib/python3.5/dist-packages/ipykernel_launcher.py:2: SettingWithCopyWarning: \n",
      "A value is trying to be set on a copy of a slice from a DataFrame.\n",
      "Try using .loc[row_indexer,col_indexer] = value instead\n",
      "\n",
      "See the caveats in the documentation: http://pandas.pydata.org/pandas-docs/stable/indexing.html#indexing-view-versus-copy\n",
      "  \n"
     ]
    }
   ],
   "source": [
    "xgb_sub = test[['ID']]\n",
    "xgb_sub['TARGET'] = xgb.predict(test.drop('ID', axis = 1))"
   ]
  },
  {
   "cell_type": "code",
   "execution_count": 43,
   "metadata": {},
   "outputs": [],
   "source": [
    "#xgb_sub.to_csv('190326_xgb.csv', index = False)"
   ]
  },
  {
   "cell_type": "markdown",
   "metadata": {},
   "source": [
    "# LightGBM"
   ]
  },
  {
   "cell_type": "code",
   "execution_count": 25,
   "metadata": {},
   "outputs": [
    {
     "name": "stdout",
     "output_type": "stream",
     "text": [
      "Training until validation scores don't improve for 100 rounds.\n",
      "[50]\tvalid_0's binary_logloss: 0.139537\tvalid_0's auc: 0.838737\n",
      "[100]\tvalid_0's binary_logloss: 0.140095\tvalid_0's auc: 0.837229\n",
      "Early stopping, best iteration is:\n",
      "[42]\tvalid_0's binary_logloss: 0.139408\tvalid_0's auc: 0.839599\n"
     ]
    },
    {
     "data": {
      "text/plain": [
       "LGBMClassifier(boosting_type='gbdt', class_weight=None, colsample_bytree=1.0,\n",
       "        importance_type='split', learning_rate=0.1, max_depth=-1,\n",
       "        min_child_samples=20, min_child_weight=0.001, min_split_gain=0.0,\n",
       "        n_estimators=500, n_jobs=-1, num_leaves=31, objective=None,\n",
       "        random_state=None, reg_alpha=0.0, reg_lambda=0.0, silent=True,\n",
       "        subsample=1.0, subsample_for_bin=200000, subsample_freq=0)"
      ]
     },
     "execution_count": 25,
     "metadata": {},
     "output_type": "execute_result"
    }
   ],
   "source": [
    "from lightgbm import LGBMClassifier\n",
    "\n",
    "lgb = LGBMClassifier(n_estimators = 500)\n",
    "evals = [(X_test, y_test)]\n",
    "\n",
    "lgb.fit(X_train ,y_train ,early_stopping_rounds=100, eval_metric='auc', eval_set=evals,\n",
    "       verbose = 50)"
   ]
  },
  {
   "cell_type": "code",
   "execution_count": 26,
   "metadata": {},
   "outputs": [
    {
     "name": "stdout",
     "output_type": "stream",
     "text": [
      "ROC AUC : 0.8396\n"
     ]
    }
   ],
   "source": [
    "lgb_roc = roc_auc_score(y_test, lgb.predict_proba(X_test)[:,1], average = 'macro')\n",
    "print('ROC AUC : {0:.4f}'.format(lgb_roc))"
   ]
  },
  {
   "cell_type": "markdown",
   "metadata": {},
   "source": [
    "## tuning"
   ]
  },
  {
   "cell_type": "code",
   "execution_count": 29,
   "metadata": {},
   "outputs": [
    {
     "name": "stderr",
     "output_type": "stream",
     "text": [
      "/usr/local/lib/python3.5/dist-packages/sklearn/model_selection/_split.py:2053: FutureWarning: You should specify a value for 'cv' instead of relying on the default value. The default value will change from 3 to 5 in version 0.22.\n",
      "  warnings.warn(CV_WARNING, FutureWarning)\n"
     ]
    },
    {
     "name": "stdout",
     "output_type": "stream",
     "text": [
      "Training until validation scores don't improve for 30 rounds.\n",
      "Early stopping, best iteration is:\n",
      "[9]\tvalid_0's binary_logloss: 0.135274\tvalid_0's auc: 0.850276\tvalid_1's binary_logloss: 0.145043\tvalid_1's auc: 0.840042\n",
      "Training until validation scores don't improve for 30 rounds.\n",
      "[50]\tvalid_0's binary_logloss: 0.119734\tvalid_0's auc: 0.885759\tvalid_1's binary_logloss: 0.139727\tvalid_1's auc: 0.838029\n",
      "Early stopping, best iteration is:\n",
      "[29]\tvalid_0's binary_logloss: 0.124271\tvalid_0's auc: 0.87422\tvalid_1's binary_logloss: 0.139581\tvalid_1's auc: 0.839436\n",
      "Training until validation scores don't improve for 30 rounds.\n",
      "[50]\tvalid_0's binary_logloss: 0.120013\tvalid_0's auc: 0.885102\tvalid_1's binary_logloss: 0.13936\tvalid_1's auc: 0.839807\n",
      "Early stopping, best iteration is:\n",
      "[25]\tvalid_0's binary_logloss: 0.126047\tvalid_0's auc: 0.869485\tvalid_1's binary_logloss: 0.139735\tvalid_1's auc: 0.840676\n",
      "Training until validation scores don't improve for 30 rounds.\n",
      "Early stopping, best iteration is:\n",
      "[9]\tvalid_0's binary_logloss: 0.135274\tvalid_0's auc: 0.850276\tvalid_1's binary_logloss: 0.145043\tvalid_1's auc: 0.840042\n",
      "Training until validation scores don't improve for 30 rounds.\n",
      "[50]\tvalid_0's binary_logloss: 0.119734\tvalid_0's auc: 0.885759\tvalid_1's binary_logloss: 0.139727\tvalid_1's auc: 0.838029\n",
      "Early stopping, best iteration is:\n",
      "[29]\tvalid_0's binary_logloss: 0.124271\tvalid_0's auc: 0.87422\tvalid_1's binary_logloss: 0.139581\tvalid_1's auc: 0.839436\n",
      "Training until validation scores don't improve for 30 rounds.\n",
      "[50]\tvalid_0's binary_logloss: 0.120013\tvalid_0's auc: 0.885102\tvalid_1's binary_logloss: 0.13936\tvalid_1's auc: 0.839807\n",
      "Early stopping, best iteration is:\n",
      "[25]\tvalid_0's binary_logloss: 0.126047\tvalid_0's auc: 0.869485\tvalid_1's binary_logloss: 0.139735\tvalid_1's auc: 0.840676\n",
      "Training until validation scores don't improve for 30 rounds.\n",
      "Early stopping, best iteration is:\n",
      "[6]\tvalid_0's binary_logloss: 0.137695\tvalid_0's auc: 0.857012\tvalid_1's binary_logloss: 0.14943\tvalid_1's auc: 0.834623\n",
      "Training until validation scores don't improve for 30 rounds.\n",
      "Early stopping, best iteration is:\n",
      "[15]\tvalid_0's binary_logloss: 0.126262\tvalid_0's auc: 0.874543\tvalid_1's binary_logloss: 0.141291\tvalid_1's auc: 0.837921\n",
      "Training until validation scores don't improve for 30 rounds.\n",
      "Early stopping, best iteration is:\n",
      "[13]\tvalid_0's binary_logloss: 0.128333\tvalid_0's auc: 0.870662\tvalid_1's binary_logloss: 0.142696\tvalid_1's auc: 0.837981\n",
      "Training until validation scores don't improve for 30 rounds.\n",
      "Early stopping, best iteration is:\n",
      "[6]\tvalid_0's binary_logloss: 0.137695\tvalid_0's auc: 0.857012\tvalid_1's binary_logloss: 0.14943\tvalid_1's auc: 0.834623\n",
      "Training until validation scores don't improve for 30 rounds.\n",
      "Early stopping, best iteration is:\n",
      "[15]\tvalid_0's binary_logloss: 0.126262\tvalid_0's auc: 0.874543\tvalid_1's binary_logloss: 0.141291\tvalid_1's auc: 0.837921\n",
      "Training until validation scores don't improve for 30 rounds.\n",
      "Early stopping, best iteration is:\n",
      "[13]\tvalid_0's binary_logloss: 0.128333\tvalid_0's auc: 0.870662\tvalid_1's binary_logloss: 0.142696\tvalid_1's auc: 0.837981\n",
      "Training until validation scores don't improve for 30 rounds.\n",
      "Early stopping, best iteration is:\n",
      "[9]\tvalid_0's binary_logloss: 0.135881\tvalid_0's auc: 0.849213\tvalid_1's binary_logloss: 0.1453\tvalid_1's auc: 0.838015\n",
      "Training until validation scores don't improve for 30 rounds.\n",
      "Early stopping, best iteration is:\n",
      "[7]\tvalid_0's binary_logloss: 0.138315\tvalid_0's auc: 0.849908\tvalid_1's binary_logloss: 0.14741\tvalid_1's auc: 0.840328\n",
      "Training until validation scores don't improve for 30 rounds.\n",
      "[50]\tvalid_0's binary_logloss: 0.121247\tvalid_0's auc: 0.881448\tvalid_1's binary_logloss: 0.139173\tvalid_1's auc: 0.839886\n",
      "Early stopping, best iteration is:\n",
      "[47]\tvalid_0's binary_logloss: 0.121829\tvalid_0's auc: 0.879882\tvalid_1's binary_logloss: 0.139063\tvalid_1's auc: 0.840044\n",
      "Training until validation scores don't improve for 30 rounds.\n",
      "Early stopping, best iteration is:\n",
      "[9]\tvalid_0's binary_logloss: 0.135881\tvalid_0's auc: 0.849213\tvalid_1's binary_logloss: 0.1453\tvalid_1's auc: 0.838015\n",
      "Training until validation scores don't improve for 30 rounds.\n",
      "Early stopping, best iteration is:\n",
      "[7]\tvalid_0's binary_logloss: 0.138315\tvalid_0's auc: 0.849908\tvalid_1's binary_logloss: 0.14741\tvalid_1's auc: 0.840328\n",
      "Training until validation scores don't improve for 30 rounds.\n",
      "[50]\tvalid_0's binary_logloss: 0.121247\tvalid_0's auc: 0.881448\tvalid_1's binary_logloss: 0.139173\tvalid_1's auc: 0.839886\n",
      "Early stopping, best iteration is:\n",
      "[47]\tvalid_0's binary_logloss: 0.121829\tvalid_0's auc: 0.879882\tvalid_1's binary_logloss: 0.139063\tvalid_1's auc: 0.840044\n",
      "Training until validation scores don't improve for 30 rounds.\n",
      "Early stopping, best iteration is:\n",
      "[12]\tvalid_0's binary_logloss: 0.130311\tvalid_0's auc: 0.866817\tvalid_1's binary_logloss: 0.143404\tvalid_1's auc: 0.835592\n",
      "Training until validation scores don't improve for 30 rounds.\n",
      "Early stopping, best iteration is:\n",
      "[19]\tvalid_0's binary_logloss: 0.124996\tvalid_0's auc: 0.875902\tvalid_1's binary_logloss: 0.139701\tvalid_1's auc: 0.839902\n",
      "Training until validation scores don't improve for 30 rounds.\n",
      "Early stopping, best iteration is:\n",
      "[14]\tvalid_0's binary_logloss: 0.128463\tvalid_0's auc: 0.870823\tvalid_1's binary_logloss: 0.141902\tvalid_1's auc: 0.838274\n",
      "Training until validation scores don't improve for 30 rounds.\n",
      "Early stopping, best iteration is:\n",
      "[12]\tvalid_0's binary_logloss: 0.130311\tvalid_0's auc: 0.866817\tvalid_1's binary_logloss: 0.143404\tvalid_1's auc: 0.835592\n",
      "Training until validation scores don't improve for 30 rounds.\n",
      "Early stopping, best iteration is:\n",
      "[19]\tvalid_0's binary_logloss: 0.124996\tvalid_0's auc: 0.875902\tvalid_1's binary_logloss: 0.139701\tvalid_1's auc: 0.839902\n",
      "Training until validation scores don't improve for 30 rounds.\n",
      "Early stopping, best iteration is:\n",
      "[14]\tvalid_0's binary_logloss: 0.128463\tvalid_0's auc: 0.870823\tvalid_1's binary_logloss: 0.141902\tvalid_1's auc: 0.838274\n",
      "Training until validation scores don't improve for 30 rounds.\n",
      "Early stopping, best iteration is:\n",
      "[9]\tvalid_0's binary_logloss: 0.135274\tvalid_0's auc: 0.850276\tvalid_1's binary_logloss: 0.145043\tvalid_1's auc: 0.840042\n",
      "Training until validation scores don't improve for 30 rounds.\n",
      "[50]\tvalid_0's binary_logloss: 0.119734\tvalid_0's auc: 0.885759\tvalid_1's binary_logloss: 0.139727\tvalid_1's auc: 0.838029\n",
      "Early stopping, best iteration is:\n",
      "[29]\tvalid_0's binary_logloss: 0.124271\tvalid_0's auc: 0.87422\tvalid_1's binary_logloss: 0.139581\tvalid_1's auc: 0.839436\n",
      "Training until validation scores don't improve for 30 rounds.\n",
      "[50]\tvalid_0's binary_logloss: 0.120013\tvalid_0's auc: 0.885102\tvalid_1's binary_logloss: 0.13936\tvalid_1's auc: 0.839807\n",
      "Early stopping, best iteration is:\n",
      "[25]\tvalid_0's binary_logloss: 0.126047\tvalid_0's auc: 0.869485\tvalid_1's binary_logloss: 0.139735\tvalid_1's auc: 0.840676\n",
      "Training until validation scores don't improve for 30 rounds.\n",
      "Early stopping, best iteration is:\n",
      "[9]\tvalid_0's binary_logloss: 0.135274\tvalid_0's auc: 0.850276\tvalid_1's binary_logloss: 0.145043\tvalid_1's auc: 0.840042\n",
      "Training until validation scores don't improve for 30 rounds.\n",
      "[50]\tvalid_0's binary_logloss: 0.119734\tvalid_0's auc: 0.885759\tvalid_1's binary_logloss: 0.139727\tvalid_1's auc: 0.838029\n",
      "Early stopping, best iteration is:\n",
      "[29]\tvalid_0's binary_logloss: 0.124271\tvalid_0's auc: 0.87422\tvalid_1's binary_logloss: 0.139581\tvalid_1's auc: 0.839436\n",
      "Training until validation scores don't improve for 30 rounds.\n",
      "[50]\tvalid_0's binary_logloss: 0.120013\tvalid_0's auc: 0.885102\tvalid_1's binary_logloss: 0.13936\tvalid_1's auc: 0.839807\n",
      "Early stopping, best iteration is:\n",
      "[25]\tvalid_0's binary_logloss: 0.126047\tvalid_0's auc: 0.869485\tvalid_1's binary_logloss: 0.139735\tvalid_1's auc: 0.840676\n",
      "Training until validation scores don't improve for 30 rounds.\n",
      "Early stopping, best iteration is:\n",
      "[6]\tvalid_0's binary_logloss: 0.137695\tvalid_0's auc: 0.857012\tvalid_1's binary_logloss: 0.14943\tvalid_1's auc: 0.834623\n",
      "Training until validation scores don't improve for 30 rounds.\n",
      "Early stopping, best iteration is:\n",
      "[15]\tvalid_0's binary_logloss: 0.126262\tvalid_0's auc: 0.874543\tvalid_1's binary_logloss: 0.141291\tvalid_1's auc: 0.837921\n"
     ]
    },
    {
     "name": "stdout",
     "output_type": "stream",
     "text": [
      "Training until validation scores don't improve for 30 rounds.\n",
      "Early stopping, best iteration is:\n",
      "[13]\tvalid_0's binary_logloss: 0.128333\tvalid_0's auc: 0.870662\tvalid_1's binary_logloss: 0.142696\tvalid_1's auc: 0.837981\n",
      "Training until validation scores don't improve for 30 rounds.\n",
      "Early stopping, best iteration is:\n",
      "[6]\tvalid_0's binary_logloss: 0.137695\tvalid_0's auc: 0.857012\tvalid_1's binary_logloss: 0.14943\tvalid_1's auc: 0.834623\n",
      "Training until validation scores don't improve for 30 rounds.\n",
      "Early stopping, best iteration is:\n",
      "[15]\tvalid_0's binary_logloss: 0.126262\tvalid_0's auc: 0.874543\tvalid_1's binary_logloss: 0.141291\tvalid_1's auc: 0.837921\n",
      "Training until validation scores don't improve for 30 rounds.\n",
      "Early stopping, best iteration is:\n",
      "[13]\tvalid_0's binary_logloss: 0.128333\tvalid_0's auc: 0.870662\tvalid_1's binary_logloss: 0.142696\tvalid_1's auc: 0.837981\n",
      "Training until validation scores don't improve for 30 rounds.\n",
      "Early stopping, best iteration is:\n",
      "[9]\tvalid_0's binary_logloss: 0.135881\tvalid_0's auc: 0.849213\tvalid_1's binary_logloss: 0.1453\tvalid_1's auc: 0.838015\n",
      "Training until validation scores don't improve for 30 rounds.\n",
      "Early stopping, best iteration is:\n",
      "[7]\tvalid_0's binary_logloss: 0.138315\tvalid_0's auc: 0.849908\tvalid_1's binary_logloss: 0.14741\tvalid_1's auc: 0.840328\n",
      "Training until validation scores don't improve for 30 rounds.\n",
      "[50]\tvalid_0's binary_logloss: 0.121247\tvalid_0's auc: 0.881448\tvalid_1's binary_logloss: 0.139173\tvalid_1's auc: 0.839886\n",
      "Early stopping, best iteration is:\n",
      "[47]\tvalid_0's binary_logloss: 0.121829\tvalid_0's auc: 0.879882\tvalid_1's binary_logloss: 0.139063\tvalid_1's auc: 0.840044\n",
      "Training until validation scores don't improve for 30 rounds.\n",
      "Early stopping, best iteration is:\n",
      "[9]\tvalid_0's binary_logloss: 0.135881\tvalid_0's auc: 0.849213\tvalid_1's binary_logloss: 0.1453\tvalid_1's auc: 0.838015\n",
      "Training until validation scores don't improve for 30 rounds.\n",
      "Early stopping, best iteration is:\n",
      "[7]\tvalid_0's binary_logloss: 0.138315\tvalid_0's auc: 0.849908\tvalid_1's binary_logloss: 0.14741\tvalid_1's auc: 0.840328\n",
      "Training until validation scores don't improve for 30 rounds.\n",
      "[50]\tvalid_0's binary_logloss: 0.121247\tvalid_0's auc: 0.881448\tvalid_1's binary_logloss: 0.139173\tvalid_1's auc: 0.839886\n",
      "Early stopping, best iteration is:\n",
      "[47]\tvalid_0's binary_logloss: 0.121829\tvalid_0's auc: 0.879882\tvalid_1's binary_logloss: 0.139063\tvalid_1's auc: 0.840044\n",
      "Training until validation scores don't improve for 30 rounds.\n",
      "Early stopping, best iteration is:\n",
      "[12]\tvalid_0's binary_logloss: 0.130311\tvalid_0's auc: 0.866817\tvalid_1's binary_logloss: 0.143404\tvalid_1's auc: 0.835592\n",
      "Training until validation scores don't improve for 30 rounds.\n",
      "Early stopping, best iteration is:\n",
      "[19]\tvalid_0's binary_logloss: 0.124996\tvalid_0's auc: 0.875902\tvalid_1's binary_logloss: 0.139701\tvalid_1's auc: 0.839902\n",
      "Training until validation scores don't improve for 30 rounds.\n",
      "Early stopping, best iteration is:\n",
      "[14]\tvalid_0's binary_logloss: 0.128463\tvalid_0's auc: 0.870823\tvalid_1's binary_logloss: 0.141902\tvalid_1's auc: 0.838274\n",
      "Training until validation scores don't improve for 30 rounds.\n",
      "Early stopping, best iteration is:\n",
      "[12]\tvalid_0's binary_logloss: 0.130311\tvalid_0's auc: 0.866817\tvalid_1's binary_logloss: 0.143404\tvalid_1's auc: 0.835592\n",
      "Training until validation scores don't improve for 30 rounds.\n",
      "Early stopping, best iteration is:\n",
      "[19]\tvalid_0's binary_logloss: 0.124996\tvalid_0's auc: 0.875902\tvalid_1's binary_logloss: 0.139701\tvalid_1's auc: 0.839902\n",
      "Training until validation scores don't improve for 30 rounds.\n",
      "Early stopping, best iteration is:\n",
      "[14]\tvalid_0's binary_logloss: 0.128463\tvalid_0's auc: 0.870823\tvalid_1's binary_logloss: 0.141902\tvalid_1's auc: 0.838274\n",
      "Training until validation scores don't improve for 30 rounds.\n",
      "[50]\tvalid_0's binary_logloss: 0.118352\tvalid_0's auc: 0.895288\tvalid_1's binary_logloss: 0.138309\tvalid_1's auc: 0.842965\n",
      "Early stopping, best iteration is:\n",
      "[22]\tvalid_0's binary_logloss: 0.126309\tvalid_0's auc: 0.871544\tvalid_1's binary_logloss: 0.139253\tvalid_1's auc: 0.844171\n"
     ]
    },
    {
     "data": {
      "text/plain": [
       "GridSearchCV(cv='warn', error_score='raise-deprecating',\n",
       "       estimator=LGBMClassifier(boosting_type='gbdt', class_weight=None, colsample_bytree=1.0,\n",
       "        importance_type='split', learning_rate=0.1, max_depth=-1,\n",
       "        min_child_samples=20, min_child_weight=0.001, min_split_gain=0.0,\n",
       "        n_estimators=200, n_jobs=-1, num_leaves=31, objective=None,\n",
       "        random_state=None, reg_alpha=0.0, reg_lambda=0.0, silent=True,\n",
       "        subsample=1.0, subsample_for_bin=200000, subsample_freq=0),\n",
       "       fit_params=None, iid='warn', n_jobs=None,\n",
       "       param_grid={'max_depth': [128, 160], 'min_child_samples': [60, 100], 'num_leaves': [32, 64], 'subsample': [0.8, 1]},\n",
       "       pre_dispatch='2*n_jobs', refit=True, return_train_score='warn',\n",
       "       scoring=None, verbose=0)"
      ]
     },
     "execution_count": 29,
     "metadata": {},
     "output_type": "execute_result"
    }
   ],
   "source": [
    "lgb = LGBMClassifier(n_estimators=200, n_jobs=-1)\n",
    "\n",
    "params = {\n",
    "    'num_leaves' : [32, 64],\n",
    "    'max_depth' : [128,160],\n",
    "    'min_child_samples' : [60,100],\n",
    "    'subsample' : [0.8,1]\n",
    "}\n",
    "\n",
    "gridcv = GridSearchCV(lgb, param_grid=params)\n",
    "gridcv.fit(X_train, y_train, early_stopping_rounds = 30, eval_metric = 'auc', verbose = 50,\n",
    "          eval_set = [(X_train ,y_train), (X_test, y_test)])"
   ]
  },
  {
   "cell_type": "code",
   "execution_count": 44,
   "metadata": {},
   "outputs": [
    {
     "name": "stdout",
     "output_type": "stream",
     "text": [
      "GridSearchCV best parameters :  {'max_depth': 128, 'min_child_samples': 100, 'num_leaves': 32, 'subsample': 0.8}\n",
      "ROC AUC :  0.8441711827379625\n"
     ]
    }
   ],
   "source": [
    "print('GridSearchCV best parameters : ', gridcv.best_params_)\n",
    "lgb_roc = roc_auc_score(y_test, gridcv.predict_proba(X_test)[:,1], average = 'macro')\n",
    "print('ROC AUC : ', lgb_roc)"
   ]
  },
  {
   "cell_type": "code",
   "execution_count": 45,
   "metadata": {},
   "outputs": [
    {
     "name": "stdout",
     "output_type": "stream",
     "text": [
      "Training until validation scores don't improve for 100 rounds.\n",
      "[50]\tvalid_0's binary_logloss: 0.138309\tvalid_0's auc: 0.842965\n",
      "[100]\tvalid_0's binary_logloss: 0.139137\tvalid_0's auc: 0.839472\n",
      "Early stopping, best iteration is:\n",
      "[22]\tvalid_0's binary_logloss: 0.139253\tvalid_0's auc: 0.844171\n"
     ]
    },
    {
     "data": {
      "text/plain": [
       "LGBMClassifier(boosting_type='gbdt', class_weight=None, colsample_bytree=1.0,\n",
       "        importance_type='split', learning_rate=0.1, max_depth=128,\n",
       "        min_child_samples=100, min_child_weight=0.001, min_split_gain=0.0,\n",
       "        n_estimators=1000, n_jobs=-1, num_leaves=32, objective=None,\n",
       "        random_state=None, reg_alpha=0.0, reg_lambda=0.0, silent=True,\n",
       "        subsample=0.8, subsample_for_bin=200000, subsample_freq=0)"
      ]
     },
     "execution_count": 45,
     "metadata": {},
     "output_type": "execute_result"
    }
   ],
   "source": [
    "lgb = LGBMClassifier(n_estimators=1000, num_leaves = 32, subsample=0.8, min_child_samples=100, max_depth=128)\n",
    "\n",
    "evals = [(X_test, y_test)]\n",
    "lgb.fit(X_train, y_train, early_stopping_rounds = 100, eval_metric = 'auc', eval_set = evals,\n",
    "       verbose = 50)"
   ]
  },
  {
   "cell_type": "code",
   "execution_count": 47,
   "metadata": {},
   "outputs": [
    {
     "name": "stdout",
     "output_type": "stream",
     "text": [
      "ROC AUC :  0.8441711827379625\n"
     ]
    }
   ],
   "source": [
    "lgb_roc = roc_auc_score(y_test, lgb.predict_proba(X_test)[:,1], average = 'macro')\n",
    "print('ROC AUC : ', lgb_roc)"
   ]
  },
  {
   "cell_type": "code",
   "execution_count": 51,
   "metadata": {},
   "outputs": [
    {
     "name": "stderr",
     "output_type": "stream",
     "text": [
      "/usr/local/lib/python3.5/dist-packages/ipykernel_launcher.py:2: SettingWithCopyWarning: \n",
      "A value is trying to be set on a copy of a slice from a DataFrame.\n",
      "Try using .loc[row_indexer,col_indexer] = value instead\n",
      "\n",
      "See the caveats in the documentation: http://pandas.pydata.org/pandas-docs/stable/indexing.html#indexing-view-versus-copy\n",
      "  \n"
     ]
    }
   ],
   "source": [
    "lgb_sub = test[['ID']]\n",
    "lgb_sub['TARGET'] = lgb.predict(test.drop('ID', axis = 1))"
   ]
  },
  {
   "cell_type": "code",
   "execution_count": 52,
   "metadata": {},
   "outputs": [],
   "source": [
    "lgb_sub.to_csv('190326_lgb.csv', index = False)"
   ]
  }
 ],
 "metadata": {
  "kernelspec": {
   "display_name": "Python 3",
   "language": "python",
   "name": "python3"
  },
  "language_info": {
   "codemirror_mode": {
    "name": "ipython",
    "version": 3
   },
   "file_extension": ".py",
   "mimetype": "text/x-python",
   "name": "python",
   "nbconvert_exporter": "python",
   "pygments_lexer": "ipython3",
   "version": "3.5.2"
  }
 },
 "nbformat": 4,
 "nbformat_minor": 2
}
