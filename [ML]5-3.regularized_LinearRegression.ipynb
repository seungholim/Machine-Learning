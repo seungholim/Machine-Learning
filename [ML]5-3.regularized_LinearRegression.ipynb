{
 "cells": [
  {
   "cell_type": "markdown",
   "metadata": {},
   "source": [
    "# Cost function\n",
    "- 적절히 데이터에 적합하면서도 회귀 계수가 기하급수적으로 커지는 것을 제어할 수 있어야 한다.\n",
    "- 따라서,  cost function 재정의\n",
    "- Cost function 목표  = $Min(RSS(W) + alpha * \\lVert W \\rVert_2^2)$\n",
    "- $RSS(w) = \\sum_{i=1}^N (y_i - \\sum_{j=0}^p w_j*x_{ij})^2$ (N x p)\n",
    "- 최적 모델을 위한 Cost fucntion 구성요소 = 학습데이터 잔차 오류 최소화 + 회귀계수 크기 제어\n",
    "## lambda\n",
    "- 학습 데이터 적합 정도와 회귀 계수 값의 크기 제어를 수행하는 튜닝 파라미터\n",
    "- alpha = 0, cost function은 Min(Rss(w))\n",
    "- alpha = Inf, W를 0에 가깝게 최소화 해야 함.\n",
    "- alpha 를 0부터 지속적으로 값을 증가시키면 회귀 계수 값의 크기를 감소시킬 수 있다.\n",
    "- alpha 값으로 페널티를 부여해 회귀 계수 값의 크기를 감소시켜 과적합을 개선."
   ]
  },
  {
   "cell_type": "markdown",
   "metadata": {},
   "source": [
    "# Ridge Regression(L2)\n",
    "$$RSS(w) + alpha \\sum_{j=0}^p w_j^2$$ $$for\\,some\\,c>0, \\sum_{j=0}^p w_j^2 <c$$\n",
    "\n",
    "- alpha[default : 1]"
   ]
  },
  {
   "cell_type": "code",
   "execution_count": 6,
   "metadata": {
    "ExecuteTime": {
     "end_time": "2019-04-08T11:00:50.539618Z",
     "start_time": "2019-04-08T11:00:50.516272Z"
    }
   },
   "outputs": [],
   "source": [
    "import numpy as np\n",
    "import pandas as pd\n",
    "import seaborn as sns\n",
    "from sklearn.datasets import load_boston\n",
    "import matplotlib.pyplot as plt\n",
    "%matplotlib inline\n",
    "\n",
    "boston = load_boston()\n",
    "boston_df = pd.DataFrame(boston.data, columns = boston.feature_names)\n",
    "boston_df['price'] = boston.target\n",
    "\n",
    "X_data = boston_df.drop('price', axis = 1)\n",
    "y_target = boston_df.price"
   ]
  },
  {
   "cell_type": "code",
   "execution_count": 8,
   "metadata": {
    "ExecuteTime": {
     "end_time": "2019-04-08T11:07:52.673154Z",
     "start_time": "2019-04-08T11:07:52.634527Z"
    }
   },
   "outputs": [
    {
     "name": "stdout",
     "output_type": "stream",
     "text": [
      "5 fold 개별 RMSE score :  [3.38  4.929 5.305 8.637 5.34 ]\n",
      "5 fold 평균 RMSE score :  5.518\n"
     ]
    }
   ],
   "source": [
    "from sklearn.linear_model import Ridge\n",
    "from sklearn.model_selection import cross_val_score\n",
    "\n",
    "ridge = Ridge(alpha = 10)\n",
    "neg_mse_scores = cross_val_score(ridge, X_data, y_target, scoring = 'neg_mean_squared_error', cv = 5)\n",
    "rmse_scores = np.sqrt(-1*neg_mse_scores)\n",
    "avg_rmse = np.mean(rmse_scores)\n",
    "\n",
    "print('5 fold 개별 RMSE score : ', np.round(rmse_scores,3))\n",
    "print('5 fold 평균 RMSE score : ', np.round(avg_rmse,3))"
   ]
  },
  {
   "cell_type": "code",
   "execution_count": 9,
   "metadata": {
    "ExecuteTime": {
     "end_time": "2019-04-08T11:10:03.591407Z",
     "start_time": "2019-04-08T11:10:03.447362Z"
    }
   },
   "outputs": [
    {
     "name": "stdout",
     "output_type": "stream",
     "text": [
      "alpha 0일 때, 5folds 의 평균 rmse : 5.829\n",
      "alpha 0.1일 때, 5folds 의 평균 rmse : 5.788\n",
      "alpha 1일 때, 5folds 의 평균 rmse : 5.653\n",
      "alpha 10일 때, 5folds 의 평균 rmse : 5.518\n",
      "alpha 100일 때, 5folds 의 평균 rmse : 5.330\n"
     ]
    }
   ],
   "source": [
    "alphas = [0,0.1,1,10,100]\n",
    "\n",
    "for alpha in alphas :\n",
    "    ridge = Ridge(alpha = alpha)\n",
    "    \n",
    "    neg_mse_scores = cross_val_score(ridge, X_data, y_target,  scoring = 'neg_mean_squared_error', cv = 5)\n",
    "    avg_rmse = np.mean(np.sqrt(-1*neg_mse_scores))\n",
    "    \n",
    "    print('alpha {0}일 때, 5folds 의 평균 rmse : {1:.3f}'.format(alpha, avg_rmse))"
   ]
  },
  {
   "cell_type": "code",
   "execution_count": 11,
   "metadata": {
    "ExecuteTime": {
     "end_time": "2019-04-08T11:16:18.635725Z",
     "start_time": "2019-04-08T11:16:17.113673Z"
    }
   },
   "outputs": [
    {
     "data": {
      "image/png": "[encoded data removed]",
      "text/plain": [
       "<Figure size 1296x432 with 5 Axes>"
      ]
     },
     "metadata": {
      "needs_background": "light"
     },
     "output_type": "display_data"
    }
   ],
   "source": [
    "fig, axs = plt.subplots(figsize = (18,6), nrows = 1, ncols = 5)\n",
    "coeff_df = pd.DataFrame()\n",
    "\n",
    "for pos, alpha in enumerate(alphas) :\n",
    "    ridge = Ridge(alpha = alpha)\n",
    "    ridge.fit(X_data, y_target)\n",
    "    \n",
    "    coeff = pd.Series(data = ridge.coef_, index = X_data.columns)\n",
    "    colname = 'alpha:'+str(alpha)\n",
    "    coeff_df[colname] = coeff\n",
    "    \n",
    "    coeff = coeff.sort_values(ascending = False)\n",
    "    axs[pos].set_title(colname)\n",
    "    axs[pos].set_xlim(-3,6)\n",
    "    sns.barplot(x = coeff.values, y = coeff.index, ax = axs[pos])\n",
    "    \n",
    "plt.show()"
   ]
  },
  {
   "cell_type": "code",
   "execution_count": 12,
   "metadata": {
    "ExecuteTime": {
     "end_time": "2019-04-08T11:16:51.442976Z",
     "start_time": "2019-04-08T11:16:51.425675Z"
    }
   },
   "outputs": [
    {
     "data": {
      "text/html": [
       "<div>\n",
       "<style scoped>\n",
       "    .dataframe tbody tr th:only-of-type {\n",
       "        vertical-align: middle;\n",
       "    }\n",
       "\n",
       "    .dataframe tbody tr th {\n",
       "        vertical-align: top;\n",
       "    }\n",
       "\n",
       "    .dataframe thead th {\n",
       "        text-align: right;\n",
       "    }\n",
       "</style>\n",
       "<table border=\"1\" class=\"dataframe\">\n",
       "  <thead>\n",
       "    <tr style=\"text-align: right;\">\n",
       "      <th></th>\n",
       "      <th>alpha:0</th>\n",
       "      <th>alpha:0.1</th>\n",
       "      <th>alpha:1</th>\n",
       "      <th>alpha:10</th>\n",
       "      <th>alpha:100</th>\n",
       "    </tr>\n",
       "  </thead>\n",
       "  <tbody>\n",
       "    <tr>\n",
       "      <th>CRIM</th>\n",
       "      <td>-0.108011</td>\n",
       "      <td>-0.107474</td>\n",
       "      <td>-0.104595</td>\n",
       "      <td>-0.101435</td>\n",
       "      <td>-0.102202</td>\n",
       "    </tr>\n",
       "    <tr>\n",
       "      <th>ZN</th>\n",
       "      <td>0.046420</td>\n",
       "      <td>0.046572</td>\n",
       "      <td>0.047443</td>\n",
       "      <td>0.049579</td>\n",
       "      <td>0.054496</td>\n",
       "    </tr>\n",
       "    <tr>\n",
       "      <th>INDUS</th>\n",
       "      <td>0.020559</td>\n",
       "      <td>0.015999</td>\n",
       "      <td>-0.008805</td>\n",
       "      <td>-0.042962</td>\n",
       "      <td>-0.052826</td>\n",
       "    </tr>\n",
       "    <tr>\n",
       "      <th>CHAS</th>\n",
       "      <td>2.686734</td>\n",
       "      <td>2.670019</td>\n",
       "      <td>2.552393</td>\n",
       "      <td>1.952021</td>\n",
       "      <td>0.638335</td>\n",
       "    </tr>\n",
       "    <tr>\n",
       "      <th>NOX</th>\n",
       "      <td>-17.766611</td>\n",
       "      <td>-16.684645</td>\n",
       "      <td>-10.777015</td>\n",
       "      <td>-2.371619</td>\n",
       "      <td>-0.262847</td>\n",
       "    </tr>\n",
       "    <tr>\n",
       "      <th>RM</th>\n",
       "      <td>3.809865</td>\n",
       "      <td>3.818233</td>\n",
       "      <td>3.854000</td>\n",
       "      <td>3.702272</td>\n",
       "      <td>2.334536</td>\n",
       "    </tr>\n",
       "    <tr>\n",
       "      <th>AGE</th>\n",
       "      <td>0.000692</td>\n",
       "      <td>-0.000269</td>\n",
       "      <td>-0.005415</td>\n",
       "      <td>-0.010707</td>\n",
       "      <td>0.001212</td>\n",
       "    </tr>\n",
       "    <tr>\n",
       "      <th>DIS</th>\n",
       "      <td>-1.475567</td>\n",
       "      <td>-1.459626</td>\n",
       "      <td>-1.372654</td>\n",
       "      <td>-1.248808</td>\n",
       "      <td>-1.153390</td>\n",
       "    </tr>\n",
       "    <tr>\n",
       "      <th>RAD</th>\n",
       "      <td>0.306049</td>\n",
       "      <td>0.303515</td>\n",
       "      <td>0.290142</td>\n",
       "      <td>0.279596</td>\n",
       "      <td>0.315358</td>\n",
       "    </tr>\n",
       "    <tr>\n",
       "      <th>TAX</th>\n",
       "      <td>-0.012335</td>\n",
       "      <td>-0.012421</td>\n",
       "      <td>-0.012912</td>\n",
       "      <td>-0.013993</td>\n",
       "      <td>-0.015856</td>\n",
       "    </tr>\n",
       "    <tr>\n",
       "      <th>PTRATIO</th>\n",
       "      <td>-0.952747</td>\n",
       "      <td>-0.940759</td>\n",
       "      <td>-0.876074</td>\n",
       "      <td>-0.797945</td>\n",
       "      <td>-0.829218</td>\n",
       "    </tr>\n",
       "    <tr>\n",
       "      <th>B</th>\n",
       "      <td>0.009312</td>\n",
       "      <td>0.009368</td>\n",
       "      <td>0.009673</td>\n",
       "      <td>0.010037</td>\n",
       "      <td>0.009393</td>\n",
       "    </tr>\n",
       "    <tr>\n",
       "      <th>LSTAT</th>\n",
       "      <td>-0.524758</td>\n",
       "      <td>-0.525966</td>\n",
       "      <td>-0.533343</td>\n",
       "      <td>-0.559366</td>\n",
       "      <td>-0.660764</td>\n",
       "    </tr>\n",
       "  </tbody>\n",
       "</table>\n",
       "</div>"
      ],
      "text/plain": [
       "           alpha:0  alpha:0.1    alpha:1  alpha:10  alpha:100\n",
       "CRIM     -0.108011  -0.107474  -0.104595 -0.101435  -0.102202\n",
       "ZN        0.046420   0.046572   0.047443  0.049579   0.054496\n",
       "INDUS     0.020559   0.015999  -0.008805 -0.042962  -0.052826\n",
       "CHAS      2.686734   2.670019   2.552393  1.952021   0.638335\n",
       "NOX     -17.766611 -16.684645 -10.777015 -2.371619  -0.262847\n",
       "RM        3.809865   3.818233   3.854000  3.702272   2.334536\n",
       "AGE       0.000692  -0.000269  -0.005415 -0.010707   0.001212\n",
       "DIS      -1.475567  -1.459626  -1.372654 -1.248808  -1.153390\n",
       "RAD       0.306049   0.303515   0.290142  0.279596   0.315358\n",
       "TAX      -0.012335  -0.012421  -0.012912 -0.013993  -0.015856\n",
       "PTRATIO  -0.952747  -0.940759  -0.876074 -0.797945  -0.829218\n",
       "B         0.009312   0.009368   0.009673  0.010037   0.009393\n",
       "LSTAT    -0.524758  -0.525966  -0.533343 -0.559366  -0.660764"
      ]
     },
     "execution_count": 12,
     "metadata": {},
     "output_type": "execute_result"
    }
   ],
   "source": [
    "coeff_df"
   ]
  },
  {
   "cell_type": "markdown",
   "metadata": {
    "ExecuteTime": {
     "end_time": "2019-04-08T11:18:28.138045Z",
     "start_time": "2019-04-08T11:18:28.129950Z"
    }
   },
   "source": [
    "- alpha 값을 증가시킬수록 회귀계수가 작아짐.\n",
    "- 특히 NOX 변수\n",
    "- 하지만, 0으로 만들지는 않는다."
   ]
  },
  {
   "cell_type": "markdown",
   "metadata": {},
   "source": [
    "# Lasso Regeression(L1)\n",
    "$$RSS(w) + alpha \\sum_{j=0}^p \\left\\vert w_j \\right\\vert$$ $$for\\,some\\,t>0, \\sum_{j=0}^p \\left\\vert w_j \\right\\vert <t$$\n",
    "\n",
    "- 회귀 계수를 급격하게 감소시켜 0으로 만들고 제거. (피처 선택의 특성)\n",
    "- alpha[default : 1]"
   ]
  },
  {
   "cell_type": "code",
   "execution_count": 14,
   "metadata": {
    "ExecuteTime": {
     "end_time": "2019-04-08T11:33:09.024611Z",
     "start_time": "2019-04-08T11:33:09.017101Z"
    }
   },
   "outputs": [],
   "source": [
    "from sklearn.linear_model import Lasso"
   ]
  },
  {
   "cell_type": "code",
   "execution_count": 15,
   "metadata": {
    "ExecuteTime": {
     "end_time": "2019-04-08T11:38:27.856581Z",
     "start_time": "2019-04-08T11:38:27.843123Z"
    }
   },
   "outputs": [],
   "source": [
    "def get_linear_reg_eval(model_name, params = None, X_data_n = None, y_target_n = None, verbose = True) :\n",
    "    coeff_df = pd.DataFrame()\n",
    "    \n",
    "    if verbose : print('#####', model_name,'#####')\n",
    "        \n",
    "    for param in params :\n",
    "        if model_name == 'Ridge' : model = Ridge(alpha = param)\n",
    "        elif model_name == 'Lasso' : model = Lasso(alpha = param)\n",
    "        elif model_name == 'ElasticNet' : model = ElasticNet(alpha = param, l1_ratio = 0.7)\n",
    "            \n",
    "        neg_mse_scores = cross_val_score(model, X_data_n, y_target_n, scoring = 'neg_mean_squared_error', cv= 5)\n",
    "        avg_rmse = np.mean(np.sqrt(-1*neg_mse_scores))\n",
    "        \n",
    "        print('alpha {0}일 때, 5fold average RMSE : {1:.3f}'.format(param, avg_rmse))\n",
    "        \n",
    "        model.fit(X_data_n, y_target_n)\n",
    "        coeff = pd.Series(data = model.coef_, index = X_data.columns)\n",
    "        colname = 'alpha:'+str(param)\n",
    "        coeff_df[colname] = coeff\n",
    "        \n",
    "    return coeff_df"
   ]
  },
  {
   "cell_type": "code",
   "execution_count": 18,
   "metadata": {
    "ExecuteTime": {
     "end_time": "2019-04-08T11:39:28.538479Z",
     "start_time": "2019-04-08T11:39:28.368262Z"
    }
   },
   "outputs": [
    {
     "name": "stdout",
     "output_type": "stream",
     "text": [
      "##### Lasso #####\n",
      "alpha 0.07일 때, 5fold average RMSE : 5.612\n",
      "alpha 0.1일 때, 5fold average RMSE : 5.615\n",
      "alpha 0.5일 때, 5fold average RMSE : 5.669\n",
      "alpha 1일 때, 5fold average RMSE : 5.776\n",
      "alpha 3일 때, 5fold average RMSE : 6.189\n"
     ]
    }
   ],
   "source": [
    "lasso_alphas = [0.07,0.1,0.5,1,3]\n",
    "coeff_lasso_df = get_linear_reg_eval('Lasso', params = lasso_alphas, X_data_n=X_data, y_target_n=y_target)"
   ]
  },
  {
   "cell_type": "code",
   "execution_count": 21,
   "metadata": {
    "ExecuteTime": {
     "end_time": "2019-04-08T11:41:36.924136Z",
     "start_time": "2019-04-08T11:41:36.903120Z"
    }
   },
   "outputs": [
    {
     "data": {
      "text/html": [
       "<div>\n",
       "<style scoped>\n",
       "    .dataframe tbody tr th:only-of-type {\n",
       "        vertical-align: middle;\n",
       "    }\n",
       "\n",
       "    .dataframe tbody tr th {\n",
       "        vertical-align: top;\n",
       "    }\n",
       "\n",
       "    .dataframe thead th {\n",
       "        text-align: right;\n",
       "    }\n",
       "</style>\n",
       "<table border=\"1\" class=\"dataframe\">\n",
       "  <thead>\n",
       "    <tr style=\"text-align: right;\">\n",
       "      <th></th>\n",
       "      <th>alpha:0.07</th>\n",
       "      <th>alpha:0.1</th>\n",
       "      <th>alpha:0.5</th>\n",
       "      <th>alpha:1</th>\n",
       "      <th>alpha:3</th>\n",
       "    </tr>\n",
       "  </thead>\n",
       "  <tbody>\n",
       "    <tr>\n",
       "      <th>RM</th>\n",
       "      <td>3.789725</td>\n",
       "      <td>3.703202</td>\n",
       "      <td>2.498212</td>\n",
       "      <td>0.949811</td>\n",
       "      <td>0.000000</td>\n",
       "    </tr>\n",
       "    <tr>\n",
       "      <th>CHAS</th>\n",
       "      <td>1.434343</td>\n",
       "      <td>0.955190</td>\n",
       "      <td>0.000000</td>\n",
       "      <td>0.000000</td>\n",
       "      <td>0.000000</td>\n",
       "    </tr>\n",
       "    <tr>\n",
       "      <th>RAD</th>\n",
       "      <td>0.270936</td>\n",
       "      <td>0.274707</td>\n",
       "      <td>0.277451</td>\n",
       "      <td>0.264206</td>\n",
       "      <td>0.061864</td>\n",
       "    </tr>\n",
       "    <tr>\n",
       "      <th>ZN</th>\n",
       "      <td>0.049059</td>\n",
       "      <td>0.049211</td>\n",
       "      <td>0.049544</td>\n",
       "      <td>0.049165</td>\n",
       "      <td>0.037231</td>\n",
       "    </tr>\n",
       "    <tr>\n",
       "      <th>B</th>\n",
       "      <td>0.010248</td>\n",
       "      <td>0.010249</td>\n",
       "      <td>0.009469</td>\n",
       "      <td>0.008247</td>\n",
       "      <td>0.006510</td>\n",
       "    </tr>\n",
       "    <tr>\n",
       "      <th>NOX</th>\n",
       "      <td>-0.000000</td>\n",
       "      <td>-0.000000</td>\n",
       "      <td>-0.000000</td>\n",
       "      <td>-0.000000</td>\n",
       "      <td>0.000000</td>\n",
       "    </tr>\n",
       "    <tr>\n",
       "      <th>AGE</th>\n",
       "      <td>-0.011706</td>\n",
       "      <td>-0.010037</td>\n",
       "      <td>0.003604</td>\n",
       "      <td>0.020910</td>\n",
       "      <td>0.042495</td>\n",
       "    </tr>\n",
       "    <tr>\n",
       "      <th>TAX</th>\n",
       "      <td>-0.014290</td>\n",
       "      <td>-0.014570</td>\n",
       "      <td>-0.015442</td>\n",
       "      <td>-0.015212</td>\n",
       "      <td>-0.008602</td>\n",
       "    </tr>\n",
       "    <tr>\n",
       "      <th>INDUS</th>\n",
       "      <td>-0.042120</td>\n",
       "      <td>-0.036619</td>\n",
       "      <td>-0.005253</td>\n",
       "      <td>-0.000000</td>\n",
       "      <td>-0.000000</td>\n",
       "    </tr>\n",
       "    <tr>\n",
       "      <th>CRIM</th>\n",
       "      <td>-0.098193</td>\n",
       "      <td>-0.097894</td>\n",
       "      <td>-0.083289</td>\n",
       "      <td>-0.063437</td>\n",
       "      <td>-0.000000</td>\n",
       "    </tr>\n",
       "    <tr>\n",
       "      <th>LSTAT</th>\n",
       "      <td>-0.560431</td>\n",
       "      <td>-0.568769</td>\n",
       "      <td>-0.656290</td>\n",
       "      <td>-0.761115</td>\n",
       "      <td>-0.807679</td>\n",
       "    </tr>\n",
       "    <tr>\n",
       "      <th>PTRATIO</th>\n",
       "      <td>-0.765107</td>\n",
       "      <td>-0.770654</td>\n",
       "      <td>-0.758752</td>\n",
       "      <td>-0.722966</td>\n",
       "      <td>-0.265072</td>\n",
       "    </tr>\n",
       "    <tr>\n",
       "      <th>DIS</th>\n",
       "      <td>-1.176583</td>\n",
       "      <td>-1.160538</td>\n",
       "      <td>-0.936605</td>\n",
       "      <td>-0.668790</td>\n",
       "      <td>-0.000000</td>\n",
       "    </tr>\n",
       "  </tbody>\n",
       "</table>\n",
       "</div>"
      ],
      "text/plain": [
       "         alpha:0.07  alpha:0.1  alpha:0.5   alpha:1   alpha:3\n",
       "RM         3.789725   3.703202   2.498212  0.949811  0.000000\n",
       "CHAS       1.434343   0.955190   0.000000  0.000000  0.000000\n",
       "RAD        0.270936   0.274707   0.277451  0.264206  0.061864\n",
       "ZN         0.049059   0.049211   0.049544  0.049165  0.037231\n",
       "B          0.010248   0.010249   0.009469  0.008247  0.006510\n",
       "NOX       -0.000000  -0.000000  -0.000000 -0.000000  0.000000\n",
       "AGE       -0.011706  -0.010037   0.003604  0.020910  0.042495\n",
       "TAX       -0.014290  -0.014570  -0.015442 -0.015212 -0.008602\n",
       "INDUS     -0.042120  -0.036619  -0.005253 -0.000000 -0.000000\n",
       "CRIM      -0.098193  -0.097894  -0.083289 -0.063437 -0.000000\n",
       "LSTAT     -0.560431  -0.568769  -0.656290 -0.761115 -0.807679\n",
       "PTRATIO   -0.765107  -0.770654  -0.758752 -0.722966 -0.265072\n",
       "DIS       -1.176583  -1.160538  -0.936605 -0.668790 -0.000000"
      ]
     },
     "execution_count": 21,
     "metadata": {},
     "output_type": "execute_result"
    }
   ],
   "source": [
    "#가장 best결과를 보여준 alpha = 0.07을 기준으로 정렬\n",
    "sort_column = 'alpha:'+str(lasso_alphas[0])\n",
    "coeff_lasso_df.sort_values(by = sort_column, ascending=False)"
   ]
  },
  {
   "cell_type": "markdown",
   "metadata": {},
   "source": [
    "- 불필요한 피처는 아예 0으로"
   ]
  },
  {
   "cell_type": "markdown",
   "metadata": {},
   "source": [
    "![image](https://cdn-images-1.medium.com/max/1600/1*Jd03Hyt2bpEv1r7UijLlpg.png)"
   ]
  },
  {
   "cell_type": "markdown",
   "metadata": {},
   "source": [
    "# ElasticNet\n",
    "$$RSS(w) + alpha2 \\sum_{j=0}^p w_j^2 + alpha1 \\sum_{j=0}^p\\left\\vert w_j \\right\\vert$$\n",
    "\n",
    "- L2 + L1\n",
    "- alpha값에 따라 L2에서 회귀 계수으 ㅣ값이 급격히 변동될 수 있는 것을 방지하고자 L1 추가\n",
    "- 상대적으로 오래 걸리다\n",
    "\n",
    "\n",
    "- alpha[default : 1] : alpha1(L1의 alpha)\n",
    "- l1_ratio[default : 0.5] : alpha1 / (alpha1 + alpha2)\n",
    "\n",
    "\n",
    "- l1_ratio = 0, a = 0 (L2와 동일)\n",
    "- l1_ratio = 1, b = 0 (L1과 동일)\n"
   ]
  },
  {
   "cell_type": "code",
   "execution_count": 24,
   "metadata": {
    "ExecuteTime": {
     "end_time": "2019-04-08T12:41:07.801659Z",
     "start_time": "2019-04-08T12:41:07.796904Z"
    }
   },
   "outputs": [],
   "source": [
    "from sklearn.linear_model import ElasticNet"
   ]
  },
  {
   "cell_type": "code",
   "execution_count": 25,
   "metadata": {
    "ExecuteTime": {
     "end_time": "2019-04-08T12:42:01.753771Z",
     "start_time": "2019-04-08T12:42:01.646055Z"
    }
   },
   "outputs": [
    {
     "name": "stdout",
     "output_type": "stream",
     "text": [
      "##### ElasticNet #####\n",
      "alpha 0.07일 때, 5fold average RMSE : 5.542\n",
      "alpha 0.1일 때, 5fold average RMSE : 5.526\n",
      "alpha 0.5일 때, 5fold average RMSE : 5.467\n",
      "alpha 1.3일 때, 5fold average RMSE : 5.670\n"
     ]
    }
   ],
   "source": [
    "#l1_ratio는 고정\n",
    "elastic_alphas = [0.07,0.1,0.5,1.3]\n",
    "\n",
    "coeff_elastic_df = get_linear_reg_eval('ElasticNet', params = elastic_alphas, X_data_n = X_data, y_target_n=y_target)"
   ]
  },
  {
   "cell_type": "code",
   "execution_count": 27,
   "metadata": {
    "ExecuteTime": {
     "end_time": "2019-04-08T12:43:07.756424Z",
     "start_time": "2019-04-08T12:43:07.740275Z"
    }
   },
   "outputs": [
    {
     "data": {
      "text/html": [
       "<div>\n",
       "<style scoped>\n",
       "    .dataframe tbody tr th:only-of-type {\n",
       "        vertical-align: middle;\n",
       "    }\n",
       "\n",
       "    .dataframe tbody tr th {\n",
       "        vertical-align: top;\n",
       "    }\n",
       "\n",
       "    .dataframe thead th {\n",
       "        text-align: right;\n",
       "    }\n",
       "</style>\n",
       "<table border=\"1\" class=\"dataframe\">\n",
       "  <thead>\n",
       "    <tr style=\"text-align: right;\">\n",
       "      <th></th>\n",
       "      <th>alpha:0.07</th>\n",
       "      <th>alpha:0.1</th>\n",
       "      <th>alpha:0.5</th>\n",
       "      <th>alpha:1.3</th>\n",
       "    </tr>\n",
       "  </thead>\n",
       "  <tbody>\n",
       "    <tr>\n",
       "      <th>RM</th>\n",
       "      <td>3.574162</td>\n",
       "      <td>3.414154</td>\n",
       "      <td>1.918419</td>\n",
       "      <td>0.560937</td>\n",
       "    </tr>\n",
       "    <tr>\n",
       "      <th>CHAS</th>\n",
       "      <td>1.330724</td>\n",
       "      <td>0.979706</td>\n",
       "      <td>0.000000</td>\n",
       "      <td>0.000000</td>\n",
       "    </tr>\n",
       "    <tr>\n",
       "      <th>RAD</th>\n",
       "      <td>0.278880</td>\n",
       "      <td>0.283443</td>\n",
       "      <td>0.300761</td>\n",
       "      <td>0.273045</td>\n",
       "    </tr>\n",
       "    <tr>\n",
       "      <th>ZN</th>\n",
       "      <td>0.050107</td>\n",
       "      <td>0.050617</td>\n",
       "      <td>0.052878</td>\n",
       "      <td>0.050578</td>\n",
       "    </tr>\n",
       "    <tr>\n",
       "      <th>B</th>\n",
       "      <td>0.010122</td>\n",
       "      <td>0.010067</td>\n",
       "      <td>0.009114</td>\n",
       "      <td>0.007957</td>\n",
       "    </tr>\n",
       "    <tr>\n",
       "      <th>AGE</th>\n",
       "      <td>-0.010116</td>\n",
       "      <td>-0.008276</td>\n",
       "      <td>0.007760</td>\n",
       "      <td>0.026241</td>\n",
       "    </tr>\n",
       "    <tr>\n",
       "      <th>TAX</th>\n",
       "      <td>-0.014522</td>\n",
       "      <td>-0.014814</td>\n",
       "      <td>-0.016046</td>\n",
       "      <td>-0.015689</td>\n",
       "    </tr>\n",
       "    <tr>\n",
       "      <th>INDUS</th>\n",
       "      <td>-0.044855</td>\n",
       "      <td>-0.042719</td>\n",
       "      <td>-0.023252</td>\n",
       "      <td>-0.000000</td>\n",
       "    </tr>\n",
       "    <tr>\n",
       "      <th>CRIM</th>\n",
       "      <td>-0.099468</td>\n",
       "      <td>-0.099213</td>\n",
       "      <td>-0.089070</td>\n",
       "      <td>-0.064928</td>\n",
       "    </tr>\n",
       "    <tr>\n",
       "      <th>NOX</th>\n",
       "      <td>-0.175072</td>\n",
       "      <td>-0.000000</td>\n",
       "      <td>-0.000000</td>\n",
       "      <td>-0.000000</td>\n",
       "    </tr>\n",
       "    <tr>\n",
       "      <th>LSTAT</th>\n",
       "      <td>-0.574822</td>\n",
       "      <td>-0.587702</td>\n",
       "      <td>-0.693861</td>\n",
       "      <td>-0.783503</td>\n",
       "    </tr>\n",
       "    <tr>\n",
       "      <th>PTRATIO</th>\n",
       "      <td>-0.779498</td>\n",
       "      <td>-0.784725</td>\n",
       "      <td>-0.790969</td>\n",
       "      <td>-0.697610</td>\n",
       "    </tr>\n",
       "    <tr>\n",
       "      <th>DIS</th>\n",
       "      <td>-1.189438</td>\n",
       "      <td>-1.173647</td>\n",
       "      <td>-0.975902</td>\n",
       "      <td>-0.599443</td>\n",
       "    </tr>\n",
       "  </tbody>\n",
       "</table>\n",
       "</div>"
      ],
      "text/plain": [
       "         alpha:0.07  alpha:0.1  alpha:0.5  alpha:1.3\n",
       "RM         3.574162   3.414154   1.918419   0.560937\n",
       "CHAS       1.330724   0.979706   0.000000   0.000000\n",
       "RAD        0.278880   0.283443   0.300761   0.273045\n",
       "ZN         0.050107   0.050617   0.052878   0.050578\n",
       "B          0.010122   0.010067   0.009114   0.007957\n",
       "AGE       -0.010116  -0.008276   0.007760   0.026241\n",
       "TAX       -0.014522  -0.014814  -0.016046  -0.015689\n",
       "INDUS     -0.044855  -0.042719  -0.023252  -0.000000\n",
       "CRIM      -0.099468  -0.099213  -0.089070  -0.064928\n",
       "NOX       -0.175072  -0.000000  -0.000000  -0.000000\n",
       "LSTAT     -0.574822  -0.587702  -0.693861  -0.783503\n",
       "PTRATIO   -0.779498  -0.784725  -0.790969  -0.697610\n",
       "DIS       -1.189438  -1.173647  -0.975902  -0.599443"
      ]
     },
     "execution_count": 27,
     "metadata": {},
     "output_type": "execute_result"
    }
   ],
   "source": [
    "#철번째 칼럼 순으로 정렬\n",
    "sort_column = 'alpha:'+str(elastic_alphas[0])\n",
    "coeff_elastic_df.sort_values(by = sort_column, ascending=False)"
   ]
  },
  {
   "cell_type": "markdown",
   "metadata": {},
   "source": [
    "- lasso모델보다 0이 되는 값들이 적음"
   ]
  }
 ],
 "metadata": {
  "hide_input": false,
  "kernelspec": {
   "display_name": "Python 3",
   "language": "python",
   "name": "python3"
  },
  "language_info": {
   "codemirror_mode": {
    "name": "ipython",
    "version": 3
   },
   "file_extension": ".py",
   "mimetype": "text/x-python",
   "name": "python",
   "nbconvert_exporter": "python",
   "pygments_lexer": "ipython3",
   "version": "3.7.1"
  },
  "toc": {
   "base_numbering": 1,
   "nav_menu": {},
   "number_sections": true,
   "sideBar": true,
   "skip_h1_title": false,
   "title_cell": "Table of Contents",
   "title_sidebar": "Contents",
   "toc_cell": false,
   "toc_position": {},
   "toc_section_display": true,
   "toc_window_display": true
  }
 },
 "nbformat": 4,
 "nbformat_minor": 2
}
