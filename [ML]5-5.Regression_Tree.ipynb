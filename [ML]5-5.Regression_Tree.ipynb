{
 "cells": [
  {
   "cell_type": "markdown",
   "metadata": {},
   "source": [
    "# 회귀 트리\n",
    "- 회귀를 위한 트리를 생성하고 이를 기반으로 회귀 예측을 하는 것.\n",
    "- 리프 노드에 속한 데이터 값의 평균값을 구해 회귀 예측값을 계산\n",
    "\n",
    "![image](https://cdn-images-1.medium.com/max/1600/1*yKxIOatPakfHvYMapbYVew.png)"
   ]
  },
  {
   "cell_type": "markdown",
   "metadata": {},
   "source": [
    "# Examle : Boston House Price prediction\n",
    "## randomforest"
   ]
  },
  {
   "cell_type": "code",
   "execution_count": 1,
   "metadata": {
    "ExecuteTime": {
     "end_time": "2019-04-14T04:58:41.414095Z",
     "start_time": "2019-04-14T04:58:40.396708Z"
    }
   },
   "outputs": [],
   "source": [
    "from sklearn.datasets import load_boston\n",
    "from sklearn.model_selection import cross_val_score\n",
    "from sklearn.ensemble import RandomForestRegressor\n",
    "import pandas as pd\n",
    "import numpy as np\n",
    "\n",
    "boston = load_boston()\n",
    "boston_df = pd.DataFrame(boston.data, columns = boston.feature_names)\n",
    "boston_df['price'] = boston.target\n",
    "\n",
    "y_target = boston_df['price']\n",
    "X_data = boston_df.drop(['price'], axis = 1)"
   ]
  },
  {
   "cell_type": "code",
   "execution_count": 4,
   "metadata": {
    "ExecuteTime": {
     "end_time": "2019-04-14T05:00:39.457909Z",
     "start_time": "2019-04-14T05:00:29.397343Z"
    }
   },
   "outputs": [
    {
     "name": "stdout",
     "output_type": "stream",
     "text": [
      "5 fold cv RMSE scores :  [2.82 3.61 4.53 6.8  4.34]\n",
      "5 fold average RMSE : 4.420\n"
     ]
    }
   ],
   "source": [
    "rf = RandomForestRegressor(random_state=0, n_estimators=1000, n_jobs = -1)\n",
    "neg_mse_scores = cross_val_score(rf, X_data, y_target, scoring='neg_mean_squared_error', cv = 5)\n",
    "rmse_scores = np.sqrt(-1*neg_mse_scores)\n",
    "avg_rmse = np.mean(rmse_scores)\n",
    "\n",
    "print('5 fold cv RMSE scores : ', np.round(rmse_scores,2))\n",
    "print('5 fold average RMSE : {0:.3f}'.format(avg_rmse))"
   ]
  },
  {
   "cell_type": "code",
   "execution_count": 11,
   "metadata": {
    "ExecuteTime": {
     "end_time": "2019-04-14T05:03:29.898484Z",
     "start_time": "2019-04-14T05:03:29.892503Z"
    }
   },
   "outputs": [],
   "source": [
    "def get_model_cv_predict(model, X_data, y_target) :\n",
    "    \n",
    "    neg_mse_scores = cross_val_score(model, X_data, y_target, scoring='neg_mean_squared_error', cv = 5)\n",
    "    rmse_scores = np.sqrt(-1*neg_mse_scores)\n",
    "    avg_rmse = np.mean(rmse_scores)\n",
    "    \n",
    "    print('#####', model.__class__.__name__, '#####')\n",
    "    print('5 fold average RMSE : {0:.3f}'.format(avg_rmse))"
   ]
  },
  {
   "cell_type": "markdown",
   "metadata": {},
   "source": [
    "## other tree regression models"
   ]
  },
  {
   "cell_type": "code",
   "execution_count": 9,
   "metadata": {},
   "outputs": [],
   "source": [
    "import warnings\n",
    "warnings.filterwarnings('ignore')"
   ]
  },
  {
   "cell_type": "code",
   "execution_count": 12,
   "metadata": {},
   "outputs": [
    {
     "name": "stdout",
     "output_type": "stream",
     "text": [
      "##### DecisionTreeRegressor #####\n",
      "5 fold average RMSE : 5.978\n",
      "##### RandomForestRegressor #####\n",
      "5 fold average RMSE : 4.420\n",
      "##### GradientBoostingRegressor #####\n",
      "5 fold average RMSE : 4.272\n",
      "##### XGBRegressor #####\n",
      "5 fold average RMSE : 4.089\n",
      "##### LGBMRegressor #####\n",
      "5 fold average RMSE : 4.646\n"
     ]
    }
   ],
   "source": [
    "from sklearn.tree import DecisionTreeRegressor\n",
    "from sklearn.ensemble import GradientBoostingRegressor\n",
    "from xgboost import XGBRegressor\n",
    "from lightgbm import LGBMRegressor\n",
    "\n",
    "dt = DecisionTreeRegressor(random_state = 0, max_depth=4)\n",
    "gb = GradientBoostingRegressor(random_state=0, n_estimators=1000)\n",
    "xgb = XGBRegressor(n_estimators=1000, n_jobs = -1)\n",
    "lgb = LGBMRegressor(n_estimators=1000, n_jobs = -1)\n",
    "\n",
    "models = [dt,rf,gb,xgb,lgb]\n",
    "\n",
    "for model in models :\n",
    "    get_model_cv_predict(model, X_data, y_target)\n"
   ]
  },
  {
   "cell_type": "markdown",
   "metadata": {},
   "source": [
    "## Importance plot"
   ]
  },
  {
   "cell_type": "code",
   "execution_count": 13,
   "metadata": {},
   "outputs": [],
   "source": [
    "import seaborn as sns\n",
    "%matplotlib inline"
   ]
  },
  {
   "cell_type": "code",
   "execution_count": 14,
   "metadata": {},
   "outputs": [
    {
     "data": {
      "text/plain": [
       "<matplotlib.axes._subplots.AxesSubplot at 0x7f56843f8f28>"
      ]
     },
     "execution_count": 14,
     "metadata": {},
     "output_type": "execute_result"
    },
    {
     "data": {
      "image/png": "[encoded data removed]",
      "text/plain": [
       "<Figure size 432x288 with 1 Axes>"
      ]
     },
     "metadata": {
      "needs_background": "light"
     },
     "output_type": "display_data"
    }
   ],
   "source": [
    "rf.fit(X_data, y_target)\n",
    "\n",
    "feature_series = pd.Series(data = rf.feature_importances_, index = X_data.columns).sort_values(ascending=False)\n",
    "sns.barplot(feature_series, feature_series.index)"
   ]
  },
  {
   "cell_type": "markdown",
   "metadata": {},
   "source": [
    "## Regression_tree  & linear regression\n",
    "- 가장 중요 변수인 RM칼럼만 이용\n",
    "- max_depth 의 크기를 변화시키면서 어떻게 회귀 트리 예측선이 변하는지\n",
    "- 100개만 샘플링하여 분석"
   ]
  },
  {
   "cell_type": "code",
   "execution_count": 15,
   "metadata": {},
   "outputs": [
    {
     "data": {
      "text/plain": [
       "(100, 2)"
      ]
     },
     "execution_count": 15,
     "metadata": {},
     "output_type": "execute_result"
    }
   ],
   "source": [
    "boston_sample = boston_df[['RM','price']].sample(100, random_state = 0)\n",
    "boston_sample.shape\n"
   ]
  },
  {
   "cell_type": "code",
   "execution_count": 17,
   "metadata": {},
   "outputs": [
    {
     "data": {
      "text/plain": [
       "<matplotlib.collections.PathCollection at 0x7f56b2e5bf98>"
      ]
     },
     "execution_count": 17,
     "metadata": {},
     "output_type": "execute_result"
    },
    {
     "data": {
      "image/png": "[encoded data removed]",
      "text/plain": [
       "<Figure size 432x288 with 1 Axes>"
      ]
     },
     "metadata": {
      "needs_background": "light"
     },
     "output_type": "display_data"
    }
   ],
   "source": [
    "import matplotlib.pyplot as plt\n",
    "plt.scatter(boston_sample.RM, boston_sample.price, c = 'darkorange')"
   ]
  },
  {
   "cell_type": "code",
   "execution_count": 27,
   "metadata": {},
   "outputs": [],
   "source": [
    "from sklearn.linear_model import LinearRegression\n",
    "lr = LinearRegression()\n",
    "dt2 = DecisionTreeRegressor(max_depth=2)\n",
    "dt7 = DecisionTreeRegressor(max_depth=7)\n",
    "\n",
    "#test data\n",
    "X_test = np.arange(4.5,8.5,0.04).reshape(-1,1)\n",
    "\n",
    "X_feature = boston_sample['RM'].values.reshape(-1,1)\n",
    "y_target = boston_sample['price'].values.reshape(-1,1)"
   ]
  },
  {
   "cell_type": "code",
   "execution_count": 28,
   "metadata": {},
   "outputs": [],
   "source": [
    "lr.fit(X_feature, y_target)\n",
    "dt2.fit(X_feature, y_target)\n",
    "dt7.fit(X_feature, y_target)\n",
    "\n",
    "pred_lr = lr.predict(X_test)\n",
    "pred_dt2 = dt2.predict(X_test)\n",
    "pred_dt7 = dt7.predict(X_test)"
   ]
  },
  {
   "cell_type": "code",
   "execution_count": 30,
   "metadata": {},
   "outputs": [
    {
     "data": {
      "text/plain": [
       "[<matplotlib.lines.Line2D at 0x7f5684043978>]"
      ]
     },
     "execution_count": 30,
     "metadata": {},
     "output_type": "execute_result"
    },
    {
     "data": {
      "image/png": "[encoded data removed]",
      "text/plain": [
       "<Figure size 1008x288 with 3 Axes>"
      ]
     },
     "metadata": {
      "needs_background": "light"
     },
     "output_type": "display_data"
    }
   ],
   "source": [
    "fig, (ax1, ax2, ax3) = plt.subplots(figsize = (14,4), ncols = 3)\n",
    "\n",
    "ax1.set_title('Linear Regression')\n",
    "ax1.scatter(boston_sample.RM, boston_sample.price, c = 'darkorange')\n",
    "ax1.plot(X_test, pred_lr, label = 'linear', linewidth = 2)\n",
    "\n",
    "ax2.set_title('Decision Tree Regression \\n max_depth = 2')\n",
    "ax2.scatter(boston_sample.RM, boston_sample.price, c = 'darkorange')\n",
    "ax2.plot(X_test, pred_dt2, label = 'max_depth 2', linewidth = 2)\n",
    "\n",
    "ax3.set_title('Decision Tree Regression \\n max_depth = 7')\n",
    "ax3.scatter(boston_sample.RM, boston_sample.price, c = 'darkorange')\n",
    "ax3.plot(X_test, pred_dt7, label = 'max_depth 7', linewidth = 2)"
   ]
  }
 ],
 "metadata": {
  "hide_input": false,
  "kernelspec": {
   "display_name": "Python 3",
   "language": "python",
   "name": "python3"
  },
  "language_info": {
   "codemirror_mode": {
    "name": "ipython",
    "version": 3
   },
   "file_extension": ".py",
   "mimetype": "text/x-python",
   "name": "python",
   "nbconvert_exporter": "python",
   "pygments_lexer": "ipython3",
   "version": "3.5.2"
  },
  "toc": {
   "base_numbering": 1,
   "nav_menu": {},
   "number_sections": true,
   "sideBar": true,
   "skip_h1_title": false,
   "title_cell": "Table of Contents",
   "title_sidebar": "Contents",
   "toc_cell": false,
   "toc_position": {},
   "toc_section_display": true,
   "toc_window_display": true
  }
 },
 "nbformat": 4,
 "nbformat_minor": 2
}
