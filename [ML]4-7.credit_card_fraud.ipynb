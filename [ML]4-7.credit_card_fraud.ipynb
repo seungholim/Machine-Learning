{
 "cells": [
  {
   "cell_type": "markdown",
   "metadata": {},
   "source": [
    "https://www.kaggle.com/mlg-ulb/creditcardfraud\n",
    "\n",
    "0 : normal transaction / 1 : fraud transaction"
   ]
  },
  {
   "cell_type": "code",
   "execution_count": 5,
   "metadata": {
    "ExecuteTime": {
     "end_time": "2019-03-26T11:28:48.422805Z",
     "start_time": "2019-03-26T11:28:48.417818Z"
    }
   },
   "outputs": [
    {
     "data": {
      "text/plain": [
       "['creditcard.csv', 'diabetes.csv', 'HAR', 'santander_cs', 'titanic']"
      ]
     },
     "execution_count": 5,
     "metadata": {},
     "output_type": "execute_result"
    }
   ],
   "source": [
    "import os\n",
    "os.listdir('../data/')"
   ]
  },
  {
   "cell_type": "code",
   "execution_count": 6,
   "metadata": {
    "ExecuteTime": {
     "end_time": "2019-03-26T11:28:52.081739Z",
     "start_time": "2019-03-26T11:28:48.722782Z"
    }
   },
   "outputs": [],
   "source": [
    "import pandas as pd\n",
    "import numpy as np\n",
    "import matplotlib.pyplot as plt\n",
    "import warnings\n",
    "warnings.filterwarnings('ignore')"
   ]
  },
  {
   "cell_type": "code",
   "execution_count": 7,
   "metadata": {
    "ExecuteTime": {
     "end_time": "2019-03-26T11:29:02.267406Z",
     "start_time": "2019-03-26T11:28:52.081739Z"
    }
   },
   "outputs": [
    {
     "name": "stdout",
     "output_type": "stream",
     "text": [
      "card shape :  (284807, 31)\n"
     ]
    }
   ],
   "source": [
    "card = pd.read_csv('../data/creditcard.csv')\n",
    "print('card shape : ', card.shape)"
   ]
  },
  {
   "cell_type": "code",
   "execution_count": 8,
   "metadata": {
    "ExecuteTime": {
     "end_time": "2019-03-26T11:29:02.292452Z",
     "start_time": "2019-03-26T11:29:02.270511Z"
    }
   },
   "outputs": [
    {
     "data": {
      "text/plain": [
       "0    284315\n",
       "1       492\n",
       "Name: Class, dtype: int64"
      ]
     },
     "execution_count": 8,
     "metadata": {},
     "output_type": "execute_result"
    }
   ],
   "source": [
    "card.Class.value_counts()"
   ]
  },
  {
   "cell_type": "code",
   "execution_count": 9,
   "metadata": {
    "ExecuteTime": {
     "end_time": "2019-03-26T11:29:02.316388Z",
     "start_time": "2019-03-26T11:29:02.296442Z"
    }
   },
   "outputs": [
    {
     "name": "stdout",
     "output_type": "stream",
     "text": [
      "fraud rate :  0.001727485630620034\n"
     ]
    }
   ],
   "source": [
    "print('fraud rate : ',sum(card.Class == 1) / len(card))"
   ]
  },
  {
   "cell_type": "markdown",
   "metadata": {},
   "source": [
    "# preprocessing"
   ]
  },
  {
   "cell_type": "code",
   "execution_count": 10,
   "metadata": {
    "ExecuteTime": {
     "end_time": "2019-03-26T11:29:10.038201Z",
     "start_time": "2019-03-26T11:29:08.017300Z"
    }
   },
   "outputs": [],
   "source": [
    "from sklearn.model_selection import train_test_split"
   ]
  },
  {
   "cell_type": "code",
   "execution_count": 14,
   "metadata": {
    "ExecuteTime": {
     "end_time": "2019-03-26T11:29:23.910275Z",
     "start_time": "2019-03-26T11:29:23.570054Z"
    }
   },
   "outputs": [],
   "source": [
    "def get_train_test_dataset(df) :\n",
    "    \n",
    "    #time drop\n",
    "    def get_preprocessed_df(df) :\n",
    "        df_copy = df.copy()\n",
    "        df_copy.drop('Time', axis = 1, inplace = True)\n",
    "\n",
    "        return df_copy\n",
    "    \n",
    "    \n",
    "    df_copy = get_preprocessed_df(df)\n",
    "    \n",
    "    X_features = df_copy.iloc[:, :-1]\n",
    "    y_target = df_copy.iloc[:,-1]\n",
    "    \n",
    "    X_train, X_test, y_train, y_test = train_test_split(X_features, y_target, test_size = 0.3,\n",
    "                                                       random_state = 0, stratify = y_target)\n",
    "    \n",
    "    return X_train, X_test, y_train, y_test\n",
    "\n",
    "X_train, X_test, y_train, y_test = get_train_test_dataset(card)"
   ]
  },
  {
   "cell_type": "code",
   "execution_count": 15,
   "metadata": {
    "ExecuteTime": {
     "end_time": "2019-03-26T11:29:25.192465Z",
     "start_time": "2019-03-26T11:29:25.154563Z"
    }
   },
   "outputs": [
    {
     "name": "stdout",
     "output_type": "stream",
     "text": [
      "train data label rate\n",
      "0    99.827451\n",
      "1     0.172549\n",
      "Name: Class, dtype: float64\n",
      "test data label rate\n",
      "0    99.826785\n",
      "1     0.173215\n",
      "Name: Class, dtype: float64\n"
     ]
    }
   ],
   "source": [
    "print('train data label rate')\n",
    "print(y_train.value_counts() / len(y_train)*100)\n",
    "print('test data label rate')\n",
    "print(y_test.value_counts() / len(y_test)*100)"
   ]
  },
  {
   "cell_type": "code",
   "execution_count": 11,
   "metadata": {
    "ExecuteTime": {
     "end_time": "2019-03-26T11:29:12.809964Z",
     "start_time": "2019-03-26T11:29:12.802952Z"
    }
   },
   "outputs": [],
   "source": [
    "from sklearn.metrics import accuracy_score\n",
    "from sklearn.metrics import recall_score\n",
    "from sklearn.metrics import precision_score\n",
    "from sklearn.metrics import confusion_matrix\n",
    "from sklearn.metrics import f1_score\n",
    "from sklearn.metrics import roc_auc_score\n",
    "\n",
    "def get_eval(y_test, pred) :\n",
    "    \n",
    "    print('accuracy : {0:.4f} precision : {1:.4f} recall : {2:.4f} F1 : {3:.4f} AUC : {4:.4f}'.format(\n",
    "                                                        accuracy_score(y_test, pred), \n",
    "                                                        precision_score(y_test, pred),\n",
    "                                                        recall_score(y_test, pred),\n",
    "                                                        f1_score(y_test,pred),\n",
    "                                                        roc_auc_score(y_test, pred)\n",
    "                                                                      ))\n",
    "\n",
    "    print(confusion_matrix(y_test, pred))"
   ]
  },
  {
   "cell_type": "markdown",
   "metadata": {},
   "source": [
    "# modeling"
   ]
  },
  {
   "cell_type": "code",
   "execution_count": 16,
   "metadata": {
    "ExecuteTime": {
     "end_time": "2019-03-26T11:29:26.657418Z",
     "start_time": "2019-03-26T11:29:26.651438Z"
    }
   },
   "outputs": [],
   "source": [
    "def get_model_train_eval(model, ftr_train = None, ftr_test = None, tgt_train = None, tgt_test = None) :\n",
    "    \n",
    "    model.fit(ftr_train ,tgt_train)\n",
    "    pred = model.predict(ftr_test)\n",
    "    get_eval(tgt_test, pred)"
   ]
  },
  {
   "cell_type": "markdown",
   "metadata": {},
   "source": [
    "## logistic regression"
   ]
  },
  {
   "cell_type": "code",
   "execution_count": 17,
   "metadata": {
    "ExecuteTime": {
     "end_time": "2019-03-26T11:29:34.276219Z",
     "start_time": "2019-03-26T11:29:27.249777Z"
    }
   },
   "outputs": [
    {
     "name": "stdout",
     "output_type": "stream",
     "text": [
      "accuracy : 0.9992 precision : 0.8738 recall : 0.6081 F1 : 0.7171 AUC : 0.8040\n",
      "[[85282    13]\n",
      " [   58    90]]\n"
     ]
    }
   ],
   "source": [
    "from sklearn.linear_model import LogisticRegression\n",
    "\n",
    "lr = LogisticRegression()\n",
    "lr.fit(X_train, y_train)\n",
    "lr_pred = lr.predict(X_test)\n",
    "\n",
    "get_eval(y_test, lr_pred)"
   ]
  },
  {
   "cell_type": "markdown",
   "metadata": {},
   "source": [
    "## LightGBM"
   ]
  },
  {
   "cell_type": "code",
   "execution_count": 18,
   "metadata": {
    "ExecuteTime": {
     "end_time": "2019-03-26T11:29:52.428992Z",
     "start_time": "2019-03-26T11:29:34.279210Z"
    }
   },
   "outputs": [
    {
     "name": "stdout",
     "output_type": "stream",
     "text": [
      "accuracy : 0.9995 precision : 0.9492 recall : 0.7568 F1 : 0.8421 AUC : 0.8783\n",
      "[[85289     6]\n",
      " [   36   112]]\n"
     ]
    }
   ],
   "source": [
    "from lightgbm import LGBMClassifier\n",
    "\n",
    "lgb = LGBMClassifier(n_estimators=1000, num_leaves=64, n_jobs=-1, boost_from_average = False)\n",
    "#boost_from_average = False (default : True) <- imbalance data는 False로 설정해야 함\n",
    "\n",
    "get_model_train_eval(lgb, X_train, X_test, y_train, y_test)"
   ]
  },
  {
   "cell_type": "markdown",
   "metadata": {},
   "source": [
    "# data transformation"
   ]
  },
  {
   "cell_type": "code",
   "execution_count": 19,
   "metadata": {
    "ExecuteTime": {
     "end_time": "2019-03-26T11:29:53.109092Z",
     "start_time": "2019-03-26T11:29:52.431022Z"
    }
   },
   "outputs": [
    {
     "data": {
      "text/plain": [
       "<matplotlib.axes._subplots.AxesSubplot at 0x1d8817bf128>"
      ]
     },
     "execution_count": 19,
     "metadata": {},
     "output_type": "execute_result"
    },
    {
     "data": {
      "image/png": "[encoded data removed]",
      "text/plain": [
       "<Figure size 576x288 with 1 Axes>"
      ]
     },
     "metadata": {
      "needs_background": "light"
     },
     "output_type": "display_data"
    }
   ],
   "source": [
    "import seaborn as sns\n",
    "plt.figure(figsize = (8,4))\n",
    "plt.xticks(range(0,30000,1000), rotation = 60)\n",
    "sns.distplot(card['Amount'])"
   ]
  },
  {
   "cell_type": "code",
   "execution_count": 20,
   "metadata": {
    "ExecuteTime": {
     "end_time": "2019-03-26T11:29:53.149984Z",
     "start_time": "2019-03-26T11:29:53.113082Z"
    }
   },
   "outputs": [
    {
     "data": {
      "text/plain": [
       "count    284807.000000\n",
       "mean         88.349619\n",
       "std         250.120109\n",
       "min           0.000000\n",
       "25%           5.600000\n",
       "50%          22.000000\n",
       "75%          77.165000\n",
       "max       25691.160000\n",
       "Name: Amount, dtype: float64"
      ]
     },
     "execution_count": 20,
     "metadata": {},
     "output_type": "execute_result"
    }
   ],
   "source": [
    "card.Amount.describe()"
   ]
  },
  {
   "cell_type": "markdown",
   "metadata": {},
   "source": [
    "## Standardization - 정규화\n",
    "- logistic regression은 회귀이기 때문에, 각가의 변수들이 정규분포를 따르는 것이 좋다.\n",
    "- tree based model은 별로 상관 없음"
   ]
  },
  {
   "cell_type": "code",
   "execution_count": 21,
   "metadata": {
    "ExecuteTime": {
     "end_time": "2019-03-26T11:29:53.620721Z",
     "start_time": "2019-03-26T11:29:53.155968Z"
    }
   },
   "outputs": [],
   "source": [
    "from sklearn.preprocessing import StandardScaler\n",
    "\n",
    "def get_train_test_dataset(df) :\n",
    "    \n",
    "    def get_preprocessed_df(df) :\n",
    "    \n",
    "        df_copy = df.copy()\n",
    "        scaler = StandardScaler()\n",
    "\n",
    "        amount_n = scaler.fit_transform(df_copy['Amount'].values.reshape(-1,1))\n",
    "        #정규화하여 Amount_scaled라는 이름으로 데이터프레임 맨 앞에 \n",
    "        df_copy.insert(0, 'Amount_scaled', amount_n)\n",
    "\n",
    "        df_copy.drop(['Time','Amount'], axis = 1, inplace = True)\n",
    "        return df_copy\n",
    "    \n",
    "    \n",
    "    df_copy = get_preprocessed_df(df)\n",
    "    \n",
    "    X_features = df_copy.iloc[:, :-1]\n",
    "    y_target = df_copy.iloc[:,-1]\n",
    "    \n",
    "    X_train, X_test, y_train, y_test = train_test_split(X_features, y_target, test_size = 0.3,\n",
    "                                                       random_state = 0, stratify = y_target)\n",
    "    \n",
    "    return X_train, X_test, y_train, y_test\n",
    "\n",
    "X_train, X_test, y_train, y_test = get_train_test_dataset(card)"
   ]
  },
  {
   "cell_type": "code",
   "execution_count": 22,
   "metadata": {
    "ExecuteTime": {
     "end_time": "2019-03-26T11:30:16.097972Z",
     "start_time": "2019-03-26T11:29:53.621719Z"
    }
   },
   "outputs": [
    {
     "name": "stdout",
     "output_type": "stream",
     "text": [
      "### logistic regression ###\n",
      "accuracy : 0.9992 precision : 0.8654 recall : 0.6081 F1 : 0.7143 AUC : 0.8040\n",
      "[[85281    14]\n",
      " [   58    90]]\n",
      "### LightGBM###\n",
      "accuracy : 0.9995 precision : 0.9492 recall : 0.7568 F1 : 0.8421 AUC : 0.8783\n",
      "[[85289     6]\n",
      " [   36   112]]\n"
     ]
    }
   ],
   "source": [
    "#after standardization\n",
    "lr = LogisticRegression()\n",
    "print('### logistic regression ###')\n",
    "get_model_train_eval(lr, X_train, X_test, y_train, y_test)\n",
    "\n",
    "print('### LightGBM###')\n",
    "lgb = LGBMClassifier(n_estimators=1000, num_leaves=64, n_jobs=-1, boost_from_average = False)\n",
    "get_model_train_eval(lgb, X_train, X_test, y_train, y_test)"
   ]
  },
  {
   "cell_type": "markdown",
   "metadata": {},
   "source": [
    "- 하나도 좋아지지 않음"
   ]
  },
  {
   "cell_type": "markdown",
   "metadata": {},
   "source": [
    "## log transformation"
   ]
  },
  {
   "cell_type": "code",
   "execution_count": 23,
   "metadata": {
    "ExecuteTime": {
     "end_time": "2019-03-26T11:30:16.518908Z",
     "start_time": "2019-03-26T11:30:16.099976Z"
    }
   },
   "outputs": [],
   "source": [
    "def get_train_test_dataset(df) :\n",
    "    \n",
    "    def get_preprocessed_df(df) :\n",
    "    \n",
    "        df_copy = df.copy()\n",
    "\n",
    "        amount_n = np.log1p(df.Amount)\n",
    "\n",
    "        #정규화하여 Amount_scaled라는 이름으로 데이터프레임 맨 앞에 \n",
    "        df_copy.insert(0, 'Amount_scaled', amount_n)\n",
    "\n",
    "        df_copy.drop(['Time','Amount'], axis = 1, inplace = True)\n",
    "        return df_copy\n",
    "    \n",
    "    \n",
    "    df_copy = get_preprocessed_df(df)\n",
    "    \n",
    "    X_features = df_copy.iloc[:, :-1]\n",
    "    y_target = df_copy.iloc[:,-1]\n",
    "    \n",
    "    X_train, X_test, y_train, y_test = train_test_split(X_features, y_target, test_size = 0.3,\n",
    "                                                       random_state = 0, stratify = y_target)\n",
    "    \n",
    "    return X_train, X_test, y_train, y_test\n",
    "\n",
    "X_train, X_test, y_train, y_test = get_train_test_dataset(card)"
   ]
  },
  {
   "cell_type": "code",
   "execution_count": 24,
   "metadata": {
    "ExecuteTime": {
     "end_time": "2019-03-26T11:30:40.476882Z",
     "start_time": "2019-03-26T11:30:16.518908Z"
    }
   },
   "outputs": [
    {
     "name": "stdout",
     "output_type": "stream",
     "text": [
      "### logistic regression ###\n",
      "accuracy : 0.9992 precision : 0.8824 recall : 0.6081 F1 : 0.7200 AUC : 0.8040\n",
      "[[85283    12]\n",
      " [   58    90]]\n",
      "### LightGBM###\n",
      "accuracy : 0.9995 precision : 0.9576 recall : 0.7635 F1 : 0.8496 AUC : 0.8817\n",
      "[[85290     5]\n",
      " [   35   113]]\n"
     ]
    }
   ],
   "source": [
    "#after log transformation\n",
    "print('### logistic regression ###')\n",
    "get_model_train_eval(lr, X_train, X_test, y_train, y_test)\n",
    "\n",
    "print('### LightGBM###')\n",
    "lgb = LGBMClassifier(n_estimators=1000, num_leaves=64, n_jobs=-1, boost_from_average = False)\n",
    "get_model_train_eval(lgb, X_train, X_test, y_train, y_test)"
   ]
  },
  {
   "cell_type": "markdown",
   "metadata": {},
   "source": [
    "# outlier"
   ]
  },
  {
   "cell_type": "code",
   "execution_count": 25,
   "metadata": {
    "ExecuteTime": {
     "end_time": "2019-03-26T11:30:42.071154Z",
     "start_time": "2019-03-26T11:30:40.478878Z"
    }
   },
   "outputs": [
    {
     "data": {
      "text/plain": [
       "<matplotlib.axes._subplots.AxesSubplot at 0x1d881bfd978>"
      ]
     },
     "execution_count": 25,
     "metadata": {},
     "output_type": "execute_result"
    },
    {
     "data": {
      "image/png": "[encoded data removed]",
      "text/plain": [
       "<Figure size 648x648 with 2 Axes>"
      ]
     },
     "metadata": {
      "needs_background": "light"
     },
     "output_type": "display_data"
    }
   ],
   "source": [
    "import seaborn as sns\n",
    "\n",
    "plt.figure(figsize = (9,9))\n",
    "corr = card.corr()\n",
    "sns.heatmap(corr, cmap = 'RdBu')"
   ]
  },
  {
   "cell_type": "code",
   "execution_count": 26,
   "metadata": {
    "ExecuteTime": {
     "end_time": "2019-03-26T11:30:42.729430Z",
     "start_time": "2019-03-26T11:30:42.074146Z"
    }
   },
   "outputs": [
    {
     "data": {
      "text/plain": [
       "<matplotlib.axes._subplots.AxesSubplot at 0x1d881ee6470>"
      ]
     },
     "execution_count": 26,
     "metadata": {},
     "output_type": "execute_result"
    },
    {
     "data": {
      "image/png": "[encoded data removed]",
      "text/plain": [
       "<Figure size 648x648 with 2 Axes>"
      ]
     },
     "metadata": {
      "needs_background": "light"
     },
     "output_type": "display_data"
    }
   ],
   "source": [
    "#fraud card correlation\n",
    "plt.figure(figsize = (9,9))\n",
    "corr = card[card.Class == 1].corr()\n",
    "sns.heatmap(corr, cmap = 'RdBu')"
   ]
  },
  {
   "cell_type": "code",
   "execution_count": 27,
   "metadata": {
    "ExecuteTime": {
     "end_time": "2019-03-26T11:30:42.736410Z",
     "start_time": "2019-03-26T11:30:42.730393Z"
    }
   },
   "outputs": [],
   "source": [
    "def get_outlier(df, column, weight = 1.5) :\n",
    "    \n",
    "    fraud = df[df.Class == 1][column]\n",
    "    \n",
    "    quantile_25 = np.percentile(fraud.values, 25)\n",
    "    quantile_75 = np.percentile(fraud.values, 75)\n",
    "    iqr = (quantile_75 - quantile_25)*weight\n",
    "    \n",
    "    lowest = quantile_25-iqr\n",
    "    highest = quantile_75+iqr\n",
    "    \n",
    "    oulier_index = fraud[(fraud < lowest) | (fraud > highest)].index\n",
    "    \n",
    "    return oulier_index"
   ]
  },
  {
   "cell_type": "code",
   "execution_count": 28,
   "metadata": {
    "ExecuteTime": {
     "end_time": "2019-03-26T11:30:42.760344Z",
     "start_time": "2019-03-26T11:30:42.739368Z"
    }
   },
   "outputs": [
    {
     "name": "stdout",
     "output_type": "stream",
     "text": [
      "V14 outlier index :  Int64Index([8296, 8615, 9035, 9252], dtype='int64')\n"
     ]
    }
   ],
   "source": [
    "oulier_index = get_outlier(card, 'V14', 1.5)\n",
    "print('V14 outlier index : ', oulier_index)"
   ]
  },
  {
   "cell_type": "code",
   "execution_count": 29,
   "metadata": {
    "ExecuteTime": {
     "end_time": "2019-03-26T11:30:43.599071Z",
     "start_time": "2019-03-26T11:30:42.764300Z"
    }
   },
   "outputs": [],
   "source": [
    "def get_train_test_dataset(df) :\n",
    "    \n",
    "    def get_preprocessed_df(df) :\n",
    "\n",
    "        df_copy = df.copy()\n",
    "\n",
    "        amount_n = np.log1p(df.Amount)\n",
    "\n",
    "        #정규화하여 Amount_scaled라는 이름으로 데이터프레임 맨 앞에 \n",
    "        df_copy.insert(0, 'Amount_scaled', amount_n)\n",
    "\n",
    "        df_copy.drop(['Time','Amount'], axis = 1, inplace = True)\n",
    "\n",
    "        #outlier\n",
    "        oulier_index = get_outlier(card, 'V14', 1.5)\n",
    "        df_copy.drop(oulier_index, axis = 0, inplace = True)\n",
    "\n",
    "        return df_copy\n",
    "    \n",
    "    \n",
    "    df_copy = get_preprocessed_df(df)\n",
    "    \n",
    "    X_features = df_copy.iloc[:, :-1]\n",
    "    y_target = df_copy.iloc[:,-1]\n",
    "    \n",
    "    X_train, X_test, y_train, y_test = train_test_split(X_features, y_target, test_size = 0.3,\n",
    "                                                       random_state = 0, stratify = y_target)\n",
    "    \n",
    "    return X_train, X_test, y_train, y_test\n",
    "\n",
    "X_train, X_test, y_train, y_test = get_train_test_dataset(card)"
   ]
  },
  {
   "cell_type": "code",
   "execution_count": 30,
   "metadata": {
    "ExecuteTime": {
     "end_time": "2019-03-26T11:31:08.629172Z",
     "start_time": "2019-03-26T11:30:43.601063Z"
    }
   },
   "outputs": [
    {
     "name": "stdout",
     "output_type": "stream",
     "text": [
      "### logistic regression ###\n",
      "accuracy : 0.9993 precision : 0.8829 recall : 0.6712 F1 : 0.7626 AUC : 0.8355\n",
      "[[85282    13]\n",
      " [   48    98]]\n",
      "### LightGBM###\n",
      "accuracy : 0.9997 precision : 0.9680 recall : 0.8288 F1 : 0.8930 AUC : 0.9144\n",
      "[[85291     4]\n",
      " [   25   121]]\n"
     ]
    }
   ],
   "source": [
    "#after log transformation\n",
    "print('### logistic regression ###')\n",
    "get_model_train_eval(lr, X_train, X_test, y_train, y_test)\n",
    "\n",
    "print('### LightGBM###')\n",
    "get_model_train_eval(lgb, X_train, X_test, y_train, y_test)"
   ]
  },
  {
   "cell_type": "markdown",
   "metadata": {},
   "source": [
    "# SMOTE oversampling\n",
    "- oversampling : 적은 데이터 세트를 증식하여 학습을 위한 충분한 데이터를 확보하는 방법. 원본 데이터으 ㅣ피처 값들을 아주 약간만 변경하여 증식.\n",
    "- SMOTE(Synthetic Minority Over-sampling Technique) : 적은 데이터 세트에 있는 개별 데이터들의 KNN을 찾아서 이 데이터와 K개 이웃들의 차이를 일정 값으로 만들어서 기존 데이터와 약간 차이가 나는 새로운 데이터 생성.\n",
    "- 반드시 train data만 oversampling"
   ]
  },
  {
   "cell_type": "code",
   "execution_count": 31,
   "metadata": {
    "ExecuteTime": {
     "end_time": "2019-03-26T11:50:19.210614Z",
     "start_time": "2019-03-26T11:50:19.194980Z"
    }
   },
   "outputs": [],
   "source": [
    "from imblearn.over_sampling import SMOTE"
   ]
  },
  {
   "cell_type": "code",
   "execution_count": 32,
   "metadata": {
    "ExecuteTime": {
     "end_time": "2019-03-26T11:51:36.484346Z",
     "start_time": "2019-03-26T11:51:34.241614Z"
    }
   },
   "outputs": [
    {
     "name": "stdout",
     "output_type": "stream",
     "text": [
      "before smote train data shape :  (199362, 29) (199362,)\n",
      "after smote train data shape :  (398040, 29) (398040,)\n"
     ]
    }
   ],
   "source": [
    "smote = SMOTE(random_state=0)\n",
    "#smote 적용\n",
    "X_train_over, y_train_over = smote.fit_sample(X_train, y_train)\n",
    "\n",
    "print('before smote train data shape : ', X_train.shape, y_train.shape)\n",
    "print('after smote train data shape : ', X_train_over.shape, y_train_over.shape)"
   ]
  },
  {
   "cell_type": "code",
   "execution_count": 34,
   "metadata": {
    "ExecuteTime": {
     "end_time": "2019-03-26T11:52:28.337810Z",
     "start_time": "2019-03-26T11:52:28.322879Z"
    }
   },
   "outputs": [
    {
     "name": "stdout",
     "output_type": "stream",
     "text": [
      "after SMOTE y label rate \n",
      " 1    199020\n",
      "0    199020\n",
      "dtype: int64\n"
     ]
    }
   ],
   "source": [
    "#동일한 비율\n",
    "print('after SMOTE y label rate \\n', pd.Series(y_train_over).value_counts())"
   ]
  },
  {
   "cell_type": "markdown",
   "metadata": {},
   "source": [
    "## logistic regression()"
   ]
  },
  {
   "cell_type": "code",
   "execution_count": 35,
   "metadata": {
    "ExecuteTime": {
     "end_time": "2019-03-26T11:53:33.955276Z",
     "start_time": "2019-03-26T11:53:25.962060Z"
    }
   },
   "outputs": [
    {
     "name": "stdout",
     "output_type": "stream",
     "text": [
      "accuracy : 0.9722 precision : 0.0540 recall : 0.9247 F1 : 0.1021 AUC : 0.9485\n",
      "[[82932  2363]\n",
      " [   11   135]]\n"
     ]
    }
   ],
   "source": [
    "lr = LogisticRegression()\n",
    "#recall 증가, precision 급감\n",
    "get_model_train_eval(lr, X_train_over, X_test, y_train_over, y_test)"
   ]
  },
  {
   "cell_type": "code",
   "execution_count": 36,
   "metadata": {
    "ExecuteTime": {
     "end_time": "2019-03-26T11:56:11.852967Z",
     "start_time": "2019-03-26T11:56:11.179272Z"
    }
   },
   "outputs": [
    {
     "data": {
      "image/png": "[encoded data removed]",
      "text/plain": [
       "<Figure size 576x432 with 1 Axes>"
      ]
     },
     "metadata": {
      "needs_background": "light"
     },
     "output_type": "display_data"
    }
   ],
   "source": [
    "from sklearn.metrics import precision_recall_curve\n",
    "\n",
    "def precision_recall_curve_plot(y_test, pred_proba_c1) :\n",
    "    \n",
    "    precision, recall, threshold = precision_recall_curve(y_test, pred_proba_c1)\n",
    "    \n",
    "    plt.figure(figsize=(8,6))\n",
    "    threshold_boundary = threshold.shape[0]\n",
    "    plt.plot(threshold, precision[:threshold_boundary], linestyle = '--', label = 'precision')\n",
    "    plt.plot(threshold, recall[:threshold_boundary], label = 'recall')\n",
    "    \n",
    "    #x축의 scale을 0.1단위로\n",
    "    start, end = plt.xlim()\n",
    "    plt.xticks(np.round(np.arange(start, end, 0.1),2))\n",
    "    \n",
    "    plt.xlabel('Threshold value')\n",
    "    plt.ylabel('Precision and Recall value')\n",
    "    \n",
    "    plt.legend()\n",
    "    plt.grid()\n",
    "    plt.show()\n",
    "    \n",
    "precision_recall_curve_plot(y_test, lr.predict_proba(X_test)[:,1])"
   ]
  },
  {
   "cell_type": "markdown",
   "metadata": {},
   "source": [
    "- logistic regression은 SMOTE 방법 안 좋아보임"
   ]
  },
  {
   "cell_type": "markdown",
   "metadata": {},
   "source": [
    "## lightGBM"
   ]
  },
  {
   "cell_type": "code",
   "execution_count": 37,
   "metadata": {
    "ExecuteTime": {
     "end_time": "2019-03-26T11:59:21.662220Z",
     "start_time": "2019-03-26T11:57:52.842383Z"
    }
   },
   "outputs": [
    {
     "name": "stdout",
     "output_type": "stream",
     "text": [
      "accuracy : 0.9996 precision : 0.9323 recall : 0.8493 F1 : 0.8889 AUC : 0.9246\n",
      "[[85286     9]\n",
      " [   22   124]]\n"
     ]
    }
   ],
   "source": [
    "lgb = LGBMClassifier(n_estimators=1000, num_leaves=64, n_jobs=-1, boost_from_average = False)\n",
    "get_model_train_eval(lgb, X_train_over, X_test, y_train_over, y_test)"
   ]
  },
  {
   "cell_type": "markdown",
   "metadata": {},
   "source": [
    "- SMOTE를 사용하면, 재현율은 높아지지만, 정밀도는 낮아지는 것이 일반적."
   ]
  }
 ],
 "metadata": {
  "hide_input": false,
  "kernelspec": {
   "display_name": "Python 3",
   "language": "python",
   "name": "python3"
  },
  "language_info": {
   "codemirror_mode": {
    "name": "ipython",
    "version": 3
   },
   "file_extension": ".py",
   "mimetype": "text/x-python",
   "name": "python",
   "nbconvert_exporter": "python",
   "pygments_lexer": "ipython3",
   "version": "3.7.1"
  },
  "toc": {
   "base_numbering": 1,
   "nav_menu": {},
   "number_sections": true,
   "sideBar": true,
   "skip_h1_title": false,
   "title_cell": "Table of Contents",
   "title_sidebar": "Contents",
   "toc_cell": false,
   "toc_position": {},
   "toc_section_display": true,
   "toc_window_display": true
  }
 },
 "nbformat": 4,
 "nbformat_minor": 2
}
