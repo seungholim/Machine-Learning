{
 "cells": [
  {
   "cell_type": "markdown",
   "metadata": {},
   "source": [
    "# Hyperparameter\n",
    "## General Parameters\n",
    "디폴트를 바꾸는 일이 거의 없다.\n",
    "\n",
    "##### - booster[default : gbtree]\n",
    "- gbtree  : tree based model / gblinear : linear model\n",
    "\n",
    "##### - silent[default : 0]\n",
    "- : 출력 메시지를 나타내고 싶지 않음\n",
    "\n",
    "##### - nthread[default : 전체]\n",
    "\n",
    "\n",
    "## Booster Parameters\n",
    "트리 최적화, boosting, regularization 등\n",
    "##### - eta[default 파이썬 wrapper : 0.3 / sklearn wrapper : 0.1]\n",
    "- learning rate\n",
    "\n",
    "##### - num_boost\n",
    "- n_estimators 와 같은 파라미터\n",
    "- weak learner의 개수\n",
    "\n",
    "##### - min_child_weight[default : 1]\n",
    "- GBM의 min_child_leaf와 유사. 과적합을 조절\n",
    "\n",
    "##### - gamma [default : 0]\n",
    "- 트리의 리프 노드를 추가적으로 나눌지를 결정할 최소 손실 감소 값\n",
    "- 감마보다 큰 손실이 감소된 경우에 리프 노드를 분리.\n",
    "- 값이 클수록 과적합 감소 효과\n",
    "\n",
    "##### - max_depth[default : 6]\n",
    "- 트리의 깊이에 제한.\n",
    "- 너무 커지면, 특정 피처 조건에 특화\n",
    "- 보통 3~10\n",
    "\n",
    "##### - sub_sample[default : 1]\n",
    "- GBM의 subsample과 동일\n",
    "- 트리가 커져서 과적합되는 것을 제어하기 위해 데이터를 샘플링하는 비율.\n",
    "\n",
    "##### - colsample_bytree[default : -1]\n",
    "- 트리 생성에 필요한 피처를 임의로 샘플링하는 데 사용\n",
    "\n",
    "##### - lambda[default : 1] (reg_lambda)\n",
    "- L2 Regularization\n",
    "- 피처 개수가 많을 경우 적용을 검토하며, 값이 클수록 과적합 감소 효과\n",
    "\n",
    "##### - alpha[default : 0] (reg_alpha)\n",
    "- L1 Regularization\n",
    "- 피처 개수가 많을 경우 적용을 검토하며, 값이 클수록 과적합 감소 효과\n",
    "\n",
    "##### - scale_pos_weight [default : 1]\n",
    "- 비대칭한 클래스로 구성된 데이터 세트의 균형을 유지하기 위한파라미터\n",
    "\n",
    "## Learning Task Parameters\n",
    "학습 시의 객체 함수, 평가지표 등\n",
    "\n",
    "##### - objective\n",
    "최솟값을 가져야할 손실 함수를 정의\n",
    "\n",
    "- binary:logistic : 이진 분류\n",
    "- multi:softmax : 다중 분류.-> num_class(레이블 클래스) 지정해야 함\n",
    "- multi:softprob : 다중분류. 개별 레이블 클래스의 예측확률 분환\n",
    "##### - eval_metric\n",
    "검증에 사용되는 함수 정의.\n",
    "회귀 -> rmse / 분류 -> error\n",
    "\n",
    "- rmse, mae, logloss, error, merror,mlogloss, auc"
   ]
  },
  {
   "cell_type": "markdown",
   "metadata": {},
   "source": [
    "## overfitting 해결\n",
    "- eta를 낮춤\n",
    "- max_depth를 낮춤\n",
    "- min_child_weight값을 높임\n",
    "- gamma를 높임\n",
    "- subsample, colsample_bytree 조정\n",
    "\n",
    "## early stopping\n",
    "- 예측 오류가 더이상 개선되지 않으면 반복을 끝까지 수행하지 않고, 중지해 수행 시간을 개선\n",
    "- n_estimators = 200, early stopping = 50이면,\n",
    "- 다음 50번을 반복하는동안, 개선이 없으면 stop"
   ]
  },
  {
   "cell_type": "markdown",
   "metadata": {},
   "source": [
    "# cancer ex\n",
    "classification malignant(0) or benign(1)"
   ]
  },
  {
   "cell_type": "markdown",
   "metadata": {},
   "source": [
    "## using xgboost wrapper"
   ]
  },
  {
   "cell_type": "code",
   "execution_count": 1,
   "metadata": {
    "ExecuteTime": {
     "end_time": "2019-03-25T12:23:25.489766Z",
     "start_time": "2019-03-25T12:23:20.631764Z"
    }
   },
   "outputs": [
    {
     "name": "stdout",
     "output_type": "stream",
     "text": [
      "0.82\n"
     ]
    }
   ],
   "source": [
    "import xgboost as xgb\n",
    "print(xgb.__version__)"
   ]
  },
  {
   "cell_type": "code",
   "execution_count": 2,
   "metadata": {},
   "outputs": [],
   "source": [
    "from xgboost import plot_importance #visualize features importnace\n",
    "import pandas as pd\n",
    "import numpy as np\n",
    "\n",
    "from sklearn.datasets import load_breast_cancer\n",
    "from sklearn.model_selection import train_test_split\n",
    "\n",
    "import warnings\n",
    "warnings.filterwarnings('ignore')\n",
    "\n",
    "dataset = load_breast_cancer()\n",
    "X_features = dataset.data\n",
    "y_label = dataset.target"
   ]
  },
  {
   "cell_type": "code",
   "execution_count": 3,
   "metadata": {},
   "outputs": [
    {
     "data": {
      "text/html": [
       "<div>\n",
       "<style scoped>\n",
       "    .dataframe tbody tr th:only-of-type {\n",
       "        vertical-align: middle;\n",
       "    }\n",
       "\n",
       "    .dataframe tbody tr th {\n",
       "        vertical-align: top;\n",
       "    }\n",
       "\n",
       "    .dataframe thead th {\n",
       "        text-align: right;\n",
       "    }\n",
       "</style>\n",
       "<table border=\"1\" class=\"dataframe\">\n",
       "  <thead>\n",
       "    <tr style=\"text-align: right;\">\n",
       "      <th></th>\n",
       "      <th>mean radius</th>\n",
       "      <th>mean texture</th>\n",
       "      <th>mean perimeter</th>\n",
       "      <th>mean area</th>\n",
       "      <th>mean smoothness</th>\n",
       "      <th>mean compactness</th>\n",
       "      <th>mean concavity</th>\n",
       "      <th>mean concave points</th>\n",
       "      <th>mean symmetry</th>\n",
       "      <th>mean fractal dimension</th>\n",
       "      <th>...</th>\n",
       "      <th>worst texture</th>\n",
       "      <th>worst perimeter</th>\n",
       "      <th>worst area</th>\n",
       "      <th>worst smoothness</th>\n",
       "      <th>worst compactness</th>\n",
       "      <th>worst concavity</th>\n",
       "      <th>worst concave points</th>\n",
       "      <th>worst symmetry</th>\n",
       "      <th>worst fractal dimension</th>\n",
       "      <th>target</th>\n",
       "    </tr>\n",
       "  </thead>\n",
       "  <tbody>\n",
       "    <tr>\n",
       "      <th>0</th>\n",
       "      <td>17.99</td>\n",
       "      <td>10.38</td>\n",
       "      <td>122.80</td>\n",
       "      <td>1001.0</td>\n",
       "      <td>0.11840</td>\n",
       "      <td>0.27760</td>\n",
       "      <td>0.3001</td>\n",
       "      <td>0.14710</td>\n",
       "      <td>0.2419</td>\n",
       "      <td>0.07871</td>\n",
       "      <td>...</td>\n",
       "      <td>17.33</td>\n",
       "      <td>184.60</td>\n",
       "      <td>2019.0</td>\n",
       "      <td>0.1622</td>\n",
       "      <td>0.6656</td>\n",
       "      <td>0.7119</td>\n",
       "      <td>0.2654</td>\n",
       "      <td>0.4601</td>\n",
       "      <td>0.11890</td>\n",
       "      <td>0</td>\n",
       "    </tr>\n",
       "    <tr>\n",
       "      <th>1</th>\n",
       "      <td>20.57</td>\n",
       "      <td>17.77</td>\n",
       "      <td>132.90</td>\n",
       "      <td>1326.0</td>\n",
       "      <td>0.08474</td>\n",
       "      <td>0.07864</td>\n",
       "      <td>0.0869</td>\n",
       "      <td>0.07017</td>\n",
       "      <td>0.1812</td>\n",
       "      <td>0.05667</td>\n",
       "      <td>...</td>\n",
       "      <td>23.41</td>\n",
       "      <td>158.80</td>\n",
       "      <td>1956.0</td>\n",
       "      <td>0.1238</td>\n",
       "      <td>0.1866</td>\n",
       "      <td>0.2416</td>\n",
       "      <td>0.1860</td>\n",
       "      <td>0.2750</td>\n",
       "      <td>0.08902</td>\n",
       "      <td>0</td>\n",
       "    </tr>\n",
       "    <tr>\n",
       "      <th>2</th>\n",
       "      <td>19.69</td>\n",
       "      <td>21.25</td>\n",
       "      <td>130.00</td>\n",
       "      <td>1203.0</td>\n",
       "      <td>0.10960</td>\n",
       "      <td>0.15990</td>\n",
       "      <td>0.1974</td>\n",
       "      <td>0.12790</td>\n",
       "      <td>0.2069</td>\n",
       "      <td>0.05999</td>\n",
       "      <td>...</td>\n",
       "      <td>25.53</td>\n",
       "      <td>152.50</td>\n",
       "      <td>1709.0</td>\n",
       "      <td>0.1444</td>\n",
       "      <td>0.4245</td>\n",
       "      <td>0.4504</td>\n",
       "      <td>0.2430</td>\n",
       "      <td>0.3613</td>\n",
       "      <td>0.08758</td>\n",
       "      <td>0</td>\n",
       "    </tr>\n",
       "    <tr>\n",
       "      <th>3</th>\n",
       "      <td>11.42</td>\n",
       "      <td>20.38</td>\n",
       "      <td>77.58</td>\n",
       "      <td>386.1</td>\n",
       "      <td>0.14250</td>\n",
       "      <td>0.28390</td>\n",
       "      <td>0.2414</td>\n",
       "      <td>0.10520</td>\n",
       "      <td>0.2597</td>\n",
       "      <td>0.09744</td>\n",
       "      <td>...</td>\n",
       "      <td>26.50</td>\n",
       "      <td>98.87</td>\n",
       "      <td>567.7</td>\n",
       "      <td>0.2098</td>\n",
       "      <td>0.8663</td>\n",
       "      <td>0.6869</td>\n",
       "      <td>0.2575</td>\n",
       "      <td>0.6638</td>\n",
       "      <td>0.17300</td>\n",
       "      <td>0</td>\n",
       "    </tr>\n",
       "    <tr>\n",
       "      <th>4</th>\n",
       "      <td>20.29</td>\n",
       "      <td>14.34</td>\n",
       "      <td>135.10</td>\n",
       "      <td>1297.0</td>\n",
       "      <td>0.10030</td>\n",
       "      <td>0.13280</td>\n",
       "      <td>0.1980</td>\n",
       "      <td>0.10430</td>\n",
       "      <td>0.1809</td>\n",
       "      <td>0.05883</td>\n",
       "      <td>...</td>\n",
       "      <td>16.67</td>\n",
       "      <td>152.20</td>\n",
       "      <td>1575.0</td>\n",
       "      <td>0.1374</td>\n",
       "      <td>0.2050</td>\n",
       "      <td>0.4000</td>\n",
       "      <td>0.1625</td>\n",
       "      <td>0.2364</td>\n",
       "      <td>0.07678</td>\n",
       "      <td>0</td>\n",
       "    </tr>\n",
       "  </tbody>\n",
       "</table>\n",
       "<p>5 rows × 31 columns</p>\n",
       "</div>"
      ],
      "text/plain": [
       "   mean radius  mean texture  mean perimeter  mean area  mean smoothness  \\\n",
       "0        17.99         10.38          122.80     1001.0          0.11840   \n",
       "1        20.57         17.77          132.90     1326.0          0.08474   \n",
       "2        19.69         21.25          130.00     1203.0          0.10960   \n",
       "3        11.42         20.38           77.58      386.1          0.14250   \n",
       "4        20.29         14.34          135.10     1297.0          0.10030   \n",
       "\n",
       "   mean compactness  mean concavity  mean concave points  mean symmetry  \\\n",
       "0           0.27760          0.3001              0.14710         0.2419   \n",
       "1           0.07864          0.0869              0.07017         0.1812   \n",
       "2           0.15990          0.1974              0.12790         0.2069   \n",
       "3           0.28390          0.2414              0.10520         0.2597   \n",
       "4           0.13280          0.1980              0.10430         0.1809   \n",
       "\n",
       "   mean fractal dimension  ...  worst texture  worst perimeter  worst area  \\\n",
       "0                 0.07871  ...          17.33           184.60      2019.0   \n",
       "1                 0.05667  ...          23.41           158.80      1956.0   \n",
       "2                 0.05999  ...          25.53           152.50      1709.0   \n",
       "3                 0.09744  ...          26.50            98.87       567.7   \n",
       "4                 0.05883  ...          16.67           152.20      1575.0   \n",
       "\n",
       "   worst smoothness  worst compactness  worst concavity  worst concave points  \\\n",
       "0            0.1622             0.6656           0.7119                0.2654   \n",
       "1            0.1238             0.1866           0.2416                0.1860   \n",
       "2            0.1444             0.4245           0.4504                0.2430   \n",
       "3            0.2098             0.8663           0.6869                0.2575   \n",
       "4            0.1374             0.2050           0.4000                0.1625   \n",
       "\n",
       "   worst symmetry  worst fractal dimension  target  \n",
       "0          0.4601                  0.11890       0  \n",
       "1          0.2750                  0.08902       0  \n",
       "2          0.3613                  0.08758       0  \n",
       "3          0.6638                  0.17300       0  \n",
       "4          0.2364                  0.07678       0  \n",
       "\n",
       "[5 rows x 31 columns]"
      ]
     },
     "execution_count": 3,
     "metadata": {},
     "output_type": "execute_result"
    }
   ],
   "source": [
    "cancer = pd.DataFrame(data = X_features, columns = dataset.feature_names)\n",
    "cancer['target'] = y_label\n",
    "cancer.head()"
   ]
  },
  {
   "cell_type": "code",
   "execution_count": 4,
   "metadata": {},
   "outputs": [
    {
     "name": "stdout",
     "output_type": "stream",
     "text": [
      "['malignant' 'benign']\n",
      "1    357\n",
      "0    212\n",
      "Name: target, dtype: int64\n"
     ]
    }
   ],
   "source": [
    "#malignant : 0 / benign : 1\n",
    "print(dataset.target_names)\n",
    "print(cancer.target.value_counts())"
   ]
  },
  {
   "cell_type": "markdown",
   "metadata": {},
   "source": [
    "### train"
   ]
  },
  {
   "cell_type": "code",
   "execution_count": 5,
   "metadata": {},
   "outputs": [
    {
     "name": "stdout",
     "output_type": "stream",
     "text": [
      "X_train shape :  (455, 30) X_test shape :  (114, 30)\n"
     ]
    }
   ],
   "source": [
    "X_train, X_test, y_train, y_test = train_test_split(X_features, y_label, test_size = 0.2, random_state = 156)\n",
    "print('X_train shape : ',X_train.shape, 'X_test shape : ',X_test.shape)"
   ]
  },
  {
   "cell_type": "code",
   "execution_count": 6,
   "metadata": {
    "scrolled": true
   },
   "outputs": [
    {
     "name": "stdout",
     "output_type": "stream",
     "text": [
      "<class 'xgboost.core.DMatrix'>\n"
     ]
    }
   ],
   "source": [
    "dtrain = xgb.DMatrix(data = X_train, label = y_train)\n",
    "dtest = xgb.DMatrix(data = X_test, label = y_test)\n",
    "print(type(dtrain))"
   ]
  },
  {
   "cell_type": "code",
   "execution_count": 7,
   "metadata": {},
   "outputs": [],
   "source": [
    "params = {\n",
    "    'max_depth' : 3,\n",
    "    'eta' : 0.1,\n",
    "    'objective' : 'binary:logistic',\n",
    "    'eval_metric' : 'logloss' #early_stopping을 하려면, 반드시 있어야 함\n",
    "}\n",
    "\n",
    "num_rounds = 3000 # the number of boosting repetition"
   ]
  },
  {
   "cell_type": "code",
   "execution_count": 8,
   "metadata": {},
   "outputs": [
    {
     "name": "stdout",
     "output_type": "stream",
     "text": [
      "[0]\ttrain-logloss:0.609688\teval-logloss:0.61352\n",
      "Multiple eval metrics have been passed: 'eval-logloss' will be used for early stopping.\n",
      "\n",
      "Will train until eval-logloss hasn't improved in 100 rounds.\n",
      "[20]\ttrain-logloss:0.109688\teval-logloss:0.158202\n",
      "[40]\ttrain-logloss:0.040649\teval-logloss:0.095869\n",
      "[60]\ttrain-logloss:0.021316\teval-logloss:0.091939\n",
      "[80]\ttrain-logloss:0.014185\teval-logloss:0.087577\n",
      "[100]\ttrain-logloss:0.011002\teval-logloss:0.086498\n",
      "[120]\ttrain-logloss:0.009118\teval-logloss:0.087626\n",
      "[140]\ttrain-logloss:0.007946\teval-logloss:0.08911\n",
      "[160]\ttrain-logloss:0.007282\teval-logloss:0.08828\n",
      "[180]\ttrain-logloss:0.006901\teval-logloss:0.087038\n",
      "[200]\ttrain-logloss:0.006572\teval-logloss:0.085888\n",
      "[220]\ttrain-logloss:0.006293\teval-logloss:0.085791\n",
      "[240]\ttrain-logloss:0.006057\teval-logloss:0.08618\n",
      "[260]\ttrain-logloss:0.005855\teval-logloss:0.086461\n",
      "[280]\ttrain-logloss:0.005679\teval-logloss:0.086679\n",
      "[300]\ttrain-logloss:0.005526\teval-logloss:0.086179\n",
      "Stopping. Best iteration:\n",
      "[211]\ttrain-logloss:0.006413\teval-logloss:0.085593\n",
      "\n"
     ]
    }
   ],
   "source": [
    "wlist = [(dtrain ,'train'), (dtest, 'eval')]\n",
    "\n",
    "xgb_model = xgb.train(params=params, dtrain = dtrain, num_boost_round=num_rounds, evals = wlist, verbose_eval=20,\n",
    "                     early_stopping_rounds=100)\n",
    "#evals : early_stopping을 하려면, 반드시 있어야 함"
   ]
  },
  {
   "cell_type": "code",
   "execution_count": 9,
   "metadata": {},
   "outputs": [
    {
     "name": "stdout",
     "output_type": "stream",
     "text": [
      "best iteration :  211\n",
      "best score :  0.085593\n"
     ]
    }
   ],
   "source": [
    "print('best iteration : ', xgb_model.best_iteration)\n",
    "print('best score : ', xgb_model.best_score)"
   ]
  },
  {
   "cell_type": "markdown",
   "metadata": {},
   "source": [
    "### predict\n",
    "- default : predict  probability"
   ]
  },
  {
   "cell_type": "code",
   "execution_count": 10,
   "metadata": {},
   "outputs": [
    {
     "name": "stdout",
     "output_type": "stream",
     "text": [
      "[0.934 0.003 0.91  0.094 0.993 1.    1.    0.999 0.997 0.   ]\n",
      "[1, 0, 1, 0, 1, 1, 1, 1, 1, 0]\n"
     ]
    }
   ],
   "source": [
    "pred_prob = xgb_model.predict(dtest)\n",
    "print(np.round(pred_prob[:10], 3))\n",
    "\n",
    "# prob > 1 : 1 or prob <= 1: 0\n",
    "pred = [1 if x > 0.5 else 0 for x in pred_prob]\n",
    "print(pred[:10])"
   ]
  },
  {
   "cell_type": "code",
   "execution_count": 11,
   "metadata": {},
   "outputs": [
    {
     "name": "stdout",
     "output_type": "stream",
     "text": [
      "accuracy : 0.9737 precision : 0.9744 recall : 0.9870\n",
      "[[35  2]\n",
      " [ 1 76]]\n"
     ]
    }
   ],
   "source": [
    "from sklearn.metrics import accuracy_score\n",
    "from sklearn.metrics import recall_score\n",
    "from sklearn.metrics import precision_score\n",
    "\n",
    "from sklearn.metrics import confusion_matrix\n",
    "\n",
    "print('accuracy : {0:.4f} precision : {1:.4f} recall : {2:.4f}'.format(accuracy_score(y_test, pred), \n",
    "                                                                       precision_score(y_test, pred),\n",
    "                                                                       recall_score(y_test, pred)\n",
    "                                                                      ))\n",
    "\n",
    "print(confusion_matrix(y_test, pred))"
   ]
  },
  {
   "cell_type": "markdown",
   "metadata": {},
   "source": [
    "### feature importance plot"
   ]
  },
  {
   "cell_type": "code",
   "execution_count": 12,
   "metadata": {},
   "outputs": [
    {
     "data": {
      "text/plain": [
       "<matplotlib.axes._subplots.AxesSubplot at 0x7f2760f8a4e0>"
      ]
     },
     "execution_count": 12,
     "metadata": {},
     "output_type": "execute_result"
    }
   ],
   "source": [
    "from xgboost import plot_importance\n",
    "import matplotlib.pyplot as plt\n",
    "\n",
    "fig, ax = plt.subplots(figsize = (10,12))\n",
    "plot_importance(xgb_model, ax = ax)"
   ]
  },
  {
   "cell_type": "markdown",
   "metadata": {},
   "source": [
    "### cv"
   ]
  },
  {
   "cell_type": "code",
   "execution_count": 13,
   "metadata": {},
   "outputs": [
    {
     "data": {
      "text/plain": [
       "{'eta': 0.1,\n",
       " 'eval_metric': 'logloss',\n",
       " 'max_depth': 3,\n",
       " 'objective': 'binary:logistic'}"
      ]
     },
     "execution_count": 13,
     "metadata": {},
     "output_type": "execute_result"
    }
   ],
   "source": [
    "params"
   ]
  },
  {
   "cell_type": "code",
   "execution_count": 14,
   "metadata": {},
   "outputs": [
    {
     "data": {
      "text/html": [
       "<div>\n",
       "<style scoped>\n",
       "    .dataframe tbody tr th:only-of-type {\n",
       "        vertical-align: middle;\n",
       "    }\n",
       "\n",
       "    .dataframe tbody tr th {\n",
       "        vertical-align: top;\n",
       "    }\n",
       "\n",
       "    .dataframe thead th {\n",
       "        text-align: right;\n",
       "    }\n",
       "</style>\n",
       "<table border=\"1\" class=\"dataframe\">\n",
       "  <thead>\n",
       "    <tr style=\"text-align: right;\">\n",
       "      <th></th>\n",
       "      <th>test-logloss-mean</th>\n",
       "      <th>test-logloss-std</th>\n",
       "      <th>train-logloss-mean</th>\n",
       "      <th>train-logloss-std</th>\n",
       "    </tr>\n",
       "  </thead>\n",
       "  <tbody>\n",
       "    <tr>\n",
       "      <th>0</th>\n",
       "      <td>0.617448</td>\n",
       "      <td>0.004961</td>\n",
       "      <td>0.610037</td>\n",
       "      <td>0.000064</td>\n",
       "    </tr>\n",
       "    <tr>\n",
       "      <th>1</th>\n",
       "      <td>0.555140</td>\n",
       "      <td>0.008989</td>\n",
       "      <td>0.541817</td>\n",
       "      <td>0.000203</td>\n",
       "    </tr>\n",
       "    <tr>\n",
       "      <th>2</th>\n",
       "      <td>0.503529</td>\n",
       "      <td>0.012238</td>\n",
       "      <td>0.483717</td>\n",
       "      <td>0.000955</td>\n",
       "    </tr>\n",
       "    <tr>\n",
       "      <th>3</th>\n",
       "      <td>0.459869</td>\n",
       "      <td>0.015795</td>\n",
       "      <td>0.434676</td>\n",
       "      <td>0.001311</td>\n",
       "    </tr>\n",
       "    <tr>\n",
       "      <th>4</th>\n",
       "      <td>0.423058</td>\n",
       "      <td>0.016788</td>\n",
       "      <td>0.392310</td>\n",
       "      <td>0.001686</td>\n",
       "    </tr>\n",
       "    <tr>\n",
       "      <th>5</th>\n",
       "      <td>0.391187</td>\n",
       "      <td>0.019785</td>\n",
       "      <td>0.355129</td>\n",
       "      <td>0.001390</td>\n",
       "    </tr>\n",
       "    <tr>\n",
       "      <th>6</th>\n",
       "      <td>0.361119</td>\n",
       "      <td>0.019378</td>\n",
       "      <td>0.322530</td>\n",
       "      <td>0.001909</td>\n",
       "    </tr>\n",
       "    <tr>\n",
       "      <th>7</th>\n",
       "      <td>0.337139</td>\n",
       "      <td>0.021085</td>\n",
       "      <td>0.294159</td>\n",
       "      <td>0.001618</td>\n",
       "    </tr>\n",
       "    <tr>\n",
       "      <th>8</th>\n",
       "      <td>0.314902</td>\n",
       "      <td>0.019971</td>\n",
       "      <td>0.269083</td>\n",
       "      <td>0.002068</td>\n",
       "    </tr>\n",
       "    <tr>\n",
       "      <th>9</th>\n",
       "      <td>0.295012</td>\n",
       "      <td>0.019237</td>\n",
       "      <td>0.246208</td>\n",
       "      <td>0.001940</td>\n",
       "    </tr>\n",
       "  </tbody>\n",
       "</table>\n",
       "</div>"
      ],
      "text/plain": [
       "   test-logloss-mean  test-logloss-std  train-logloss-mean  train-logloss-std\n",
       "0           0.617448          0.004961            0.610037           0.000064\n",
       "1           0.555140          0.008989            0.541817           0.000203\n",
       "2           0.503529          0.012238            0.483717           0.000955\n",
       "3           0.459869          0.015795            0.434676           0.001311\n",
       "4           0.423058          0.016788            0.392310           0.001686\n",
       "5           0.391187          0.019785            0.355129           0.001390\n",
       "6           0.361119          0.019378            0.322530           0.001909\n",
       "7           0.337139          0.021085            0.294159           0.001618\n",
       "8           0.314902          0.019971            0.269083           0.002068\n",
       "9           0.295012          0.019237            0.246208           0.001940"
      ]
     },
     "execution_count": 14,
     "metadata": {},
     "output_type": "execute_result"
    }
   ],
   "source": [
    "xgb.cv(params, dtrain, num_boost_round=10, nfold = 3, stratified=False, folds = None)\n",
    "#num_boost_round : the number of iteration\n",
    "#nfold : the number of cv sample"
   ]
  },
  {
   "cell_type": "code",
   "execution_count": 15,
   "metadata": {},
   "outputs": [
    {
     "data": {
      "text/plain": [
       "0.085593"
      ]
     },
     "execution_count": 15,
     "metadata": {},
     "output_type": "execute_result"
    }
   ],
   "source": [
    "xgb_model.best_score"
   ]
  },
  {
   "cell_type": "markdown",
   "metadata": {},
   "source": [
    "## sklearn wrapper\n",
    "- eta -> learning_rate\n",
    "- sub_sample -> subsample\n",
    "- lambda -> reg_lambda\n",
    "- alpha -> reg_alpha"
   ]
  },
  {
   "cell_type": "code",
   "execution_count": 16,
   "metadata": {},
   "outputs": [],
   "source": [
    "from xgboost import XGBClassifier\n",
    "\n",
    "xgb_wrapper = XGBClassifier(n_estimators=400, learning_rate=0.1, max_depth=3)\n",
    "xgb_wrapper.fit(X_train ,y_train)\n",
    "w_pred = xgb_wrapper.predict(X_test)"
   ]
  },
  {
   "cell_type": "code",
   "execution_count": 17,
   "metadata": {},
   "outputs": [
    {
     "name": "stdout",
     "output_type": "stream",
     "text": [
      "accuracy : 0.9737 precision : 0.9744 recall : 0.9870\n",
      "[[35  2]\n",
      " [ 1 76]]\n"
     ]
    }
   ],
   "source": [
    "print('accuracy : {0:.4f} precision : {1:.4f} recall : {2:.4f}'.format(accuracy_score(y_test, pred), \n",
    "                                                                       precision_score(y_test, pred),\n",
    "                                                                       recall_score(y_test, pred)\n",
    "                                                                      ))\n",
    "\n",
    "print(confusion_matrix(y_test, pred))"
   ]
  },
  {
   "cell_type": "markdown",
   "metadata": {},
   "source": [
    "### early stopping\n",
    "- eval_metric, eval_set 필수"
   ]
  },
  {
   "cell_type": "code",
   "execution_count": 28,
   "metadata": {},
   "outputs": [
    {
     "name": "stdout",
     "output_type": "stream",
     "text": [
      "[0]\tvalidation_0-logloss:0.61352\n",
      "Will train until validation_0-logloss hasn't improved in 100 rounds.\n",
      "[1]\tvalidation_0-logloss:0.547842\n",
      "[2]\tvalidation_0-logloss:0.494248\n",
      "[3]\tvalidation_0-logloss:0.447986\n",
      "[4]\tvalidation_0-logloss:0.409109\n",
      "[5]\tvalidation_0-logloss:0.374977\n",
      "[6]\tvalidation_0-logloss:0.345714\n",
      "[7]\tvalidation_0-logloss:0.320529\n",
      "[8]\tvalidation_0-logloss:0.29721\n",
      "[9]\tvalidation_0-logloss:0.277991\n",
      "[10]\tvalidation_0-logloss:0.260302\n",
      "[11]\tvalidation_0-logloss:0.246037\n",
      "[12]\tvalidation_0-logloss:0.231556\n",
      "[13]\tvalidation_0-logloss:0.22005\n",
      "[14]\tvalidation_0-logloss:0.208572\n",
      "[15]\tvalidation_0-logloss:0.199993\n",
      "[16]\tvalidation_0-logloss:0.190118\n",
      "[17]\tvalidation_0-logloss:0.181818\n",
      "[18]\tvalidation_0-logloss:0.174729\n",
      "[19]\tvalidation_0-logloss:0.167657\n",
      "[20]\tvalidation_0-logloss:0.158202\n",
      "[21]\tvalidation_0-logloss:0.154725\n",
      "[22]\tvalidation_0-logloss:0.148947\n",
      "[23]\tvalidation_0-logloss:0.143308\n",
      "[24]\tvalidation_0-logloss:0.136344\n",
      "[25]\tvalidation_0-logloss:0.132778\n",
      "[26]\tvalidation_0-logloss:0.127912\n",
      "[27]\tvalidation_0-logloss:0.125263\n",
      "[28]\tvalidation_0-logloss:0.119978\n",
      "[29]\tvalidation_0-logloss:0.116412\n",
      "[30]\tvalidation_0-logloss:0.114502\n",
      "[31]\tvalidation_0-logloss:0.112572\n",
      "[32]\tvalidation_0-logloss:0.11154\n",
      "[33]\tvalidation_0-logloss:0.108681\n",
      "[34]\tvalidation_0-logloss:0.106681\n",
      "[35]\tvalidation_0-logloss:0.104207\n",
      "[36]\tvalidation_0-logloss:0.102962\n",
      "[37]\tvalidation_0-logloss:0.100576\n",
      "[38]\tvalidation_0-logloss:0.098683\n",
      "[39]\tvalidation_0-logloss:0.096444\n",
      "[40]\tvalidation_0-logloss:0.095869\n",
      "[41]\tvalidation_0-logloss:0.094242\n",
      "[42]\tvalidation_0-logloss:0.094715\n",
      "[43]\tvalidation_0-logloss:0.094272\n",
      "[44]\tvalidation_0-logloss:0.093894\n",
      "[45]\tvalidation_0-logloss:0.094184\n",
      "[46]\tvalidation_0-logloss:0.09402\n",
      "[47]\tvalidation_0-logloss:0.09236\n",
      "[48]\tvalidation_0-logloss:0.093012\n",
      "[49]\tvalidation_0-logloss:0.091273\n",
      "[50]\tvalidation_0-logloss:0.090051\n",
      "[51]\tvalidation_0-logloss:0.089605\n",
      "[52]\tvalidation_0-logloss:0.089577\n",
      "[53]\tvalidation_0-logloss:0.090703\n",
      "[54]\tvalidation_0-logloss:0.089579\n",
      "[55]\tvalidation_0-logloss:0.090357\n",
      "[56]\tvalidation_0-logloss:0.091587\n",
      "[57]\tvalidation_0-logloss:0.091527\n",
      "[58]\tvalidation_0-logloss:0.091986\n",
      "[59]\tvalidation_0-logloss:0.091951\n",
      "[60]\tvalidation_0-logloss:0.091939\n",
      "[61]\tvalidation_0-logloss:0.091461\n",
      "[62]\tvalidation_0-logloss:0.090311\n",
      "[63]\tvalidation_0-logloss:0.089407\n",
      "[64]\tvalidation_0-logloss:0.089719\n",
      "[65]\tvalidation_0-logloss:0.089743\n",
      "[66]\tvalidation_0-logloss:0.089622\n",
      "[67]\tvalidation_0-logloss:0.088734\n",
      "[68]\tvalidation_0-logloss:0.088621\n",
      "[69]\tvalidation_0-logloss:0.089739\n",
      "[70]\tvalidation_0-logloss:0.089981\n",
      "[71]\tvalidation_0-logloss:0.089782\n",
      "[72]\tvalidation_0-logloss:0.089584\n",
      "[73]\tvalidation_0-logloss:0.089533\n",
      "[74]\tvalidation_0-logloss:0.088748\n",
      "[75]\tvalidation_0-logloss:0.088597\n",
      "[76]\tvalidation_0-logloss:0.08812\n",
      "[77]\tvalidation_0-logloss:0.088396\n",
      "[78]\tvalidation_0-logloss:0.088736\n",
      "[79]\tvalidation_0-logloss:0.088153\n",
      "[80]\tvalidation_0-logloss:0.087577\n",
      "[81]\tvalidation_0-logloss:0.087412\n",
      "[82]\tvalidation_0-logloss:0.08849\n",
      "[83]\tvalidation_0-logloss:0.088575\n",
      "[84]\tvalidation_0-logloss:0.08807\n",
      "[85]\tvalidation_0-logloss:0.087641\n",
      "[86]\tvalidation_0-logloss:0.087416\n",
      "[87]\tvalidation_0-logloss:0.087611\n",
      "[88]\tvalidation_0-logloss:0.087065\n",
      "[89]\tvalidation_0-logloss:0.08727\n",
      "[90]\tvalidation_0-logloss:0.087161\n",
      "[91]\tvalidation_0-logloss:0.086962\n",
      "[92]\tvalidation_0-logloss:0.087166\n",
      "[93]\tvalidation_0-logloss:0.087067\n",
      "[94]\tvalidation_0-logloss:0.086592\n",
      "[95]\tvalidation_0-logloss:0.086116\n",
      "[96]\tvalidation_0-logloss:0.087139\n",
      "[97]\tvalidation_0-logloss:0.086768\n",
      "[98]\tvalidation_0-logloss:0.086694\n",
      "[99]\tvalidation_0-logloss:0.086547\n",
      "[100]\tvalidation_0-logloss:0.086498\n",
      "[101]\tvalidation_0-logloss:0.08641\n",
      "[102]\tvalidation_0-logloss:0.086288\n",
      "[103]\tvalidation_0-logloss:0.086258\n",
      "[104]\tvalidation_0-logloss:0.086835\n",
      "[105]\tvalidation_0-logloss:0.086767\n",
      "[106]\tvalidation_0-logloss:0.087321\n",
      "[107]\tvalidation_0-logloss:0.087304\n",
      "[108]\tvalidation_0-logloss:0.08728\n",
      "[109]\tvalidation_0-logloss:0.087298\n",
      "[110]\tvalidation_0-logloss:0.087289\n",
      "[111]\tvalidation_0-logloss:0.088002\n",
      "[112]\tvalidation_0-logloss:0.087936\n",
      "[113]\tvalidation_0-logloss:0.087843\n",
      "[114]\tvalidation_0-logloss:0.088066\n",
      "[115]\tvalidation_0-logloss:0.087649\n",
      "[116]\tvalidation_0-logloss:0.087298\n",
      "[117]\tvalidation_0-logloss:0.087799\n",
      "[118]\tvalidation_0-logloss:0.087751\n",
      "[119]\tvalidation_0-logloss:0.08768\n",
      "[120]\tvalidation_0-logloss:0.087626\n",
      "[121]\tvalidation_0-logloss:0.08757\n",
      "[122]\tvalidation_0-logloss:0.087547\n",
      "[123]\tvalidation_0-logloss:0.087156\n",
      "[124]\tvalidation_0-logloss:0.08767\n",
      "[125]\tvalidation_0-logloss:0.087737\n",
      "[126]\tvalidation_0-logloss:0.088275\n",
      "[127]\tvalidation_0-logloss:0.088309\n",
      "[128]\tvalidation_0-logloss:0.088266\n",
      "[129]\tvalidation_0-logloss:0.087886\n",
      "[130]\tvalidation_0-logloss:0.088861\n",
      "[131]\tvalidation_0-logloss:0.088675\n",
      "[132]\tvalidation_0-logloss:0.088743\n",
      "[133]\tvalidation_0-logloss:0.089218\n",
      "[134]\tvalidation_0-logloss:0.089179\n",
      "[135]\tvalidation_0-logloss:0.088821\n",
      "[136]\tvalidation_0-logloss:0.088512\n",
      "[137]\tvalidation_0-logloss:0.08848\n",
      "[138]\tvalidation_0-logloss:0.088386\n",
      "[139]\tvalidation_0-logloss:0.089145\n",
      "[140]\tvalidation_0-logloss:0.08911\n",
      "[141]\tvalidation_0-logloss:0.088765\n",
      "[142]\tvalidation_0-logloss:0.088678\n",
      "[143]\tvalidation_0-logloss:0.088389\n",
      "[144]\tvalidation_0-logloss:0.089271\n",
      "[145]\tvalidation_0-logloss:0.089238\n",
      "[146]\tvalidation_0-logloss:0.089139\n",
      "[147]\tvalidation_0-logloss:0.088907\n",
      "[148]\tvalidation_0-logloss:0.089416\n",
      "[149]\tvalidation_0-logloss:0.089388\n",
      "[150]\tvalidation_0-logloss:0.089108\n",
      "[151]\tvalidation_0-logloss:0.088735\n",
      "[152]\tvalidation_0-logloss:0.088717\n",
      "[153]\tvalidation_0-logloss:0.088484\n",
      "[154]\tvalidation_0-logloss:0.088471\n",
      "[155]\tvalidation_0-logloss:0.088545\n",
      "[156]\tvalidation_0-logloss:0.088521\n",
      "[157]\tvalidation_0-logloss:0.088547\n",
      "[158]\tvalidation_0-logloss:0.088275\n",
      "[159]\tvalidation_0-logloss:0.0883\n",
      "[160]\tvalidation_0-logloss:0.08828\n",
      "[161]\tvalidation_0-logloss:0.088013\n",
      "[162]\tvalidation_0-logloss:0.087758\n",
      "[163]\tvalidation_0-logloss:0.087784\n",
      "[164]\tvalidation_0-logloss:0.087777\n",
      "[165]\tvalidation_0-logloss:0.087517\n",
      "[166]\tvalidation_0-logloss:0.087542\n",
      "[167]\tvalidation_0-logloss:0.087642\n",
      "[168]\tvalidation_0-logloss:0.08739\n",
      "[169]\tvalidation_0-logloss:0.087377\n",
      "[170]\tvalidation_0-logloss:0.087298\n",
      "[171]\tvalidation_0-logloss:0.087368\n",
      "[172]\tvalidation_0-logloss:0.087395\n",
      "[173]\tvalidation_0-logloss:0.087385\n",
      "[174]\tvalidation_0-logloss:0.087132\n",
      "[175]\tvalidation_0-logloss:0.087159\n",
      "[176]\tvalidation_0-logloss:0.086955\n",
      "[177]\tvalidation_0-logloss:0.087053\n",
      "[178]\tvalidation_0-logloss:0.08697\n",
      "[179]\tvalidation_0-logloss:0.086973\n",
      "[180]\tvalidation_0-logloss:0.087038\n",
      "[181]\tvalidation_0-logloss:0.086799\n",
      "[182]\tvalidation_0-logloss:0.086826\n",
      "[183]\tvalidation_0-logloss:0.086582\n",
      "[184]\tvalidation_0-logloss:0.086588\n",
      "[185]\tvalidation_0-logloss:0.086614\n",
      "[186]\tvalidation_0-logloss:0.086372\n",
      "[187]\tvalidation_0-logloss:0.086369\n",
      "[188]\tvalidation_0-logloss:0.086297\n",
      "[189]\tvalidation_0-logloss:0.086104\n",
      "[190]\tvalidation_0-logloss:0.086023\n",
      "[191]\tvalidation_0-logloss:0.08605\n",
      "[192]\tvalidation_0-logloss:0.086149\n",
      "[193]\tvalidation_0-logloss:0.085916\n",
      "[194]\tvalidation_0-logloss:0.085915\n",
      "[195]\tvalidation_0-logloss:0.085984\n",
      "[196]\tvalidation_0-logloss:0.086012\n",
      "[197]\tvalidation_0-logloss:0.085922\n",
      "[198]\tvalidation_0-logloss:0.085853\n",
      "[199]\tvalidation_0-logloss:0.085874\n",
      "[200]\tvalidation_0-logloss:0.085888\n",
      "[201]\tvalidation_0-logloss:0.08595\n",
      "[202]\tvalidation_0-logloss:0.08573\n",
      "[203]\tvalidation_0-logloss:0.08573\n",
      "[204]\tvalidation_0-logloss:0.085753\n",
      "[205]\tvalidation_0-logloss:0.085821\n",
      "[206]\tvalidation_0-logloss:0.08584\n",
      "[207]\tvalidation_0-logloss:0.085776\n",
      "[208]\tvalidation_0-logloss:0.085686\n",
      "[209]\tvalidation_0-logloss:0.08571\n",
      "[210]\tvalidation_0-logloss:0.085806\n",
      "[211]\tvalidation_0-logloss:0.085593\n",
      "[212]\tvalidation_0-logloss:0.085801\n",
      "[213]\tvalidation_0-logloss:0.085807\n",
      "[214]\tvalidation_0-logloss:0.085744\n",
      "[215]\tvalidation_0-logloss:0.085658\n",
      "[216]\tvalidation_0-logloss:0.085843\n",
      "[217]\tvalidation_0-logloss:0.085632\n",
      "[218]\tvalidation_0-logloss:0.085726\n",
      "[219]\tvalidation_0-logloss:0.085783\n",
      "[220]\tvalidation_0-logloss:0.085791\n",
      "[221]\tvalidation_0-logloss:0.085817\n",
      "[222]\tvalidation_0-logloss:0.085757\n",
      "[223]\tvalidation_0-logloss:0.085674\n",
      "[224]\tvalidation_0-logloss:0.08586\n",
      "[225]\tvalidation_0-logloss:0.085871\n",
      "[226]\tvalidation_0-logloss:0.085927\n",
      "[227]\tvalidation_0-logloss:0.085954\n",
      "[228]\tvalidation_0-logloss:0.085874\n",
      "[229]\tvalidation_0-logloss:0.086057\n"
     ]
    },
    {
     "name": "stdout",
     "output_type": "stream",
     "text": [
      "[230]\tvalidation_0-logloss:0.086002\n",
      "[231]\tvalidation_0-logloss:0.085922\n",
      "[232]\tvalidation_0-logloss:0.086102\n",
      "[233]\tvalidation_0-logloss:0.086115\n",
      "[234]\tvalidation_0-logloss:0.086169\n",
      "[235]\tvalidation_0-logloss:0.086263\n",
      "[236]\tvalidation_0-logloss:0.086291\n",
      "[237]\tvalidation_0-logloss:0.086217\n",
      "[238]\tvalidation_0-logloss:0.086395\n",
      "[239]\tvalidation_0-logloss:0.086342\n",
      "[240]\tvalidation_0-logloss:0.08618\n",
      "[241]\tvalidation_0-logloss:0.086195\n",
      "[242]\tvalidation_0-logloss:0.086248\n",
      "[243]\tvalidation_0-logloss:0.086263\n",
      "[244]\tvalidation_0-logloss:0.086293\n",
      "[245]\tvalidation_0-logloss:0.086222\n",
      "[246]\tvalidation_0-logloss:0.086398\n",
      "[247]\tvalidation_0-logloss:0.086347\n",
      "[248]\tvalidation_0-logloss:0.086276\n",
      "[249]\tvalidation_0-logloss:0.086448\n",
      "[250]\tvalidation_0-logloss:0.086294\n",
      "[251]\tvalidation_0-logloss:0.086312\n",
      "[252]\tvalidation_0-logloss:0.086364\n",
      "[253]\tvalidation_0-logloss:0.086394\n",
      "[254]\tvalidation_0-logloss:0.08649\n",
      "[255]\tvalidation_0-logloss:0.086441\n",
      "[256]\tvalidation_0-logloss:0.08629\n",
      "[257]\tvalidation_0-logloss:0.086459\n",
      "[258]\tvalidation_0-logloss:0.086391\n",
      "[259]\tvalidation_0-logloss:0.086441\n",
      "[260]\tvalidation_0-logloss:0.086461\n",
      "[261]\tvalidation_0-logloss:0.086491\n",
      "[262]\tvalidation_0-logloss:0.086445\n",
      "[263]\tvalidation_0-logloss:0.086466\n",
      "[264]\tvalidation_0-logloss:0.086319\n",
      "[265]\tvalidation_0-logloss:0.086488\n",
      "[266]\tvalidation_0-logloss:0.086538\n",
      "[267]\tvalidation_0-logloss:0.086471\n",
      "[268]\tvalidation_0-logloss:0.086501\n",
      "[269]\tvalidation_0-logloss:0.086522\n",
      "[270]\tvalidation_0-logloss:0.086689\n",
      "[271]\tvalidation_0-logloss:0.086738\n",
      "[272]\tvalidation_0-logloss:0.08683\n",
      "[273]\tvalidation_0-logloss:0.086684\n",
      "[274]\tvalidation_0-logloss:0.08664\n",
      "[275]\tvalidation_0-logloss:0.086496\n",
      "[276]\tvalidation_0-logloss:0.086355\n",
      "[277]\tvalidation_0-logloss:0.086519\n",
      "[278]\tvalidation_0-logloss:0.086567\n",
      "[279]\tvalidation_0-logloss:0.08659\n",
      "[280]\tvalidation_0-logloss:0.086679\n",
      "[281]\tvalidation_0-logloss:0.086637\n",
      "[282]\tvalidation_0-logloss:0.086499\n",
      "[283]\tvalidation_0-logloss:0.086356\n",
      "[284]\tvalidation_0-logloss:0.086405\n",
      "[285]\tvalidation_0-logloss:0.086429\n",
      "[286]\tvalidation_0-logloss:0.086456\n",
      "[287]\tvalidation_0-logloss:0.086504\n",
      "[288]\tvalidation_0-logloss:0.08637\n",
      "[289]\tvalidation_0-logloss:0.086457\n",
      "[290]\tvalidation_0-logloss:0.086453\n",
      "[291]\tvalidation_0-logloss:0.086322\n",
      "[292]\tvalidation_0-logloss:0.086284\n",
      "[293]\tvalidation_0-logloss:0.086148\n",
      "[294]\tvalidation_0-logloss:0.086196\n",
      "[295]\tvalidation_0-logloss:0.086221\n",
      "[296]\tvalidation_0-logloss:0.086308\n",
      "[297]\tvalidation_0-logloss:0.086178\n",
      "[298]\tvalidation_0-logloss:0.086263\n",
      "[299]\tvalidation_0-logloss:0.086131\n",
      "[300]\tvalidation_0-logloss:0.086179\n",
      "[301]\tvalidation_0-logloss:0.086052\n",
      "[302]\tvalidation_0-logloss:0.086016\n",
      "[303]\tvalidation_0-logloss:0.086101\n",
      "[304]\tvalidation_0-logloss:0.085977\n",
      "[305]\tvalidation_0-logloss:0.086059\n",
      "[306]\tvalidation_0-logloss:0.085971\n",
      "[307]\tvalidation_0-logloss:0.085998\n",
      "[308]\tvalidation_0-logloss:0.085998\n",
      "[309]\tvalidation_0-logloss:0.085877\n",
      "[310]\tvalidation_0-logloss:0.085923\n",
      "[311]\tvalidation_0-logloss:0.085948\n",
      "Stopping. Best iteration:\n",
      "[211]\tvalidation_0-logloss:0.085593\n",
      "\n"
     ]
    }
   ],
   "source": [
    "xgb_wrapper = XGBClassifier(n_estimators=400, learning_rate=0.1, max_depth=3)\n",
    "evals = [(X_test, y_test)] #원래는 y_test를 모르기 때문에 사용할 수 없음\n",
    "\n",
    "xgb_wrapper.fit(X_train, y_train, early_stopping_rounds=100, eval_metric=\"logloss\", eval_set=evals, verbose=True)\n",
    "\n",
    "wrapper_pred = xgb_wrapper.predict(X_test)\n",
    "\n",
    "#400번 수행하지 않고, 311번 반복 후 학습 완료.\n",
    "#211번 반복 시 logloss가 0.085593이고 311번 때 0.085498인데\n",
    "#211번에서 311번까지 early_stopping_rounds = 100번만큼 반복하는 동안 성능 평가 지수가 향상되지 않음"
   ]
  },
  {
   "cell_type": "code",
   "execution_count": 29,
   "metadata": {},
   "outputs": [
    {
     "name": "stdout",
     "output_type": "stream",
     "text": [
      "accuracy : 0.9649 precision : 0.9620 recall : 0.9870\n",
      "[[34  3]\n",
      " [ 1 76]]\n"
     ]
    }
   ],
   "source": [
    "print('accuracy : {0:.4f} precision : {1:.4f} recall : {2:.4f}'.format(accuracy_score(y_test, wrapper_pred), \n",
    "                                                                       precision_score(y_test, wrapper_pred),\n",
    "                                                                       recall_score(y_test, wrapper_pred)\n",
    "                                                                      ))\n",
    "\n",
    "print(confusion_matrix(y_test, wrapper_pred))"
   ]
  },
  {
   "cell_type": "code",
   "execution_count": 30,
   "metadata": {},
   "outputs": [],
   "source": [
    "from xgboost import plot_importance\n",
    "import matplotlib.pyplot as plt"
   ]
  },
  {
   "cell_type": "code",
   "execution_count": 31,
   "metadata": {},
   "outputs": [
    {
     "data": {
      "text/plain": [
       "<matplotlib.axes._subplots.AxesSubplot at 0x7f276036c400>"
      ]
     },
     "execution_count": 31,
     "metadata": {},
     "output_type": "execute_result"
    },
    {
     "data": {
      "image/png": "[encoded data removed]",
      "text/plain": [
       "<Figure size 720x864 with 1 Axes>"
      ]
     },
     "metadata": {
      "needs_background": "light"
     },
     "output_type": "display_data"
    }
   ],
   "source": [
    "fig,ax = plt.subplots(figsize = (10,12))\n",
    "plot_importance(xgb_wrapper, ax = ax)"
   ]
  }
 ],
 "metadata": {
  "hide_input": false,
  "kernelspec": {
   "display_name": "Python 3",
   "language": "python",
   "name": "python3"
  },
  "language_info": {
   "codemirror_mode": {
    "name": "ipython",
    "version": 3
   },
   "file_extension": ".py",
   "mimetype": "text/x-python",
   "name": "python",
   "nbconvert_exporter": "python",
   "pygments_lexer": "ipython3",
   "version": "3.5.2"
  },
  "toc": {
   "base_numbering": 1,
   "nav_menu": {},
   "number_sections": true,
   "sideBar": true,
   "skip_h1_title": false,
   "title_cell": "Table of Contents",
   "title_sidebar": "Contents",
   "toc_cell": false,
   "toc_position": {},
   "toc_section_display": true,
   "toc_window_display": true
  }
 },
 "nbformat": 4,
 "nbformat_minor": 2
}
